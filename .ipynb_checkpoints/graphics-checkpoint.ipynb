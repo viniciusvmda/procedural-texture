{
 "cells": [
  {
   "cell_type": "code",
   "execution_count": 1,
   "metadata": {},
   "outputs": [],
   "source": [
    "import matplotlib.pyplot as plt\n",
    "import csv\n",
    "import numpy as np\n",
    "import sys\n",
    "\n",
    "images = ['chess', 'brick', 'granite', 'grass', 'water', 'sky']\n",
    "names = { \n",
    "  'chess': 'Xadrez',\n",
    "  'brick': 'Tijolos',\n",
    "  'granite': 'Granito',\n",
    "  'grass': \"Grama\",\n",
    "  'water': 'Água',\n",
    "  'sky': 'Céu'\n",
    "}"
   ]
  },
  {
   "cell_type": "code",
   "execution_count": 8,
   "metadata": {},
   "outputs": [
    {
     "data": {
      "text/plain": [
       "<Figure size 432x288 with 0 Axes>"
      ]
     },
     "metadata": {},
     "output_type": "display_data"
    },
    {
     "data": {
      "text/plain": [
       "<Figure size 432x288 with 0 Axes>"
      ]
     },
     "metadata": {},
     "output_type": "display_data"
    },
    {
     "data": {
      "text/plain": [
       "<Figure size 432x288 with 0 Axes>"
      ]
     },
     "metadata": {},
     "output_type": "display_data"
    },
    {
     "data": {
      "text/plain": [
       "<Figure size 432x288 with 0 Axes>"
      ]
     },
     "metadata": {},
     "output_type": "display_data"
    },
    {
     "data": {
      "text/plain": [
       "<Figure size 432x288 with 0 Axes>"
      ]
     },
     "metadata": {},
     "output_type": "display_data"
    },
    {
     "data": {
      "text/plain": [
       "<Figure size 432x288 with 0 Axes>"
      ]
     },
     "metadata": {},
     "output_type": "display_data"
    }
   ],
   "source": [
    "# aptidao\n",
    "\n",
    "for img in images:\n",
    "  x=[]\n",
    "  yMin=[]\n",
    "  yMax=[]\n",
    "  yAvg=[]\n",
    "\n",
    "  for i in range(0, 2):\n",
    "    with open('results/' + img + str(i) + '.csv', 'r') as csvfile:\n",
    "        plots= csv.reader(csvfile, delimiter=',')\n",
    "\n",
    "        x = []\n",
    "        yMinAux = []\n",
    "        yMaxAux = []\n",
    "        yAvgAux = []\n",
    "        for row in plots:\n",
    "            x.append(int(row[0]))\n",
    "            yMinAux.append(float(row[1]))\n",
    "            yMaxAux.append(float(row[2]))\n",
    "            yAvgAux.append(float(row[3]))\n",
    "\n",
    "        yMin.append(yMinAux)\n",
    "        yMax.append(yMaxAux)\n",
    "        yAvg.append(yAvgAux)\n",
    "\n",
    "\n",
    "  plt.figure()\n",
    "  # plt.plot(x, yMin[0], yMin[1], 'k--', color='blue')\n",
    "  plt.plot(x, yMax[0], yMax[1], 'k--', color='red')\n",
    "  plt.plot(x, yAvg[0], yAvg[1], 'k--', color='blue')\n",
    "\n",
    "  plt.title('Aptidão x Geração (' + names[img] + ')')\n",
    "\n",
    "  plt.xlabel('Geração')\n",
    "  plt.ylabel('Aptidão')\n",
    "\n",
    "  plt.xlim((0,15))\n",
    "  plt.ylim((0,1))\n",
    "\n",
    "  plt.legend(['Aptidão máxima (1º teste)', 'Aptidão máxima (2º teste)', 'Aptidão média (1º teste)', 'Aptidão média (2º teste)'], loc=4)\n",
    "  \n",
    "  plt.savefig('results/graph' + img + '.pdf')\n",
    "#   plt.show()\n",
    "  plt.clf()\n"
   ]
  },
  {
   "cell_type": "code",
   "execution_count": 154,
   "metadata": {},
   "outputs": [
    {
     "data": {
      "text/plain": [
       "<Figure size 432x288 with 0 Axes>"
      ]
     },
     "metadata": {},
     "output_type": "display_data"
    },
    {
     "data": {
      "text/plain": [
       "<Figure size 432x288 with 0 Axes>"
      ]
     },
     "metadata": {},
     "output_type": "display_data"
    },
    {
     "data": {
      "text/plain": [
       "<Figure size 432x288 with 0 Axes>"
      ]
     },
     "metadata": {},
     "output_type": "display_data"
    },
    {
     "data": {
      "text/plain": [
       "<Figure size 432x288 with 0 Axes>"
      ]
     },
     "metadata": {},
     "output_type": "display_data"
    },
    {
     "data": {
      "text/plain": [
       "<Figure size 432x288 with 0 Axes>"
      ]
     },
     "metadata": {},
     "output_type": "display_data"
    },
    {
     "data": {
      "text/plain": [
       "<Figure size 432x288 with 0 Axes>"
      ]
     },
     "metadata": {},
     "output_type": "display_data"
    }
   ],
   "source": [
    "# tempo\n",
    "\n",
    "for img in images:\n",
    "  x=[]\n",
    "  t=[]\n",
    "  tMed=[]\n",
    "  for i in range(0, 2):\n",
    "    with open('results/' + img + str(i) + '.csv', 'r') as csvfile:\n",
    "      plots= csv.reader(csvfile, delimiter=',')\n",
    "      x=[]\n",
    "      tAux = []\n",
    "      for row in plots:\n",
    "        x.append(int(row[0]))\n",
    "        tAux.append(float(row[5])/60)\n",
    "    t.append(tAux)\n",
    "    \n",
    "  tMed = ((np.array(t[0]) + np.array(t[1])) / 2)\n",
    "    \n",
    "  plt.figure()\n",
    "  plt.plot(x, t[0], t[1], 'k--', color='red')\n",
    "  plt.plot(x, tMed, color='blue')\n",
    "\n",
    "  plt.title('Duração x Geração (' + names[img] + ')')\n",
    "\n",
    "  plt.xlabel('Geração')\n",
    "  plt.ylabel('Duração(min)')\n",
    "  \n",
    "  plt.legend(['Duração do 1º teste', 'Duração do 2º teste', 'Duração média'], loc=4)\n",
    "  \n",
    "  plt.savefig('results/graph' + img + 'Time.pdf')\n",
    "#   plt.show()\n",
    "  plt.clf()"
   ]
  },
  {
   "cell_type": "code",
   "execution_count": 140,
   "metadata": {},
   "outputs": [
    {
     "name": "stdout",
     "output_type": "stream",
     "text": [
      "[0.9273800000000001, 0.784, 0.781695, 0.614325, 0.9711650000000001, 0.74281]\n"
     ]
    },
    {
     "data": {
      "image/png": "[encoded data removed]",
      "text/plain": [
       "<Figure size 432x288 with 1 Axes>"
      ]
     },
     "metadata": {
      "needs_background": "light"
     },
     "output_type": "display_data"
    },
    {
     "data": {
      "text/plain": [
       "<Figure size 432x288 with 0 Axes>"
      ]
     },
     "metadata": {},
     "output_type": "display_data"
    }
   ],
   "source": [
    "# Media aptidao\n",
    "\n",
    "x = []\n",
    "f = []\n",
    "\n",
    "for img in images:\n",
    "  yMax=[]\n",
    "  for i in range(0, 2):\n",
    "    with open('results/' + img + str(i) + '.csv', 'r') as csvfile:\n",
    "        plots= csv.reader(csvfile, delimiter=',')\n",
    "        yMaxAux = []\n",
    "        \n",
    "        for row in plots:\n",
    "            yMaxAux.append(float(row[2]))\n",
    "\n",
    "        yMax.append(yMaxAux)\n",
    "\n",
    "  x.append(names[img])\n",
    "  maxValues = [np.max(yMax[0]), np.max(yMax[1])]\n",
    "  f.append(np.average(maxValues))\n",
    "\n",
    "print(f)\n",
    "plt.figure()\n",
    "# plt.plot(x, yMin[0], yMin[1], 'k--', color='blue')\n",
    "plt.bar(x, f, color='red')\n",
    "\n",
    "plt.title('Média de aptidão x Imagem de teste')\n",
    "\n",
    "plt.xlabel('Imagem de teste')\n",
    "plt.ylabel('Aptidão média')\n",
    "\n",
    "plt.savefig('results/graphAptidaoAvg.pdf')\n",
    "plt.show()\n",
    "plt.clf()"
   ]
  },
  {
   "cell_type": "code",
   "execution_count": 141,
   "metadata": {},
   "outputs": [
    {
     "data": {
      "image/png": "[encoded data removed]",
      "text/plain": [
       "<Figure size 432x288 with 1 Axes>"
      ]
     },
     "metadata": {
      "needs_background": "light"
     },
     "output_type": "display_data"
    },
    {
     "data": {
      "text/plain": [
       "<Figure size 432x288 with 0 Axes>"
      ]
     },
     "metadata": {},
     "output_type": "display_data"
    }
   ],
   "source": [
    "# leaps\n",
    "\n",
    "x = []\n",
    "lel = []\n",
    "for img in images:\n",
    "  yMax=[]\n",
    "  leaps = 0\n",
    "  for i in range(0, 2):\n",
    "    with open('results/' + img + str(i) + '.csv', 'r') as csvfile:\n",
    "      plots= csv.reader(csvfile, delimiter=',')\n",
    "      lastValue = sys.maxsize\n",
    "      for row in plots:\n",
    "        maxValue = float(row[2])\n",
    "        if maxValue > lastValue:\n",
    "          leaps += 1\n",
    "        lastValue = maxValue\n",
    "\n",
    "  x.append(names[img])\n",
    "  lel.append(leaps / 2)\n",
    "\n",
    "plt.figure()\n",
    "plt.bar(x, lel, color='red')\n",
    "\n",
    "plt.title('Likelihood of evolution leap x Imagem de teste')\n",
    "\n",
    "plt.xlabel('Imagem de teste')\n",
    "plt.ylabel('Likelihood of evolution leap')\n",
    "\n",
    "plt.savefig('results/graphLel.pdf')\n",
    "plt.show()\n",
    "plt.clf()"
   ]
  },
  {
   "cell_type": "code",
   "execution_count": 170,
   "metadata": {},
   "outputs": [
    {
     "data": {
      "image/png": "[encoded data removed]",
      "text/plain": [
       "<Figure size 432x288 with 1 Axes>"
      ]
     },
     "metadata": {
      "needs_background": "light"
     },
     "output_type": "display_data"
    },
    {
     "data": {
      "text/plain": [
       "<Figure size 432x288 with 0 Axes>"
      ]
     },
     "metadata": {},
     "output_type": "display_data"
    }
   ],
   "source": [
    "# tempo medio\n",
    "\n",
    "# tempo\n",
    "\n",
    "x = []\n",
    "tMed=[]\n",
    "for img in images:\n",
    "  t=[]\n",
    "  for i in range(0, 2):\n",
    "    with open('results/' + img + str(i) + '.csv', 'r') as csvfile:\n",
    "      plots= csv.reader(csvfile, delimiter=',')\n",
    "      tAux = []\n",
    "      for row in plots:\n",
    "        tAux.append(float(row[5])/60)\n",
    "    t.append(tAux)\n",
    "    \n",
    "  x.append(names[img])\n",
    "  tMed.append(np.sum(((np.array(t[0]) + np.array(t[1])) / 2)))\n",
    "\n",
    "plt.figure()\n",
    "plt.bar(x, tMed, color='red')\n",
    "\n",
    "plt.title('Tempo médio de execução x Imagem de teste')\n",
    "\n",
    "plt.xlabel('Imagem de teste')\n",
    "plt.ylabel('Duração(min)')\n",
    "\n",
    "plt.savefig('results/graphAvgTime.pdf')\n",
    "plt.show()\n",
    "plt.clf()"
   ]
  }
 ],
 "metadata": {
  "kernelspec": {
   "display_name": "Python 3",
   "language": "python",
   "name": "python3"
  },
  "language_info": {
   "codemirror_mode": {
    "name": "ipython",
    "version": 3
   },
   "file_extension": ".py",
   "mimetype": "text/x-python",
   "name": "python",
   "nbconvert_exporter": "python",
   "pygments_lexer": "ipython3",
   "version": "3.7.4"
  }
 },
 "nbformat": 4,
 "nbformat_minor": 4
}
