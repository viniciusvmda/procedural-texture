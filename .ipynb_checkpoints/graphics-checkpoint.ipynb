{
 "cells": [
  {
   "cell_type": "code",
   "execution_count": 78,
   "metadata": {},
   "outputs": [
    {
     "data": {
      "text/plain": [
       "<Figure size 432x288 with 0 Axes>"
      ]
     },
     "metadata": {},
     "output_type": "display_data"
    },
    {
     "data": {
      "text/plain": [
       "<Figure size 432x288 with 0 Axes>"
      ]
     },
     "metadata": {},
     "output_type": "display_data"
    },
    {
     "data": {
      "text/plain": [
       "<Figure size 432x288 with 0 Axes>"
      ]
     },
     "metadata": {},
     "output_type": "display_data"
    },
    {
     "data": {
      "text/plain": [
       "<Figure size 432x288 with 0 Axes>"
      ]
     },
     "metadata": {},
     "output_type": "display_data"
    },
    {
     "data": {
      "text/plain": [
       "<Figure size 432x288 with 0 Axes>"
      ]
     },
     "metadata": {},
     "output_type": "display_data"
    },
    {
     "data": {
      "text/plain": [
       "<Figure size 432x288 with 0 Axes>"
      ]
     },
     "metadata": {},
     "output_type": "display_data"
    }
   ],
   "source": [
    "import matplotlib.pyplot as plt\n",
    "import csv\n",
    "\n",
    "images = ['chess', 'brick', 'granite', 'grass', 'lava', 'water']\n",
    "names = { \n",
    "  'chess': 'Xadrez',\n",
    "  'brick': 'Tijolos',\n",
    "  'granite': 'Granito',\n",
    "  'grass': \"Grama\",\n",
    "  'lava': 'Lava',\n",
    "  'water': 'Água'\n",
    "}\n",
    "\n",
    "for img in images:\n",
    "  x=[]\n",
    "  yMin=[]\n",
    "  yMax=[]\n",
    "  yAvg=[]\n",
    "\n",
    "  for i in range(0, 2):\n",
    "    with open('results/' + img + str(i) + '.csv', 'r') as csvfile:\n",
    "        plots= csv.reader(csvfile, delimiter=',')\n",
    "\n",
    "        x = []\n",
    "        yMinAux = []\n",
    "        yMaxAux = []\n",
    "        yAvgAux = []\n",
    "        for row in plots:\n",
    "            x.append(int(row[0]))\n",
    "            yMinAux.append(float(row[1]))\n",
    "            yMaxAux.append(float(row[2]))\n",
    "            yAvgAux.append(float(row[3]))\n",
    "\n",
    "        yMin.append(yMinAux)\n",
    "        yMax.append(yMaxAux)\n",
    "        yAvg.append(yAvgAux)\n",
    "\n",
    "\n",
    "  plt.figure()\n",
    "  # plt.plot(x, yMin[0], yMin[1], 'k--', color='blue')\n",
    "  plt.plot(x, yMax[0], yMax[1], 'k--', color='red')\n",
    "  plt.plot(x, yAvg[0], yAvg[1], 'k--', color='blue')\n",
    "\n",
    "  plt.title('Aptidão x Geração (' + names[img] + ')')\n",
    "\n",
    "  plt.xlabel('Geração')\n",
    "  plt.ylabel('Aptidão')\n",
    "\n",
    "  plt.legend(['Aptidão máxima (1º teste)', 'Aptidão máxima (2º teste)', 'Aptidão média (1º teste)', 'Aptidão média (2º teste)'], loc=4)\n",
    "  \n",
    "  plt.savefig('results/' + img + 'Graph.pdf')\n",
    "#   plt.show()\n",
    "  plt.clf()\n"
   ]
  }
 ],
 "metadata": {
  "kernelspec": {
   "display_name": "Python 3",
   "language": "python",
   "name": "python3"
  },
  "language_info": {
   "codemirror_mode": {
    "name": "ipython",
    "version": 3
   },
   "file_extension": ".py",
   "mimetype": "text/x-python",
   "name": "python",
   "nbconvert_exporter": "python",
   "pygments_lexer": "ipython3",
   "version": "3.7.4"
  }
 },
 "nbformat": 4,
 "nbformat_minor": 4
}
