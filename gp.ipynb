{
  "nbformat": 4,
  "nbformat_minor": 0,
  "metadata": {
    "colab": {
      "name": "gp.ipynb",
      "version": "0.3.2",
      "provenance": [],
      "include_colab_link": true
    },
    "kernelspec": {
      "name": "python3",
      "display_name": "Python 3"
    }
  },
  "cells": [
    {
      "cell_type": "markdown",
      "metadata": {
        "id": "view-in-github",
        "colab_type": "text"
      },
      "source": [
        "<a href=\"https://colab.research.google.com/github/viniciusvmda/procedural-texture/blob/master/gp.ipynb\" target=\"_parent\"><img src=\"https://colab.research.google.com/assets/colab-badge.svg\" alt=\"Open In Colab\"/></a>"
      ]
    },
    {
      "cell_type": "markdown",
      "metadata": {
        "id": "y5VxCTON3tui",
        "colab_type": "text"
      },
      "source": [
        "# Programação Genética\n",
        "https://www.pyimagesearch.com/2014/07/14/3-ways-compare-histograms-using-opencv-python/"
      ]
    },
    {
      "cell_type": "markdown",
      "metadata": {
        "id": "C8isxG-X3j_n",
        "colab_type": "text"
      },
      "source": [
        "## Requisitos"
      ]
    },
    {
      "cell_type": "code",
      "metadata": {
        "id": "GowSmknJ3hXB",
        "colab_type": "code",
        "colab": {}
      },
      "source": [
        "# GP\n",
        "!pip install deap\n",
        "# Graphics\n",
        "!apt-get install graphviz libgraphviz-dev pkg-config\n",
        "!pip install pygraphviz networkx\n",
        "# Noise functions\n",
        "!pip install noise"
      ],
      "execution_count": 0,
      "outputs": []
    },
    {
      "cell_type": "markdown",
      "metadata": {
        "id": "9ePJCFAG30CC",
        "colab_type": "text"
      },
      "source": [
        "## Bibliotecas"
      ]
    },
    {
      "cell_type": "code",
      "metadata": {
        "id": "PZYl2fCY35DO",
        "colab_type": "code",
        "colab": {}
      },
      "source": [
        "# Genetic Programming\n",
        "from deap import base, creator, gp, tools\n",
        "# Graphics\n",
        "import networkx as nx\n",
        "from networkx.drawing.nx_agraph import graphviz_layout\n",
        "from matplotlib import pyplot as plt\n",
        "# Computer vision\n",
        "import cv2\n",
        "# Util\n",
        "import numpy as np\n",
        "import random\n",
        "# Operators\n",
        "from noise import pnoise3, pnoise2"
      ],
      "execution_count": 0,
      "outputs": []
    },
    {
      "cell_type": "markdown",
      "metadata": {
        "id": "cWgNX9NH3wsd",
        "colab_type": "text"
      },
      "source": [
        "## Desenvolvimento"
      ]
    },
    {
      "cell_type": "markdown",
      "metadata": {
        "id": "p3xaGNrb4Z0r",
        "colab_type": "text"
      },
      "source": [
        "### Gráficos"
      ]
    },
    {
      "cell_type": "code",
      "metadata": {
        "id": "fpJ1gmZo3x-o",
        "colab_type": "code",
        "colab": {}
      },
      "source": [
        "def plotTree(expr):\n",
        "  nodes, edges, labels = gp.graph(expr)\n",
        "  \n",
        "  g = nx.DiGraph()\n",
        "  g.add_nodes_from(nodes)\n",
        "  g.add_edges_from(edges)\n",
        "  pos = graphviz_layout(g, prog=\"dot\")\n",
        "\n",
        "  nx.draw_networkx_nodes(g, pos)\n",
        "  nx.draw_networkx_edges(g, pos)\n",
        "  nx.draw_networkx_labels(g, pos, labels)\n",
        "  \n",
        "  plt.show()\n",
        "  \n",
        "def plotImage(data):\n",
        "  plt.axis(\"off\")\n",
        "  plt.imshow(data, cmap='binary')"
      ],
      "execution_count": 0,
      "outputs": []
    },
    {
      "cell_type": "markdown",
      "metadata": {
        "id": "FY2gDEjG5Iuo",
        "colab_type": "text"
      },
      "source": [
        "\n",
        "\n",
        "### Algoritmo"
      ]
    },
    {
      "cell_type": "markdown",
      "metadata": {
        "id": "wKIaTsa15oZz",
        "colab_type": "text"
      },
      "source": [
        "#### Funções fitness"
      ]
    },
    {
      "cell_type": "code",
      "metadata": {
        "id": "0k4AnH0I59Pe",
        "colab_type": "code",
        "colab": {}
      },
      "source": [
        "def getHistogram(img):\n",
        "  hist = cv2.calcHist([img], [0, 1, 2], None, [8, 8, 8],\n",
        "\t\t[0, 256, 0, 256, 0, 256])\n",
        "\thist = cv2.normalize(hist, hist).flatten()\n",
        "  return hist;\n",
        "\n",
        "\n",
        "# Colour Direct Matching\n",
        "def cdir(img1, img2):\n",
        "  method = \"Correlation\"\n",
        "  hist1 = getHistogram(img1)\n",
        "  hist2 = getHistogram(img2)\n",
        "  d = cv2.compareHist(index[\"doge.png\"], hist, method)\n",
        "  return d"
      ],
      "execution_count": 0,
      "outputs": []
    },
    {
      "cell_type": "markdown",
      "metadata": {
        "id": "x2kF7HOKAiLt",
        "colab_type": "text"
      },
      "source": [
        "#### Operadores"
      ]
    },
    {
      "cell_type": "code",
      "metadata": {
        "id": "21ePh42HArjf",
        "colab_type": "code",
        "colab": {}
      },
      "source": [
        "image = np.zeros((1024, 1024))\n",
        "\n",
        "#import noise\n",
        "#help(noise)\n",
        "\n",
        "# persistence: [0,1]\n",
        "def perlinNoise(scale=100, octaves=6, persistence=0.5, lacunarity=2.0):\n",
        "  width = image.shape[0]\n",
        "  height = image.shape[1]\n",
        "  output = np.zeros((width, height))\n",
        "  for x in range(0, width):\n",
        "    for y in range(0, height):\n",
        "        output[x][y] = pnoise2(x/scale, y/scale, octaves=octaves, \n",
        "                                persistence=persistence, lacunarity=lacunarity,\n",
        "                                base=0)\n",
        "  return output\n",
        "\n",
        "#out = perlinNoise(image, octaves=1)\n",
        "#plotImage(out)"
      ],
      "execution_count": 0,
      "outputs": []
    },
    {
      "cell_type": "markdown",
      "metadata": {
        "id": "K_A1A6Kc6UTw",
        "colab_type": "text"
      },
      "source": [
        "#### Estrutura da árvore"
      ]
    },
    {
      "cell_type": "code",
      "metadata": {
        "id": "CG7n9yW16XhP",
        "colab_type": "code",
        "outputId": "a17fd9e8-394f-4eca-a7d5-7b2f130f96b4",
        "colab": {
          "base_uri": "https://localhost:8080/",
          "height": 330
        }
      },
      "source": [
        "pset = gp.PrimitiveSetTyped(\"main\", [np.ndarray, float, float, float], np.ndarray)\n",
        "\n",
        "def func(a):\n",
        "  b = np.zeros((10,10))\n",
        "  b[0][0] = a\n",
        "  return b\n",
        "\n",
        "# Add operators\n",
        "pset.addPrimitive(perlinNoise, [np.ndarray, float, float], np.ndarray)\n",
        "pset.addPrimitive(func, [float], np.ndarray)\n",
        "\n",
        "\n",
        "# Create individual and add tree with primitives\n",
        "creator.create(\"Individual\", gp.PrimitiveTree, pset=pset)\n",
        "toolbox = base.Toolbox()\n",
        "toolbox.register(\"expr\", gp.genHalfAndHalf, pset=pset, min_=1, max_=2)\n",
        "toolbox.register(\"individual\", tools.initIterate, creator.Individual, toolbox.expr)\n",
        "expr = toolbox.individual()\n",
        "tree = gp.PrimitiveTree(expr)\n",
        "f = gp.compile(tree, pset)\n",
        "nodes, edges, labels = gp.graph(expr)\n",
        "print(tree)\n",
        "plotTree(expr)"
      ],
      "execution_count": 378,
      "outputs": [
        {
          "output_type": "stream",
          "text": [
            "perlinNoise(ARG0, ARG2, ARG1)\n"
          ],
          "name": "stdout"
        },
        {
          "output_type": "stream",
          "text": [
            "/usr/local/lib/python3.6/dist-packages/deap/creator.py:141: RuntimeWarning: A class named 'Individual' has already been created and it will be overwritten. Consider deleting previous creation of that class or rename it.\n",
            "  RuntimeWarning)\n"
          ],
          "name": "stderr"
        },
        {
          "output_type": "display_data",
          "data": {
            "image/png": "[encoded data removed]",
            "text/plain": [
              "<Figure size 432x288 with 1 Axes>"
            ]
          },
          "metadata": {
            "tags": []
          }
        }
      ]
    },
    {
      "cell_type": "code",
      "metadata": {
        "id": "WKzJkN9G19J1",
        "colab_type": "code",
        "colab": {
          "base_uri": "https://localhost:8080/",
          "height": 256
        },
        "outputId": "f52f83da-4295-4e39-d1c3-b8d98eee7ee1"
      },
      "source": [
        "f(image, 50)"
      ],
      "execution_count": 314,
      "outputs": [
        {
          "output_type": "execute_result",
          "data": {
            "text/plain": [
              "array([[ 0.        ,  0.00027404,  0.00054809, ...,  0.14666323,\n",
              "         0.13400792,  0.12612611],\n",
              "       [ 0.04133539,  0.03941675,  0.04346306, ...,  0.17091143,\n",
              "         0.16427021,  0.15913361],\n",
              "       [ 0.06274841,  0.05821995,  0.05891114, ...,  0.19569927,\n",
              "         0.18180454,  0.16023421],\n",
              "       ...,\n",
              "       [-0.05976691, -0.08542277, -0.10795452, ..., -0.11489918,\n",
              "        -0.09504117, -0.08019667],\n",
              "       [-0.05648531, -0.07996882, -0.09648081, ..., -0.11665219,\n",
              "        -0.09870996, -0.07141144],\n",
              "       [-0.02852576, -0.05608363, -0.06996056, ..., -0.13397495,\n",
              "        -0.11023446, -0.0834334 ]])"
            ]
          },
          "metadata": {
            "tags": []
          },
          "execution_count": 314
        }
      ]
    }
  ]
}