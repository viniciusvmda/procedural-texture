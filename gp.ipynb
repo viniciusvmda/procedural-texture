{
  "nbformat": 4,
  "nbformat_minor": 0,
  "metadata": {
    "colab": {
      "name": "gp.ipynb",
      "version": "0.3.2",
      "provenance": [],
      "include_colab_link": true
    },
    "kernelspec": {
      "name": "python3",
      "display_name": "Python 3"
    }
  },
  "cells": [
    {
      "cell_type": "markdown",
      "metadata": {
        "id": "view-in-github",
        "colab_type": "text"
      },
      "source": [
        "<a href=\"https://colab.research.google.com/github/viniciusvmda/procedural-texture/blob/master/gp.ipynb\" target=\"_parent\"><img src=\"https://colab.research.google.com/assets/colab-badge.svg\" alt=\"Open In Colab\"/></a>"
      ]
    },
    {
      "cell_type": "markdown",
      "metadata": {
        "id": "y5VxCTON3tui",
        "colab_type": "text"
      },
      "source": [
        "# Programação Genética\n",
        "https://www.pyimagesearch.com/2014/07/14/3-ways-compare-histograms-using-opencv-python/"
      ]
    },
    {
      "cell_type": "markdown",
      "metadata": {
        "id": "C8isxG-X3j_n",
        "colab_type": "text"
      },
      "source": [
        "## Requisitos"
      ]
    },
    {
      "cell_type": "code",
      "metadata": {
        "id": "GowSmknJ3hXB",
        "colab_type": "code",
        "colab": {}
      },
      "source": [
        "# GP\n",
        "!pip install deap\n",
        "# Graphics\n",
        "!apt-get install graphviz libgraphviz-dev pkg-config\n",
        "!pip install pygraphviz networkx\n",
        "# Noise functions\n",
        "!pip install noise"
      ],
      "execution_count": 0,
      "outputs": []
    },
    {
      "cell_type": "markdown",
      "metadata": {
        "id": "9ePJCFAG30CC",
        "colab_type": "text"
      },
      "source": [
        "## Bibliotecas"
      ]
    },
    {
      "cell_type": "code",
      "metadata": {
        "id": "PZYl2fCY35DO",
        "colab_type": "code",
        "colab": {}
      },
      "source": [
        "# Genetic Programming\n",
        "from deap import base, creator, gp, tools\n",
        "# Graphics\n",
        "import networkx as nx\n",
        "from networkx.drawing.nx_agraph import graphviz_layout\n",
        "from matplotlib import pyplot as plt\n",
        "# Computer vision\n",
        "import cv2\n",
        "from google.colab.patches import cv2_imshow\n",
        "# Util\n",
        "import numpy as np\n",
        "import random\n",
        "# Operators\n",
        "from noise import pnoise3, pnoise2"
      ],
      "execution_count": 0,
      "outputs": []
    },
    {
      "cell_type": "markdown",
      "metadata": {
        "id": "cWgNX9NH3wsd",
        "colab_type": "text"
      },
      "source": [
        "## Desenvolvimento"
      ]
    },
    {
      "cell_type": "markdown",
      "metadata": {
        "id": "p3xaGNrb4Z0r",
        "colab_type": "text"
      },
      "source": [
        "### Gráficos"
      ]
    },
    {
      "cell_type": "code",
      "metadata": {
        "id": "fpJ1gmZo3x-o",
        "colab_type": "code",
        "colab": {}
      },
      "source": [
        "def plotTree(expr):\n",
        "  nodes, edges, labels = gp.graph(expr)\n",
        "  \n",
        "  g = nx.DiGraph()\n",
        "  g.add_nodes_from(nodes)\n",
        "  g.add_edges_from(edges)\n",
        "  pos = graphviz_layout(g, prog=\"dot\")\n",
        "\n",
        "  nx.draw_networkx_nodes(g, pos)\n",
        "  nx.draw_networkx_edges(g, pos)\n",
        "  nx.draw_networkx_labels(g, pos, labels)\n",
        "  \n",
        "  plt.show()\n",
        "  \n",
        "def plotImage(data):\n",
        "  plt.axis(\"off\")\n",
        "  plt.imshow(data, cmap='binary')"
      ],
      "execution_count": 0,
      "outputs": []
    },
    {
      "cell_type": "markdown",
      "metadata": {
        "id": "FY2gDEjG5Iuo",
        "colab_type": "text"
      },
      "source": [
        "\n",
        "\n",
        "### Algoritmo"
      ]
    },
    {
      "cell_type": "markdown",
      "metadata": {
        "id": "wKIaTsa15oZz",
        "colab_type": "text"
      },
      "source": [
        "#### Fitness"
      ]
    },
    {
      "cell_type": "code",
      "metadata": {
        "id": "0k4AnH0I59Pe",
        "colab_type": "code",
        "colab": {}
      },
      "source": [
        "def getHistogram(img):\n",
        "  hist = cv2.calcHist([img], [0, 1, 2], None, [8, 8, 8],\n",
        "\t\t[0, 256, 0, 256, 0, 256])\n",
        "\thist = cv2.normalize(hist, hist).flatten()\n",
        "  return hist;\n",
        "\n",
        "\n",
        "# Colour Direct Matching\n",
        "def cdir(img1, img2):\n",
        "  method = \"Correlation\"\n",
        "  hist1 = getHistogram(img1)\n",
        "  hist2 = getHistogram(img2)\n",
        "  d = cv2.compareHist(index[\"doge.png\"], hist, method)\n",
        "  return d"
      ],
      "execution_count": 0,
      "outputs": []
    },
    {
      "cell_type": "markdown",
      "metadata": {
        "id": "x2kF7HOKAiLt",
        "colab_type": "text"
      },
      "source": [
        "#### Operadores"
      ]
    },
    {
      "cell_type": "code",
      "metadata": {
        "id": "21ePh42HArjf",
        "colab_type": "code",
        "colab": {}
      },
      "source": [
        "# https://docs.opencv.org/3.0-beta/modules/imgproc/doc/filtering.html\n",
        "# https://docs.opencv.org/3.2.0/d0/d86/tutorial_py_image_arithmetics.html\n",
        "\n",
        "def perlinNoise(scale=100, octaves=6):\n",
        "  o = octaves % 6 + 1\n",
        "  image = np.zeros((100, 100))\n",
        "  width = image.shape[0]\n",
        "  height = image.shape[1]\n",
        "  output = np.zeros((width, height))\n",
        "  for x in range(0, width):\n",
        "    for y in range(0, height):\n",
        "        output[x][y] = pnoise2(x/scale, y/scale, octaves=o, base=0)\n",
        "  return output\n",
        "\n",
        "\n",
        "def bleedImages(img1, img2, weight):\n",
        "  GAMMA = 0\n",
        "  return cv2.addWeighted(img1, weight, img2, 1 - weight, GAMMA)"
      ],
      "execution_count": 0,
      "outputs": []
    },
    {
      "cell_type": "code",
      "metadata": {
        "id": "YYXp2e83TKEq",
        "colab_type": "code",
        "colab": {}
      },
      "source": [
        ""
      ],
      "execution_count": 0,
      "outputs": []
    },
    {
      "cell_type": "markdown",
      "metadata": {
        "id": "K_A1A6Kc6UTw",
        "colab_type": "text"
      },
      "source": [
        "#### Estrutura da árvore"
      ]
    },
    {
      "cell_type": "code",
      "metadata": {
        "id": "CG7n9yW16XhP",
        "colab_type": "code",
        "outputId": "b3fee612-e684-445b-e015-526cd01b851d",
        "colab": {
          "base_uri": "https://localhost:8080/",
          "height": 330
        }
      },
      "source": [
        "#https://gist.github.com/macrintr/9876942\n",
        "\n",
        "def _(a):\n",
        "    return a\n",
        "\n",
        "def rand100():\n",
        "  return random.randrange(100) + 1\n",
        "\n",
        "# Define input types and output type\n",
        "pset = gp.PrimitiveSetTyped(\"main\", [], np.ndarray)\n",
        "\n",
        "# Add operators\n",
        "pset.addPrimitive(perlinNoise, [int, int], np.ndarray)\n",
        "#pset.addPrimitive(addImages, [np.ndarray, np.ndarray], np.ndarray)\n",
        "pset.addPrimitive(bleedImages, [np.ndarray, np.ndarray, float], np.ndarray)\n",
        "pset.addPrimitive(_, [float], float)\n",
        "pset.addPrimitive(_, [int], int)\n",
        "\n",
        "pset.addTerminal(100, int)\n",
        "pset.addTerminal(80, int)\n",
        "pset.addTerminal(60, int)\n",
        "pset.addTerminal(40, int)\n",
        "pset.addTerminal(20, int)\n",
        "\n",
        "pset.addTerminal(0.0, float)\n",
        "pset.addTerminal(0.1, float)\n",
        "pset.addTerminal(0.2, float)\n",
        "pset.addTerminal(0.3, float)\n",
        "pset.addTerminal(0.4, float)\n",
        "pset.addTerminal(0.5, float)\n",
        "\n",
        "\n",
        "# Create individual and add tree with primitives\n",
        "creator.create(\"Individual\", gp.PrimitiveTree, pset=pset)\n",
        "toolbox = base.Toolbox()\n",
        "toolbox.register(\"expr\", gp.genHalfAndHalf, pset=pset, min_=1, max_=10)\n",
        "toolbox.register(\"individual\", tools.initIterate, creator.Individual, toolbox.expr)\n",
        "expr = toolbox.individual()\n",
        "tree = gp.PrimitiveTree(expr)\n",
        "f = gp.compile(tree, pset)\n",
        "print(expr)\n",
        "plotTree(expr)"
      ],
      "execution_count": 65,
      "outputs": [
        {
          "output_type": "stream",
          "text": [
            "/usr/local/lib/python3.6/dist-packages/deap/creator.py:141: RuntimeWarning: A class named 'Individual' has already been created and it will be overwritten. Consider deleting previous creation of that class or rename it.\n",
            "  RuntimeWarning)\n"
          ],
          "name": "stderr"
        },
        {
          "output_type": "stream",
          "text": [
            "bleedImages(perlinNoise(_(_(80)), _(_(40))), perlinNoise(_(_(40)), _(_(100))), _(_(_(0.3))))\n"
          ],
          "name": "stdout"
        },
        {
          "output_type": "display_data",
          "data": {
            "image/png": "[encoded data removed]",
            "text/plain": [
              "<Figure size 432x288 with 1 Axes>"
            ]
          },
          "metadata": {
            "tags": []
          }
        }
      ]
    },
    {
      "cell_type": "code",
      "metadata": {
        "id": "WKzJkN9G19J1",
        "colab_type": "code",
        "outputId": "a42eeb4d-49ac-4b38-ec99-ddd880820053",
        "colab": {
          "base_uri": "https://localhost:8080/",
          "height": 268
        }
      },
      "source": [
        "image = np.zeros((100, 100))\n",
        "a = f\n",
        "plotImage(a)"
      ],
      "execution_count": 67,
      "outputs": [
        {
          "output_type": "display_data",
          "data": {
            "image/png": "[encoded data removed]",
            "text/plain": [
              "<Figure size 432x288 with 1 Axes>"
            ]
          },
          "metadata": {
            "tags": []
          }
        }
      ]
    }
  ]
}