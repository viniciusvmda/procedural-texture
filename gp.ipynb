{
  "nbformat": 4,
  "nbformat_minor": 0,
  "metadata": {
    "colab": {
      "name": "gp.ipynb",
      "version": "0.3.2",
      "provenance": [],
      "include_colab_link": true
    },
    "kernelspec": {
      "name": "python3",
      "display_name": "Python 3"
    }
  },
  "cells": [
    {
      "cell_type": "markdown",
      "metadata": {
        "id": "view-in-github",
        "colab_type": "text"
      },
      "source": [
        "<a href=\"https://colab.research.google.com/github/viniciusvmda/procedural-texture/blob/master/gp.ipynb\" target=\"_parent\"><img src=\"https://colab.research.google.com/assets/colab-badge.svg\" alt=\"Open In Colab\"/></a>"
      ]
    },
    {
      "cell_type": "markdown",
      "metadata": {
        "id": "y5VxCTON3tui",
        "colab_type": "text"
      },
      "source": [
        "# Programação Genética\n",
        "https://www.pyimagesearch.com/2014/07/14/3-ways-compare-histograms-using-opencv-python/"
      ]
    },
    {
      "cell_type": "markdown",
      "metadata": {
        "id": "C8isxG-X3j_n",
        "colab_type": "text"
      },
      "source": [
        "## Requisitos"
      ]
    },
    {
      "cell_type": "code",
      "metadata": {
        "id": "GowSmknJ3hXB",
        "colab_type": "code",
        "outputId": "45d36f47-1966-439d-c1c0-929ecd97a6e8",
        "colab": {
          "base_uri": "https://localhost:8080/",
          "height": 439
        }
      },
      "source": [
        "# GP\n",
        "!pip install deap\n",
        "# Graphics\n",
        "!apt-get install graphviz libgraphviz-dev pkg-config\n",
        "!pip install pygraphviz networkx\n",
        "# Noise functions\n",
        "!pip install noise"
      ],
      "execution_count": 0,
      "outputs": [
        {
          "output_type": "stream",
          "text": [
            "Requirement already satisfied: deap in /usr/local/lib/python3.6/dist-packages (1.2.2)\n",
            "Reading package lists... Done\n",
            "Building dependency tree       \n",
            "Reading state information... Done\n",
            "pkg-config is already the newest version (0.29.1-0ubuntu2).\n",
            "graphviz is already the newest version (2.40.1-2).\n",
            "libgraphviz-dev is already the newest version (2.40.1-2).\n",
            "The following package was automatically installed and is no longer required:\n",
            "  libnvidia-common-410\n",
            "Use 'apt autoremove' to remove it.\n",
            "0 upgraded, 0 newly installed, 0 to remove and 8 not upgraded.\n",
            "Requirement already satisfied: pygraphviz in /usr/local/lib/python3.6/dist-packages (1.5)\n",
            "Requirement already satisfied: networkx in /usr/local/lib/python3.6/dist-packages (2.3)\n",
            "Requirement already satisfied: decorator>=4.3.0 in /usr/local/lib/python3.6/dist-packages (from networkx) (4.4.0)\n",
            "Collecting noise\n",
            "\u001b[?25l  Downloading https://files.pythonhosted.org/packages/18/29/bb830ee6d934311e17a7a4fa1368faf3e73fbb09c0d80fc44e41828df177/noise-1.2.2.tar.gz (125kB)\n",
            "\u001b[K     |████████████████████████████████| 133kB 4.5MB/s \n",
            "\u001b[?25hBuilding wheels for collected packages: noise\n",
            "  Building wheel for noise (setup.py) ... \u001b[?25l\u001b[?25hdone\n",
            "  Stored in directory: /root/.cache/pip/wheels/fd/a3/c1/d36defe6e9f074b25dc0f018eb9f8fdd675a7ef87071ce3821\n",
            "Successfully built noise\n",
            "Installing collected packages: noise\n",
            "Successfully installed noise-1.2.2\n"
          ],
          "name": "stdout"
        }
      ]
    },
    {
      "cell_type": "markdown",
      "metadata": {
        "id": "9ePJCFAG30CC",
        "colab_type": "text"
      },
      "source": [
        "## Bibliotecas"
      ]
    },
    {
      "cell_type": "code",
      "metadata": {
        "id": "PZYl2fCY35DO",
        "colab_type": "code",
        "colab": {}
      },
      "source": [
        "# Programação Genética\n",
        "from deap import base, creator, gp, tools\n",
        "# Gráficos\n",
        "import matplotlib.pyplot as plt\n",
        "from networkx.drawing.nx_agraph import graphviz_layout\n",
        "  # Visão Computacional\n",
        "import cv2\n",
        "# Auxiliares\n",
        "import numpy as np\n",
        "from noise import snoise2"
      ],
      "execution_count": 0,
      "outputs": []
    },
    {
      "cell_type": "markdown",
      "metadata": {
        "id": "cWgNX9NH3wsd",
        "colab_type": "text"
      },
      "source": [
        "## Desenvolvimento"
      ]
    },
    {
      "cell_type": "markdown",
      "metadata": {
        "id": "p3xaGNrb4Z0r",
        "colab_type": "text"
      },
      "source": [
        "### Gráficos"
      ]
    },
    {
      "cell_type": "code",
      "metadata": {
        "id": "fpJ1gmZo3x-o",
        "colab_type": "code",
        "colab": {}
      },
      "source": [
        "def plotTree(expr):\n",
        "  \n",
        "  nodes, edges, labels = gp.graph(expr)\n",
        "  \n",
        "  g = nx.DiGraph()\n",
        "  g.add_nodes_from(nodes)\n",
        "  g.add_edges_from(edges)\n",
        "  pos = graphviz_layout(g, prog=\"dot\")\n",
        "\n",
        "  nx.draw_networkx_nodes(g, pos)\n",
        "  nx.draw_networkx_edges(g, pos)\n",
        "  nx.draw_networkx_labels(g, pos, labels)\n",
        "  \n",
        "  plt.show()"
      ],
      "execution_count": 0,
      "outputs": []
    },
    {
      "cell_type": "markdown",
      "metadata": {
        "id": "FY2gDEjG5Iuo",
        "colab_type": "text"
      },
      "source": [
        "### Algoritmo"
      ]
    },
    {
      "cell_type": "code",
      "metadata": {
        "id": "g6l6SQrS31iY",
        "colab_type": "code",
        "colab": {}
      },
      "source": [
        ""
      ],
      "execution_count": 0,
      "outputs": []
    },
    {
      "cell_type": "markdown",
      "metadata": {
        "id": "wKIaTsa15oZz",
        "colab_type": "text"
      },
      "source": [
        "#### Funções fitness"
      ]
    },
    {
      "cell_type": "code",
      "metadata": {
        "id": "0k4AnH0I59Pe",
        "colab_type": "code",
        "colab": {}
      },
      "source": [
        "def getHistogram(img):\n",
        "  hist = cv2.calcHist([img], [0, 1, 2], None, [8, 8, 8],\n",
        "\t\t[0, 256, 0, 256, 0, 256])\n",
        "\thist = cv2.normalize(hist, hist).flatten()\n",
        "  return hist;\n",
        "\n",
        "\n",
        "# Colour Direct Matching\n",
        "def cdir(img1, img2):\n",
        "  method = \"Correlation\"\n",
        "  hist1 = getHistogram(img1)\n",
        "  hist2 = getHistogram(img2)\n",
        "  d = cv2.compareHist(index[\"doge.png\"], hist, method)\n",
        "  return d"
      ],
      "execution_count": 0,
      "outputs": []
    },
    {
      "cell_type": "markdown",
      "metadata": {
        "id": "x2kF7HOKAiLt",
        "colab_type": "text"
      },
      "source": [
        "#### Operadores"
      ]
    },
    {
      "cell_type": "code",
      "metadata": {
        "id": "21ePh42HArjf",
        "colab_type": "code",
        "outputId": "8bba8654-fec9-4464-a3e2-f938f2b7b038",
        "colab": {
          "base_uri": "https://localhost:8080/",
          "height": 1947
        }
      },
      "source": [
        "import noise\n",
        "help(noise)\n",
        "\n",
        "def perlinNoise(input):\n",
        "  return np.zeros((1024,1024))"
      ],
      "execution_count": 0,
      "outputs": [
        {
          "output_type": "stream",
          "text": [
            "Help on package noise:\n",
            "\n",
            "NAME\n",
            "    noise - Noise functions for procedural generation of content\n",
            "\n",
            "DESCRIPTION\n",
            "    Contains native code implementations of Perlin improved noise (with\n",
            "    fBm capabilities) and Perlin simplex noise. Also contains a fast\n",
            "    \"fake noise\" implementation in GLSL for execution in shaders.\n",
            "    \n",
            "    Copyright (c) 2008, Casey Duncan (casey dot duncan at gmail dot com)\n",
            "\n",
            "PACKAGE CONTENTS\n",
            "    _perlin\n",
            "    _simplex\n",
            "    perlin\n",
            "    setup\n",
            "    shader\n",
            "    shader_noise\n",
            "    test\n",
            "\n",
            "FUNCTIONS\n",
            "    pnoise1 = noise1(...)\n",
            "        noise1(x, octaves=1, persistence=0.5, lacunarity=2.0, repeat=1024, base=0.0)\n",
            "        \n",
            "        1 dimensional perlin improved noise function (see noise3 for more info)\n",
            "    \n",
            "    pnoise2 = noise2(...)\n",
            "        noise2(x, y, octaves=1, persistence=0.5, lacunarity=2.0, repeatx=1024, repeaty=1024, base=0.0)\n",
            "        \n",
            "        2 dimensional perlin improved noise function (see noise3 for more info)\n",
            "    \n",
            "    pnoise3 = noise3(...)\n",
            "        noise3(x, y, z, octaves=1, persistence=0.5, lacunarity=2.0repeatx=1024, repeaty=1024, repeatz=1024, base=0.0)\n",
            "        \n",
            "        return perlin \"improved\" noise value for specified coordinate\n",
            "        \n",
            "        octaves -- specifies the number of passes for generating fBm noise,\n",
            "        defaults to 1 (simple noise).\n",
            "        \n",
            "        persistence -- specifies the amplitude of each successive octave relative\n",
            "        to the one below it. Defaults to 0.5 (each higher octave's amplitude\n",
            "        is halved). Note the amplitude of the first pass is always 1.0.\n",
            "        \n",
            "        lacunarity -- specifies the frequency of each successive octave relative\n",
            "        to the one below it, similar to persistence. Defaults to 2.0.\n",
            "        \n",
            "        repeatx, repeaty, repeatz -- specifies the interval along each axis when \n",
            "        the noise values repeat. This can be used as the tile size for creating \n",
            "        tileable textures\n",
            "        \n",
            "        base -- specifies a fixed offset for the input coordinates. Useful for\n",
            "        generating different noise textures with the same repeat interval\n",
            "    \n",
            "    snoise2 = noise2(...)\n",
            "        noise2(x, y, octaves=1, persistence=0.5, lacunarity=2.0, repeatx=None, repeaty=None, base=0.0) return simplex noise value for specified 2D coordinate.\n",
            "        \n",
            "        octaves -- specifies the number of passes, defaults to 1 (simple noise).\n",
            "        \n",
            "        persistence -- specifies the amplitude of each successive octave relative\n",
            "        to the one below it. Defaults to 0.5 (each higher octave's amplitude\n",
            "        is halved). Note the amplitude of the first pass is always 1.0.\n",
            "        \n",
            "        lacunarity -- specifies the frequency of each successive octave relative\n",
            "        to the one below it, similar to persistence. Defaults to 2.0.\n",
            "        \n",
            "        repeatx, repeaty -- specifies the interval along each axis when \n",
            "        the noise values repeat. This can be used as the tile size for creating \n",
            "        tileable textures\n",
            "        \n",
            "        base -- specifies a fixed offset for the noise coordinates. Useful for\n",
            "        generating different noise textures with the same repeat interval\n",
            "    \n",
            "    snoise3 = noise3(...)\n",
            "        noise3(x, y, z, octaves=1, persistence=0.5, lacunarity=2.0) return simplex noise value for specified 3D coordinate\n",
            "        \n",
            "        octaves -- specifies the number of passes, defaults to 1 (simple noise).\n",
            "        \n",
            "        persistence -- specifies the amplitude of each successive octave relative\n",
            "        to the one below it. Defaults to 0.5 (each higher octave's amplitude\n",
            "        is halved). Note the amplitude of the first pass is always 1.0.\n",
            "        \n",
            "        lacunarity -- specifies the frequency of each successive octave relative\n",
            "        to the one below it, similar to persistence. Defaults to 2.0.\n",
            "    \n",
            "    snoise4 = noise4(...)\n",
            "        noise4(x, y, z, w, octaves=1, persistence=0.5, lacunarity=2.0) return simplex noise value for specified 4D coordinate\n",
            "        \n",
            "        octaves -- specifies the number of passes, defaults to 1 (simple noise).\n",
            "        \n",
            "        persistence -- specifies the amplitude of each successive octave relative\n",
            "        to the one below it. Defaults to 0.5 (each higher octave's amplitude\n",
            "        is halved). Note the amplitude of the first pass is always 1.0.\n",
            "        \n",
            "        lacunarity -- specifies the frequency of each successive octave relative\n",
            "        to the one below it, similar to persistence. Defaults to 2.0.\n",
            "\n",
            "VERSION\n",
            "    1.2.1\n",
            "\n",
            "FILE\n",
            "    /usr/local/lib/python3.6/dist-packages/noise/__init__.py\n",
            "\n",
            "\n"
          ],
          "name": "stdout"
        }
      ]
    },
    {
      "cell_type": "markdown",
      "metadata": {
        "id": "K_A1A6Kc6UTw",
        "colab_type": "text"
      },
      "source": [
        "#### Estrutura da árvore"
      ]
    },
    {
      "cell_type": "code",
      "metadata": {
        "id": "CG7n9yW16XhP",
        "colab_type": "code",
        "outputId": "8be3d2c1-8e3c-4492-da77-1bce512cea3d",
        "colab": {
          "base_uri": "https://localhost:8080/",
          "height": 338
        }
      },
      "source": [
        "# input e output => np.array \n",
        "pset = gp.PrimitiveSet(\"main\", np.ndarray, np.ndarray)\n",
        "pset.renameArguments(ARG0=\"input\")\n",
        "pset.addPrimitive(perlinNoise, np.ndarray, np.ndarray)\n"
      ],
      "execution_count": 0,
      "outputs": [
        {
          "output_type": "error",
          "ename": "TypeError",
          "evalue": "ignored",
          "traceback": [
            "\u001b[0;31m---------------------------------------------------------------------------\u001b[0m",
            "\u001b[0;31mTypeError\u001b[0m                                 Traceback (most recent call last)",
            "\u001b[0;32m<ipython-input-11-544d2b6c0441>\u001b[0m in \u001b[0;36m<module>\u001b[0;34m()\u001b[0m\n\u001b[0;32m----> 1\u001b[0;31m \u001b[0mpset\u001b[0m \u001b[0;34m=\u001b[0m \u001b[0mgp\u001b[0m\u001b[0;34m.\u001b[0m\u001b[0mPrimitiveSet\u001b[0m\u001b[0;34m(\u001b[0m\u001b[0;34m\"main\"\u001b[0m\u001b[0;34m,\u001b[0m \u001b[0mnp\u001b[0m\u001b[0;34m.\u001b[0m\u001b[0mndarray\u001b[0m\u001b[0;34m,\u001b[0m \u001b[0mnp\u001b[0m\u001b[0;34m.\u001b[0m\u001b[0mndarray\u001b[0m\u001b[0;34m)\u001b[0m\u001b[0;34m\u001b[0m\u001b[0;34m\u001b[0m\u001b[0m\n\u001b[0m\u001b[1;32m      2\u001b[0m \u001b[0mpset\u001b[0m\u001b[0;34m.\u001b[0m\u001b[0mrenameArguments\u001b[0m\u001b[0;34m(\u001b[0m\u001b[0mARG0\u001b[0m\u001b[0;34m=\u001b[0m\u001b[0;34m\"input\"\u001b[0m\u001b[0;34m)\u001b[0m\u001b[0;34m\u001b[0m\u001b[0;34m\u001b[0m\u001b[0m\n\u001b[1;32m      3\u001b[0m \u001b[0mpset\u001b[0m\u001b[0;34m.\u001b[0m\u001b[0maddPrimitive\u001b[0m\u001b[0;34m(\u001b[0m\u001b[0mperlinNoise\u001b[0m\u001b[0;34m,\u001b[0m \u001b[0mnp\u001b[0m\u001b[0;34m.\u001b[0m\u001b[0mndarray\u001b[0m\u001b[0;34m,\u001b[0m \u001b[0mnp\u001b[0m\u001b[0;34m.\u001b[0m\u001b[0mndarray\u001b[0m\u001b[0;34m)\u001b[0m\u001b[0;34m\u001b[0m\u001b[0;34m\u001b[0m\u001b[0m\n",
            "\u001b[0;32m/usr/local/lib/python3.6/dist-packages/deap/gp.py\u001b[0m in \u001b[0;36m__init__\u001b[0;34m(self, name, arity, prefix)\u001b[0m\n\u001b[1;32m    430\u001b[0m     \"\"\"\n\u001b[1;32m    431\u001b[0m     \u001b[0;32mdef\u001b[0m \u001b[0m__init__\u001b[0m\u001b[0;34m(\u001b[0m\u001b[0mself\u001b[0m\u001b[0;34m,\u001b[0m \u001b[0mname\u001b[0m\u001b[0;34m,\u001b[0m \u001b[0marity\u001b[0m\u001b[0;34m,\u001b[0m \u001b[0mprefix\u001b[0m\u001b[0;34m=\u001b[0m\u001b[0;34m\"ARG\"\u001b[0m\u001b[0;34m)\u001b[0m\u001b[0;34m:\u001b[0m\u001b[0;34m\u001b[0m\u001b[0;34m\u001b[0m\u001b[0m\n\u001b[0;32m--> 432\u001b[0;31m         \u001b[0margs\u001b[0m \u001b[0;34m=\u001b[0m \u001b[0;34m[\u001b[0m\u001b[0m__type__\u001b[0m\u001b[0;34m]\u001b[0m \u001b[0;34m*\u001b[0m \u001b[0marity\u001b[0m\u001b[0;34m\u001b[0m\u001b[0;34m\u001b[0m\u001b[0m\n\u001b[0m\u001b[1;32m    433\u001b[0m         \u001b[0mPrimitiveSetTyped\u001b[0m\u001b[0;34m.\u001b[0m\u001b[0m__init__\u001b[0m\u001b[0;34m(\u001b[0m\u001b[0mself\u001b[0m\u001b[0;34m,\u001b[0m \u001b[0mname\u001b[0m\u001b[0;34m,\u001b[0m \u001b[0margs\u001b[0m\u001b[0;34m,\u001b[0m \u001b[0m__type__\u001b[0m\u001b[0;34m,\u001b[0m \u001b[0mprefix\u001b[0m\u001b[0;34m)\u001b[0m\u001b[0;34m\u001b[0m\u001b[0;34m\u001b[0m\u001b[0m\n\u001b[1;32m    434\u001b[0m \u001b[0;34m\u001b[0m\u001b[0m\n",
            "\u001b[0;31mTypeError\u001b[0m: can't multiply sequence by non-int of type 'type'"
          ]
        }
      ]
    }
  ]
}