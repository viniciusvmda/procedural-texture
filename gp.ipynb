{
  "nbformat": 4,
  "nbformat_minor": 0,
  "metadata": {
    "colab": {
      "name": "gp.ipynb",
      "provenance": [],
      "include_colab_link": true
    },
    "kernelspec": {
      "name": "python3",
      "display_name": "Python 3"
    }
  },
  "cells": [
    {
      "cell_type": "markdown",
      "metadata": {
        "id": "view-in-github",
        "colab_type": "text"
      },
      "source": [
        "<a href=\"https://colab.research.google.com/github/viniciusvmda/procedural-texture/blob/master/gp.ipynb\" target=\"_parent\"><img src=\"https://colab.research.google.com/assets/colab-badge.svg\" alt=\"Open In Colab\"/></a>"
      ]
    },
    {
      "cell_type": "markdown",
      "metadata": {
        "id": "y5VxCTON3tui",
        "colab_type": "text"
      },
      "source": [
        "# Programação Genética\n",
        "https://www.pyimagesearch.com/2014/07/14/3-ways-compare-histograms-using-opencv-python/"
      ]
    },
    {
      "cell_type": "markdown",
      "metadata": {
        "id": "C8isxG-X3j_n",
        "colab_type": "text"
      },
      "source": [
        "## Requisitos"
      ]
    },
    {
      "cell_type": "code",
      "metadata": {
        "id": "GowSmknJ3hXB",
        "colab_type": "code",
        "outputId": "cabd2dbc-7140-41ed-cb99-1227e348ec76",
        "colab": {
          "base_uri": "https://localhost:8080/",
          "height": 1000
        }
      },
      "source": [
        "# GP\n",
        "!pip install deap\n",
        "# Graphics\n",
        "!apt-get install graphviz libgraphviz-dev pkg-config\n",
        "!pip install pygraphviz networkx\n",
        "# Noise functions\n",
        "!pip install noise"
      ],
      "execution_count": 1,
      "outputs": [
        {
          "output_type": "stream",
          "text": [
            "Collecting deap\n",
            "\u001b[?25l  Downloading https://files.pythonhosted.org/packages/81/98/3166fb5cfa47bf516e73575a1515734fe3ce05292160db403ae542626b32/deap-1.3.0-cp36-cp36m-manylinux2010_x86_64.whl (151kB)\n",
            "\u001b[K     |████████████████████████████████| 153kB 5.1MB/s \n",
            "\u001b[?25hRequirement already satisfied: numpy in /usr/local/lib/python3.6/dist-packages (from deap) (1.16.5)\n",
            "Installing collected packages: deap\n",
            "Successfully installed deap-1.3.0\n",
            "Reading package lists... Done\n",
            "Building dependency tree       \n",
            "Reading state information... Done\n",
            "pkg-config is already the newest version (0.29.1-0ubuntu2).\n",
            "graphviz is already the newest version (2.40.1-2).\n",
            "The following additional packages will be installed:\n",
            "  libgail-common libgail18 libgtk2.0-0 libgtk2.0-bin libgtk2.0-common\n",
            "  libgvc6-plugins-gtk libxdot4\n",
            "Suggested packages:\n",
            "  gvfs\n",
            "The following NEW packages will be installed:\n",
            "  libgail-common libgail18 libgraphviz-dev libgtk2.0-0 libgtk2.0-bin\n",
            "  libgtk2.0-common libgvc6-plugins-gtk libxdot4\n",
            "0 upgraded, 8 newly installed, 0 to remove and 8 not upgraded.\n",
            "Need to get 2,120 kB of archives.\n",
            "After this operation, 7,128 kB of additional disk space will be used.\n",
            "Get:1 http://archive.ubuntu.com/ubuntu bionic/main amd64 libgtk2.0-common all 2.24.32-1ubuntu1 [125 kB]\n",
            "Get:2 http://archive.ubuntu.com/ubuntu bionic/main amd64 libgtk2.0-0 amd64 2.24.32-1ubuntu1 [1,769 kB]\n",
            "Get:3 http://archive.ubuntu.com/ubuntu bionic/main amd64 libgail18 amd64 2.24.32-1ubuntu1 [14.2 kB]\n",
            "Get:4 http://archive.ubuntu.com/ubuntu bionic/main amd64 libgail-common amd64 2.24.32-1ubuntu1 [112 kB]\n",
            "Get:5 http://archive.ubuntu.com/ubuntu bionic/universe amd64 libxdot4 amd64 2.40.1-2 [15.7 kB]\n",
            "Get:6 http://archive.ubuntu.com/ubuntu bionic/universe amd64 libgvc6-plugins-gtk amd64 2.40.1-2 [18.2 kB]\n",
            "Get:7 http://archive.ubuntu.com/ubuntu bionic/universe amd64 libgraphviz-dev amd64 2.40.1-2 [57.3 kB]\n",
            "Get:8 http://archive.ubuntu.com/ubuntu bionic/main amd64 libgtk2.0-bin amd64 2.24.32-1ubuntu1 [7,536 B]\n",
            "Fetched 2,120 kB in 5s (455 kB/s)\n",
            "Selecting previously unselected package libgtk2.0-common.\n",
            "(Reading database ... 131183 files and directories currently installed.)\n",
            "Preparing to unpack .../0-libgtk2.0-common_2.24.32-1ubuntu1_all.deb ...\n",
            "Unpacking libgtk2.0-common (2.24.32-1ubuntu1) ...\n",
            "Selecting previously unselected package libgtk2.0-0:amd64.\n",
            "Preparing to unpack .../1-libgtk2.0-0_2.24.32-1ubuntu1_amd64.deb ...\n",
            "Unpacking libgtk2.0-0:amd64 (2.24.32-1ubuntu1) ...\n",
            "Selecting previously unselected package libgail18:amd64.\n",
            "Preparing to unpack .../2-libgail18_2.24.32-1ubuntu1_amd64.deb ...\n",
            "Unpacking libgail18:amd64 (2.24.32-1ubuntu1) ...\n",
            "Selecting previously unselected package libgail-common:amd64.\n",
            "Preparing to unpack .../3-libgail-common_2.24.32-1ubuntu1_amd64.deb ...\n",
            "Unpacking libgail-common:amd64 (2.24.32-1ubuntu1) ...\n",
            "Selecting previously unselected package libxdot4.\n",
            "Preparing to unpack .../4-libxdot4_2.40.1-2_amd64.deb ...\n",
            "Unpacking libxdot4 (2.40.1-2) ...\n",
            "Selecting previously unselected package libgvc6-plugins-gtk.\n",
            "Preparing to unpack .../5-libgvc6-plugins-gtk_2.40.1-2_amd64.deb ...\n",
            "Unpacking libgvc6-plugins-gtk (2.40.1-2) ...\n",
            "Selecting previously unselected package libgraphviz-dev.\n",
            "Preparing to unpack .../6-libgraphviz-dev_2.40.1-2_amd64.deb ...\n",
            "Unpacking libgraphviz-dev (2.40.1-2) ...\n",
            "Selecting previously unselected package libgtk2.0-bin.\n",
            "Preparing to unpack .../7-libgtk2.0-bin_2.24.32-1ubuntu1_amd64.deb ...\n",
            "Unpacking libgtk2.0-bin (2.24.32-1ubuntu1) ...\n",
            "Setting up libgtk2.0-common (2.24.32-1ubuntu1) ...\n",
            "Setting up libxdot4 (2.40.1-2) ...\n",
            "Processing triggers for libc-bin (2.27-3ubuntu1) ...\n",
            "Processing triggers for man-db (2.8.3-2ubuntu0.1) ...\n",
            "Setting up libgtk2.0-0:amd64 (2.24.32-1ubuntu1) ...\n",
            "Setting up libgail18:amd64 (2.24.32-1ubuntu1) ...\n",
            "Setting up libgail-common:amd64 (2.24.32-1ubuntu1) ...\n",
            "Setting up libgvc6-plugins-gtk (2.40.1-2) ...\n",
            "Setting up libgraphviz-dev (2.40.1-2) ...\n",
            "Setting up libgtk2.0-bin (2.24.32-1ubuntu1) ...\n",
            "Processing triggers for libc-bin (2.27-3ubuntu1) ...\n",
            "Collecting pygraphviz\n",
            "\u001b[?25l  Downloading https://files.pythonhosted.org/packages/7e/b1/d6d849ddaf6f11036f9980d433f383d4c13d1ebcfc3cd09bc845bda7e433/pygraphviz-1.5.zip (117kB)\n",
            "\u001b[K     |████████████████████████████████| 122kB 5.0MB/s \n",
            "\u001b[?25hRequirement already satisfied: networkx in /usr/local/lib/python3.6/dist-packages (2.3)\n",
            "Requirement already satisfied: decorator>=4.3.0 in /usr/local/lib/python3.6/dist-packages (from networkx) (4.4.0)\n",
            "Building wheels for collected packages: pygraphviz\n",
            "  Building wheel for pygraphviz (setup.py) ... \u001b[?25l\u001b[?25hdone\n",
            "  Created wheel for pygraphviz: filename=pygraphviz-1.5-cp36-cp36m-linux_x86_64.whl size=157583 sha256=3770e5965b0d71211c57342679e6d512a5af8b1d06a8f6aa3993310ee68133ed\n",
            "  Stored in directory: /root/.cache/pip/wheels/65/54/69/1aee9e66ab19916293208d4c9de0d3898adebe6b2eeff6476b\n",
            "Successfully built pygraphviz\n",
            "Installing collected packages: pygraphviz\n",
            "Successfully installed pygraphviz-1.5\n",
            "Collecting noise\n",
            "\u001b[?25l  Downloading https://files.pythonhosted.org/packages/18/29/bb830ee6d934311e17a7a4fa1368faf3e73fbb09c0d80fc44e41828df177/noise-1.2.2.tar.gz (125kB)\n",
            "\u001b[K     |████████████████████████████████| 133kB 4.9MB/s \n",
            "\u001b[?25hBuilding wheels for collected packages: noise\n",
            "  Building wheel for noise (setup.py) ... \u001b[?25l\u001b[?25hdone\n",
            "  Created wheel for noise: filename=noise-1.2.2-cp36-cp36m-linux_x86_64.whl size=62457 sha256=e2d61c26374a983f06282663ea505fe690e1c2bec8ae7ec73ff41bf3014fe666\n",
            "  Stored in directory: /root/.cache/pip/wheels/fd/a3/c1/d36defe6e9f074b25dc0f018eb9f8fdd675a7ef87071ce3821\n",
            "Successfully built noise\n",
            "Installing collected packages: noise\n",
            "Successfully installed noise-1.2.2\n"
          ],
          "name": "stdout"
        }
      ]
    },
    {
      "cell_type": "markdown",
      "metadata": {
        "id": "9ePJCFAG30CC",
        "colab_type": "text"
      },
      "source": [
        "## Bibliotecas"
      ]
    },
    {
      "cell_type": "code",
      "metadata": {
        "id": "PZYl2fCY35DO",
        "colab_type": "code",
        "colab": {}
      },
      "source": [
        "# Genetic Programming\n",
        "from deap import base, creator, gp, tools, algorithms\n",
        "# Graphics\n",
        "import networkx as nx\n",
        "from networkx.drawing.nx_agraph import graphviz_layout\n",
        "from matplotlib import pyplot as plt\n",
        "# Computer vision\n",
        "import cv2\n",
        "from google.colab.patches import cv2_imshow\n",
        "# Util\n",
        "import numpy as np\n",
        "import random\n",
        "# Operators\n",
        "from noise import snoise2\n",
        "# Upload images\n",
        "from google.colab import files\n",
        "from io import BytesIO"
      ],
      "execution_count": 0,
      "outputs": []
    },
    {
      "cell_type": "markdown",
      "metadata": {
        "id": "cWgNX9NH3wsd",
        "colab_type": "text"
      },
      "source": [
        "## Desenvolvimento"
      ]
    },
    {
      "cell_type": "markdown",
      "metadata": {
        "id": "vIPg_6SeT5xC",
        "colab_type": "text"
      },
      "source": [
        "### Inicialização de variáveis"
      ]
    },
    {
      "cell_type": "code",
      "metadata": {
        "id": "2YS6H5TgT-1L",
        "colab_type": "code",
        "colab": {}
      },
      "source": [
        "toolbox = base.Toolbox()"
      ],
      "execution_count": 0,
      "outputs": []
    },
    {
      "cell_type": "markdown",
      "metadata": {
        "id": "kESbD5UjMMgJ",
        "colab_type": "text"
      },
      "source": [
        "### Imagem de referência"
      ]
    },
    {
      "cell_type": "code",
      "metadata": {
        "id": "GQKaBWKgMVfQ",
        "colab_type": "code",
        "outputId": "531c88c8-1ed3-469b-9054-4254778f8b01",
        "colab": {
          "resources": {
            "http://localhost:8080/nbextensions/google.colab/files.js": {
              "data": "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",
              "ok": true,
              "headers": [
                [
                  "content-type",
                  "application/javascript"
                ]
              ],
              "status": 200,
              "status_text": ""
            }
          },
          "base_uri": "https://localhost:8080/",
          "height": 111
        }
      },
      "source": [
        "files.upload()"
      ],
      "execution_count": 0,
      "outputs": [
        {
          "output_type": "display_data",
          "data": {
            "text/html": [
              "\n",
              "     <input type=\"file\" id=\"files-5f607bce-2e5d-4a8b-9ccc-20e447afe8aa\" name=\"files[]\" multiple disabled />\n",
              "     <output id=\"result-5f607bce-2e5d-4a8b-9ccc-20e447afe8aa\">\n",
              "      Upload widget is only available when the cell has been executed in the\n",
              "      current browser session. Please rerun this cell to enable.\n",
              "      </output>\n",
              "      <script src=\"/nbextensions/google.colab/files.js\"></script> "
            ],
            "text/plain": [
              "<IPython.core.display.HTML object>"
            ]
          },
          "metadata": {
            "tags": []
          }
        },
        {
          "output_type": "stream",
          "text": [
            "Saving blue-sky.jpg to blue-sky.jpg\n"
          ],
          "name": "stdout"
        },
        {
          "output_type": "execute_result",
          "data": {
            "text/plain": [
              "{'blue-sky.jpg': b'\\xff\\xd8\\xff\\xe0\\x00\\x10JFIF\\x00\\x01\\x01\\x00\\x00\\x01\\x00\\x01\\x00\\x00\\xff\\xfe\\x00<CREATOR: gd-jpeg v1.0 (using IJG JPEG v80), quality = 100\\n\\xff\\xdb\\x00C\\x00\\x01\\x01\\x01\\x01\\x01\\x01\\x01\\x01\\x01\\x01\\x01\\x01\\x01\\x01\\x01\\x01\\x01\\x01\\x01\\x01\\x01\\x01\\x01\\x01\\x01\\x01\\x01\\x01\\x01\\x01\\x01\\x01\\x01\\x01\\x01\\x01\\x01\\x01\\x01\\x01\\x01\\x01\\x01\\x01\\x01\\x01\\x01\\x01\\x01\\x01\\x01\\x01\\x01\\x01\\x01\\x01\\x01\\x01\\x01\\x01\\x01\\x01\\x01\\x01\\xff\\xdb\\x00C\\x01\\x01\\x01\\x01\\x01\\x01\\x01\\x01\\x01\\x01\\x01\\x01\\x01\\x01\\x01\\x01\\x01\\x01\\x01\\x01\\x01\\x01\\x01\\x01\\x01\\x01\\x01\\x01\\x01\\x01\\x01\\x01\\x01\\x01\\x01\\x01\\x01\\x01\\x01\\x01\\x01\\x01\\x01\\x01\\x01\\x01\\x01\\x01\\x01\\x01\\x01\\x01\\x01\\x01\\x01\\x01\\x01\\x01\\x01\\x01\\x01\\x01\\x01\\x01\\x01\\xff\\xc0\\x00\\x11\\x08\\x01\\x00\\x01\\x00\\x03\\x01\"\\x00\\x02\\x11\\x01\\x03\\x11\\x01\\xff\\xc4\\x00\\x1f\\x00\\x00\\x01\\x05\\x01\\x01\\x01\\x01\\x01\\x01\\x00\\x00\\x00\\x00\\x00\\x00\\x00\\x00\\x01\\x02\\x03\\x04\\x05\\x06\\x07\\x08\\t\\n\\x0b\\xff\\xc4\\x00\\xb5\\x10\\x00\\x02\\x01\\x03\\x03\\x02\\x04\\x03\\x05\\x05\\x04\\x04\\x00\\x00\\x01}\\x01\\x02\\x03\\x00\\x04\\x11\\x05\\x12!1A\\x06\\x13Qa\\x07\"q\\x142\\x81\\x91\\xa1\\x08#B\\xb1\\xc1\\x15R\\xd1\\xf0$3br\\x82\\t\\n\\x16\\x17\\x18\\x19\\x1a%&\\'()*456789:CDEFGHIJSTUVWXYZcdefghijstuvwxyz\\x83\\x84\\x85\\x86\\x87\\x88\\x89\\x8a\\x92\\x93\\x94\\x95\\x96\\x97\\x98\\x99\\x9a\\xa2\\xa3\\xa4\\xa5\\xa6\\xa7\\xa8\\xa9\\xaa\\xb2\\xb3\\xb4\\xb5\\xb6\\xb7\\xb8\\xb9\\xba\\xc2\\xc3\\xc4\\xc5\\xc6\\xc7\\xc8\\xc9\\xca\\xd2\\xd3\\xd4\\xd5\\xd6\\xd7\\xd8\\xd9\\xda\\xe1\\xe2\\xe3\\xe4\\xe5\\xe6\\xe7\\xe8\\xe9\\xea\\xf1\\xf2\\xf3\\xf4\\xf5\\xf6\\xf7\\xf8\\xf9\\xfa\\xff\\xc4\\x00\\x1f\\x01\\x00\\x03\\x01\\x01\\x01\\x01\\x01\\x01\\x01\\x01\\x01\\x00\\x00\\x00\\x00\\x00\\x00\\x01\\x02\\x03\\x04\\x05\\x06\\x07\\x08\\t\\n\\x0b\\xff\\xc4\\x00\\xb5\\x11\\x00\\x02\\x01\\x02\\x04\\x04\\x03\\x04\\x07\\x05\\x04\\x04\\x00\\x01\\x02w\\x00\\x01\\x02\\x03\\x11\\x04\\x05!1\\x06\\x12AQ\\x07aq\\x13\"2\\x81\\x08\\x14B\\x91\\xa1\\xb1\\xc1\\t#3R\\xf0\\x15br\\xd1\\n\\x16$4\\xe1%\\xf1\\x17\\x18\\x19\\x1a&\\'()*56789:CDEFGHIJSTUVWXYZcdefghijstuvwxyz\\x82\\x83\\x84\\x85\\x86\\x87\\x88\\x89\\x8a\\x92\\x93\\x94\\x95\\x96\\x97\\x98\\x99\\x9a\\xa2\\xa3\\xa4\\xa5\\xa6\\xa7\\xa8\\xa9\\xaa\\xb2\\xb3\\xb4\\xb5\\xb6\\xb7\\xb8\\xb9\\xba\\xc2\\xc3\\xc4\\xc5\\xc6\\xc7\\xc8\\xc9\\xca\\xd2\\xd3\\xd4\\xd5\\xd6\\xd7\\xd8\\xd9\\xda\\xe2\\xe3\\xe4\\xe5\\xe6\\xe7\\xe8\\xe9\\xea\\xf2\\xf3\\xf4\\xf5\\xf6\\xf7\\xf8\\xf9\\xfa\\xff\\xda\\x00\\x0c\\x03\\x01\\x00\\x02\\x11\\x03\\x11\\x00?\\x00\\xfd\\xbc:\\x00\\xc9\\xfd\\xd8\\xeb\\xec?\\xa5=t2\\xa7\\x84\\x1f\\x8e\\t\\xfe\\x87\\xf5\\xaf[\\xfe\\xc7V\\xe4G\\xf8\\xe0\\x7f^?*kh\\xe0\\x03\\xfb\\xb3\\xe9\\xd0\\x7f<\\x0f\\xd0\\xd7\\xfa\\x07\\xfd\\xb4\\xda\\xd6O\\xfa\\xf9\\x9f\\xc0\\xff\\x00\\xd8\\xc9j\\xa3\\xf8\\xe8yp\\xd3Y:.?\\x0c\\xfe\\xa3\\x9f\\xcc\\xd2\\xb5\\xb3 \\xe8x\\x1d\\xb1\\xc7\\xf2\\xeb\\xfa\\xd7\\xa2K\\xa5\\x808\\x04~x\\xcf\\xb6r\\x0f_\\xc3\\xbf\\x15\\x8fs`W?.G=\\xbav\\xe7\\xd7\\xf0\\xe8:\\n\\xd2\\x19\\x82\\xa8\\xfe$\\xfc\\x9f\\xf5\\xf8\\x99\\xd4\\xcb\\xfd\\x9a\\xf8Z8\\x992\\xa3\\x1d9\\xed\\xdc\\x7f\\x9f\\xf3\\xda\\xb2\\xae%p\\x0f=1\\x81\\xd8g\\xb9\\x1d\\xf1\\xdb?\\xfe\\xbe\\xaa\\xea\\xd0\\x8c\\x90?\\xcf\\xf4\\xfc8\\x07\\x9fLs\\xf7\\x16\\xd9\\xcf\\x1c\\xf7\\x1f\\xe7\\xa1\\x1e\\xbd\\xff\\x00J\\xf50\\xf5a.W\\xa6\\x8fU\\xa6\\xbf\\xe6yu\\xe9N\\x1akml\\xff\\x00\\xae\\xbf\\xf0\\xeb\\xcb\\x98\\x9eF\\xe4\\xe4\\x9e3\\xeb\\xd4\\xe3\\xf1\\xe3\\xf3\\xefYo#\\x1eX\\x93\\x93\\xc0\\xe9\\x8f\\xf3\\xcfoj\\xde\\xb8\\xb5`O\\xcaH\\xfe_Q\\xdb\\xfczzVT\\x96\\xe4\\x13\\x8f\\xc8\\xf4\\xfeX\\xff\\x008\\xc0\\xafr\\x84\\xe9\\xdbuw\\xd7\\xcb\\xb7\\x97\\xa6\\x87\\x8dZ\\x159\\x9bwk\\xa3\\xde\\xdf/\\xd7\\xa9Q[>\\xd8\\xab\\x91>F\\x0f\\xf8s\\xff\\x00\\xd7\\xe3\\xfa\\n\\xacP\\xafQ\\x8f\\xf3\\xfez\\xd0\\t\\x07\"\\xba\\x1aR_\\x930WV\\xd7U\\xd4\\xd0,v\\xe0\\xe3\\x03\\xf3\\xef\\xf8{v\\xacK\\xd7\\xcf\\xa79>\\xfc\\x7f\\xfa\\xbf^\\xb5bY\\xf00N}\\x06x\\x1e\\x87\\x9c\\xff\\x00\\x87\\x1e\\xb5\\x8du?\\x04\\x93\\xeb\\xed\\xcf\\xeb\\xd0\\xf3\\xd3\\x8e\\xfdM:\\x14\\xad+.\\xe9\\xbd\\xecgZ\\xa7\\xba\\xefk\\xed\\xa7\\xf5\\xff\\x00\\x0c`\\xdf\\x11\\x93\\xdcs\\xd0\\xf5\\xe9\\xc7\\xbfC\\xfeFk\\x93\\xbd\\\\\\x92x\\xeaONF;g\\xb6\\x7f\\xcf\\\\WEu&\\xe2\\xc7\\xfc\\xfdx>\\x99\\xe9\\xea8\\xaer\\xe9\\x8f<w?\\x8f\\xf8r+\\xe9pqk\\x97\\xfa\\xfe\\xb7>w\\x15%)K\\xb5\\xff\\x00O\\xf22\\xd9\\x06Nr\\x0f|\\x7f>\\x95<\\x10\\x86`1\\xc7\\xaf\\xa9\\xeb\\x8f\\xfe\\xb7\\x1f\\xce\\x97h\\xe0\\x9e\\xc3\\xf08\\xeej\\xdd\\xaa\\xf3\\x9e\\xf9\\xe7\\xdc\\xe3?\\xcf\\xfc+\\xd1\\xa9\\'\\x187}\\x96\\x9eW<\\xfapNW\\xb7o\\xbd\\xbf\\xe9\\x9d\\x1e\\x9bn\\xb9Q\\x81\\xc62H\\xf7\\xe4c\\x9f\\xe9\\xe9\\xc5z\\x16\\x99n\\xa0\\x03\\x81\\xd8\\x03\\x83\\xfe{c\\xd8\\xe2\\xb8\\x8d?\\xef\\x0f\\xa0\\xfdF+\\xd0t\\xc26(\\xef\\xd3\\xf3\\xe9\\xfe}\\xab\\xe53)\\xcb\\xde\\xd5\\xee\\xfa\\xfa\\x7f\\x99\\xf59l#\\xeei\\xbb\\xff\\x00\\x86\\xfc\\x8e\\xae\\xd6\\xdc\\x05\\x03\\x1f_s\\xd4\\xfb`\\x7f\\x91\\x93\\x9a\\xd01\\x0cq\\x8f\\xa61\\xf5\\xef\\xc1\\xf7\\xa8\\xad\\xbe\\xef\\xe7\\xfc\\xc5h\\xe3#\\x07\\xa7n\\x9c}?\\xcfN\\xa3\\xae~J\\xa4\\xdf5\\xdf\\xce\\xfe\\xb6\\xf9l}U8\\'\\x1d\\x15\\xf4\\xfc<\\x8c\\x0b\\x88\\xba\\x80=\\xd7\\xfc1\\xee3\\xe9\\xcfN+\\n\\xe23\\x86\\x1f\\x97\\xe1\\xd38\\xf7\\x189\\xf5\\xc68\\xae\\xbax\\xf7\\x03\\xeb\\xfc\\x88\\xfa\\xf3\\xcf\\xe1\\xcfS\\xcd`\\xddE\\xc6@\\xc7\\xf4?\\xfd~\\xbf\\x81\\xeck\\xab\\x0fV\\xcd/;\\xc7\\xf5G5zwMyi\\xfa?\\xbfFp\\xf7q|\\xc7\\x83\\x8es\\xf4\\xf7\\xfc\\x87\\x1e\\xc7\\x8a\\xc7h\\x01n\\x80\\xf3\\xc1\\xc1\\xcf\\xe1\\xeb\\xc6;\\xd7Mz\\x80\\x12x\\xe7\\xff\\x00\\xd7\\xd4\\xfe_\\xcb5\\x8eF\\t\\x15\\xf4T&\\xdcU\\x9f\\xa7\\xa3\\xd7\\xf5>~\\xb4\\x175\\x9a^\\x9f\\xd7\\xdc:\\xd2\\x01\\x901\\xdcd\\xe3\\x1f\\xd3\\x1czs\\xd0\\xf7\\xc5w\\xbaU\\xbaer\\x07\\x18\\xecx=\\xfd\\xbd\\x8fOn\\x95\\xc5\\xda\\x90\\x19s\\xeb\\xfdO\\x1f\\xa8\\xfeu\\xdd\\xe9N\\xb9\\xeb\\xd7\\x07\\xf0\\xe4\\xff\\x00\\x9f\\xa8\\xf5\\xaf?1\\x94\\xb9ef\\xfa\\xff\\x00_=\\xce\\xfc\\xbe1\\xe6W\\xfe\\xb5=\\x0fL\\xb7\\\\/\\x00g\\x19\\xe3\\x9f~\\xdd\\xfd\\xfaq\\xcfj\\xeel\\xad\\x94\\x85\\x01}3\\xd0\\x9f\\xf3\\xfe}1\\xc5i\\xb2\\x8c!\\xeb\\xc8\\xcf\\xe9\\xdb\\xd7\\xd7\\xd3\\xf4\\xae\\xea\\xc6`6\\x1e:\\x01\\xe83\\xfe\\x1e\\xbcw\\x1c\\xd7\\xe7\\xb9\\x83\\x9e\\xbb\\xee\\xef\\xf8\\xfe\\xbd<\\x92?@\\xc0F\\x16\\x8e\\x8bem\\xbf\\xad\\x8d\\xc4\\xb1\\x8c\\xa8\\xf9A\\xfc\\x8f\\xea\\x7f\\xcfs\\xc9\\xaa\\xf7:b\\x958\\x1d\\xba\\x1c\\x1f\\xf3\\xd4\\xf7\\xe3\\x82}\\xf5\\xad\\xe4R\\x01\\xeb\\x9e{w\\xfc\\x07\\xf9\\xe3\\xaesi\\x82\\xb0<\\x8f\\xea}\\xbd~\\x9f\\xa5x\\x0e\\xb5HOwk\\xdfw\\xf8?\\xf8c\\xdd\\xf60\\x9cvOM\\xad\\xff\\x00\\x0f\\xbf\\xa1\\xe6Z\\x86\\x90\\xad\\xb8l\\x1d\\xf00z\\x9fn:t\\xfcy\\x04\\xd7\\x17{\\xa1\\x02\\xc7\\xe4\\x1dH\\x00\\x8c\\xe3\\x8e9\\xfd}\\x00\\xf7\\xafn\\xb8\\xb6W\\x07\\x8e\\xbd\\x0f~?\\xc3\\xff\\x00\\xd5\\xe9XS\\xe9\\xc0\\x93\\xf2\\x83\\xfe\\x7f^\\xb8=>\\x95\\xeca3:\\x94\\x92\\xf7\\x9fMo\\xf9\\xebo\\xcb\\xe6y\\x18\\xac\\xb6\\x9dK\\xda+\\xe7\\xd3\\xe7\\xd3\\xd0\\xecc\\xb6\\r\\x8c\\x0f\\xff\\x00_\\xd3\\xb9\\xc7\\xa0\\xecqS\\x1b\\x0c\\x8e\\x99\\xc7lc\\x9f\\xa6?Z\\x9a\\xcd\\x83c\\xf3>\\xb8\\xc7\\xf3\\xad\\xb5P@\\xe3\\xfc\\xf4\\xc0\\xc5|\\xb5Z\\xf3\\x84\\xb7{\\xf7w\\xdf\\xfe\\x01\\xf4\\xd4\\xa8\\xc2qN\\xd7\\xbf\\xf9\\\\\\xe4.,\\x06\\x0eW?\\x87\\xd3\\xf9t\\xf7=zW9ya\\x8c\\xe1A\\x07?\\xe7\\xbf\\xf9\\xe9\\xe8}2h\\x15\\x94\\xe0}F?\\xa7\\xf4\\xff\\x00\\xf5\\x8e~\\xee\\xd8|\\xc0\\x8e=?\\xcf~\\xff\\x00\\xa9\\xc7 \\xf4\\xe1\\xb1\\x92\\xba\\xbb{\\xef\\xd9\\xf9\\xff\\x00\\x9e\\xfe\\xa8\\xe7\\xc4\\xe1\\x15\\x9d\\x97{\\xa6\\xbf\\xaf\\xeb\\xa9\\xe57\\x96\\x18\\xce\\x17\\x8c\\xe3\\x1e\\xbe\\xfe\\xde\\xfe\\xe3\\xd7\\xa7==\\x86r\\x009\\xfd\\x7f\\xc7\\xd4\\xfas\\xd4\\xd7\\xa7^Z\\x8ex\\xf5\\xcf\\x1f\\xcf\\xfc{\\xf1\\x9cu\\xac9l\\xc3v\\x03\\xd7\\xf1<\\xfb\\xff\\x00\\xf5\\xab\\xe90\\xd8\\xd6\\x92\\xbb\\xb5\\xba\\xff\\x00\\xc3m\\xf9=\\xd5\\x8f\\x9d\\xc4`\\x93n\\xca\\xe9\\xf4\\xfe\\xb7\\xfc\\xfdO2\\x9e\\xc0\\x8c\\xfc\\xb9\\xfc1\\x8e\\xfc\\x1f\\xf3\\xf45\\x89qc\\xd4\\x81\\x8e\\xb9\\xe3\\xdb\\xb8\\xe3\\xdf\\xa0\\xf7 \\xd7\\xa9\\\\Xu\\xc0\\xc8\\xf4\\xff\\x00\\x02?\\x01\\xcez\\x9e\\x82\\xb9\\xfb\\xbb\\x11\\x82B\\xf4\\xed\\xd0\\xfa\\x1f\\xe5\\x9f\\xf1\\xc5{x|{\\xba\\xbb\\xf9\\xf9~M\\x7fW<\\\\F\\x02\\xc9\\xb4\\xad\\xe4\\xff\\x00\\xab\\xaf\\xebS\\xcc\\xe7\\xb7(H\\xc7\\xae;\\xfe_\\xcf\\x1d\\xfd\\xbaV<\\xff\\x00\\xbb\\r\\xdb\\xff\\x00\\xaf\\xf9q\\x9f\\xd2\\xbb\\x9b\\xdb\\\\\\x06\\xe3\\x04g\\xb69\\xf5\\xf6\\xed\\x9cq\\xc6z\\x83\\\\m\\xf4X\\x07\\x83\\xc7\\xa7\\xb7#\\xfa\\xfa\\x1e+\\xe8\\xf0\\x95\\x95Ek\\xee\\xbf\\x1f/U\\x7fF\\xac|\\xf6*\\x8b\\xa7v\\x95\\xadt\\xff\\x00\\xcf\\xf40e\\x93\\x19\\x19\\xfc\\xcezq\\xff\\x00\\xea\\x1e\\xbf\\x95b\\xddM\\x9e\\xe4d\\x1f\\xcb\\xb9\\xff\\x00<\\xfbs\\x8a\\xd1\\xb9\\xc8\\x07\\xf0\\xfc\\xb9\\xcf_\\xc6\\xb0\\xee2I\\xfa\\x0c~\\x7f\\xcf\\x18\\xaf\\x7f\\x0f\\x08\\xe9\\xdbG\\xfa\\xfe\\x9fy\\xe0\\xd7\\x9bI\\xae\\xed\\xafE\\xff\\x00\\x04\\xcc\\x9d\\x89\\x07\\xfc\\xfb\\xff\\x00@?\\n\\xc7\\x98\\x13\\xc7^\\x9f\\x97#\\xf9\\xd6\\xcc\\x88N}\\t\\xce{~?\\x9e*\\x9b@O`~\\xb8\\xfe}\\x7fA^\\xbd)(\\xd9\\xae\\xdfs\\xeb\\xa7\\xf5\\xd0\\xf2*\\'\\'}\\xf7\\xba\\xfe\\xbe\\xe3$+\\x1c\\x0e\\xa3\\x8c\\xf1\\xd7\\xeaI?\\x8d_\\x81H\\xc7\\xf9\\xfc\\xbe\\xa4\\x9f\\xd2\\xa7[c\\x91\\xc7>\\xdc\\xe3\\xf5\\xfdqVc\\x84\\xafo\\xcf\\xfc\\xe4\\xfbq\\xc7\\xebZT\\xac\\xa4\\xad\\xb7\\xcc\\x88Si\\xad-\\xad\\xfb\\xbd>\\xf3N\\xc5\\x88u\\xc1\\xf5\\xfeg\\xfc+\\xbc\\xd3$\\xe83\\x9e?/\\xa7\\xe1\\x9e\\x9d\\rpV\\xa8C\\x0f\\xeb\\xf4?\\x87S\\xc7\\xd2\\xbb]7 \\xaf\\xafC\\xfc\\x8dx\\x19\\x82RR}\\xd7\\xcfg\\xfeH\\xf7r\\xf6\\xe3\\xcb\\xbe\\x8f\\xfc\\x8fB\\xb2|\\xa8\\xf7\\x03\\x9f^1\\xcf\\xe2+v1\\xb8\\x11\\x8c\\xe7\\x1c~\\x7f\\xe7\\xda\\xb9\\xab\\x068\\x1e\\xc4\\x8f\\xae0Fk\\xa5\\xb7=3\\xfeq\\x91\\xfe\\x15\\xf1\\xb8\\xa5i?_\\xd6\\xff\\x00\\xa9\\xf6\\x18g{.\\xff\\x00\\xf0?\\xaf\\x99\\x14\\xb1\\xff\\x00^\\xbdq\\xdc~\\x1d\\x7f\\x96+\\x12\\xf2?\\x95\\xbd\\xc1\\xcf\\xd4s\\xfa\\x8f\\xf2+\\xa5\\x9c\\x0cg\\xbf\\xf9\\xc7\\xf3?\\x95`^\\xe3i\\xc7\\xa3\\x7f#\\x8f\\xd3\\x14\\xb0\\xd2|\\xc9_f\\xbf5\\xfah<D\\x12\\xbf\\xf5\\xb9\\xc3\\xdf\\x81\\xdf\\xbf_\\xcc\\xff\\x00C\\x83\\\\\\xec\\x8c\\x14\\x93\\xef\\x8fN\\x83\\x07\\xf5\\xae\\x87Ra\\x8c~~\\xdd\\xbd\\x7f\\xc8\\xe6\\xb9+\\x99@n}\\x7f_\\xfe\\xb6{\\x7fL\\xd7\\xd5\\xe0\\xe2\\xdcW\\xa2G\\xcbb\\xda\\x8c\\xe4\\xfa&\\xdf\\xe9\\xf9\\x97\\xa0\\x93\\xe6\\x04\\x1c~\\xa3\\xaf\\xe5\\xcf\\xe7\\x91]\\x86\\x99q\\xf7\\x0e}\\x8f#\\xd7#<s\\xc8\\xf6\\xe0q\\xeb^{\\x0c\\xe3p\\xc1#\\xdb\\xfc\\xff\\x00\\x87\\xeb\\x8a\\xe9\\xf4\\xe9\\xc8`3\\xd7\\xeb\\x8f\\xe7\\xc7\\xaf\\xb0\\xe3=ichsA\\xe9\\xd3\\xfe\\x1b\\xef\\xd5z\\xd8\\xac\\x1dd\\xa7\\x16\\x9e\\x9f\\xd5\\xeez\\xf6\\x9ds\\x8d\\xa0\\x9e\\xb8\\xeb\\xf8z\\x9c\\xfa\\x83\\xd8\\xff\\x00>\\xda\\xc6\\xec\\x00\\x01?\\xd3\\xfc:z~#\\xb5yV\\x9fs\\xf2\\xaf<\\x8e?/nOL\\x1e}N\\x05u\\xb6\\x97|\\x0ez{\\xe0\\x83\\xfd??q\\xc6k\\xe1\\xf1\\xd8T\\xe5-4w\\xfb\\xff\\x00\\xadWc\\xedp8\\xab(\\xeb\\xaa\\xb5\\xbd?\\xad\\xff\\x00\\xabz}\\xb5\\xee\\x00\\xe7\\x8f\\xf3\\xdb\\x8fc\\xc7^\\xe3\\x9a\\xd5\\x8e\\xf5Xu\\xfe\\\\\\x01\\xf5\\xcf\\xe5\\xff\\x00\\xeb\\xaf7\\x86\\xfc\\xae0\\xd9\\xfcy\\xed\\xf5\\x1d\\xb1\\xce\\x07\\xb7\\xae\\x94z\\x90\\xe3\\'\\xbf\\xe9\\xf5\\xe9\\xeb\\x9c\\x1a\\xf9\\xea\\xb8\\t]\\xb4\\xae\\xbf\\xaf\\x97\\xdc\\xd1\\xf4\\x14\\xb1\\xca\\xc97\\xfa\\xaf\\xf3;\\xdf9_\\xbf\\x1dG\\xf9\\xe4\\xd3\\xd5U\\x8fo\\xae\\x01\\xcdrP_g\\x18o\\xc0\\x9c\\xf7?\\x8e0=\\x7f\\n\\xdc\\xb4\\xba\\xde@\\'\\xeb\\xef\\xf9\\xfa\\xfbs\\xdb\\xd0W\\x15J\\x13\\xa6\\x9e\\x8dv\\xdf\\xfa\\xdf\\xb3k\\xbd\\x8e\\xcau\\xa1R\\xd6k\\xe4ki\\xf3\\xe4!\\xce\\x7f_\\xc7\\x1c\\x0f\\xcf\\xadu\\xb0>T\\x10y\\x1f\\xe7\\xff\\x00\\xd7\\xf5\\xc6k\\xcf4\\xc9\\xd4\\xa8\\x19\\x1e\\xb8\\xf5\\xfa{t=:\\xf4\\xf4\\xae\\xc6\\xda\\xe56\\x81\\x9e\\x98\\xee8\\xff\\x00?Ns\\x8e\\xd5\\xe6ch\\xdan\\xc9\\xef}\\xba\\xf5\\xfe\\xbdOK\\x07U8-WF\\xb5\\xfe\\xb76\\x1d\\x81\\xc9\\xc7\\x18\\xe7\\xdf\\xfc\\xf4\\xac[\\xccs\\xd3\\xb7\\xf5\\xcf\\xff\\x00^\\xacKx\\x80\\x1c7n\\xdf_\\xf3\\xdf\\xf2\\xebX7w\\xab\\x82K\\x009\\xef\\xeb\\xfeG\\xaf~\\xc2\\xb9\\xf0\\xf4f\\xe5\\xb3\\xdf\\xee6\\xafV*.\\xedz_\\xd4\\xa1t\\x17\\x9c\\xe3\\xf3\\xc7<\\x0foq\\xf9\\xd6D\\x88\\x878\\xc0?\\xaf\\xf8\\xe7\\x1d\\xba{Sn\\xaf\\xc1\\'\\x90:\\xfe=}\\xfd\\xba\\xfb\\x0e\\x0fZ\\xcd\\xfbjs\\xf3\\x1f\\x7f\\x9b\\xfc\\xe2\\xbe\\x82\\x8d\\x1a\\x8a)\\xa5-\\x92\\xdb{w\\xbf\\xfc\\x1d<\\xcf\\x0e\\xa5jjN\\xf2^\\x9a\\x16d\\x88\\x10A\\xc7ON\\xbd\\xb9\\xfd;\\xf1\\x90G\\xa5a\\xdeZ\\xf0p={}r?\\xaf\\x19\\xec~\\xba\\xc2\\xe5[\\x00\\x10s\\xef\\x83\\xf8\\x922\\x7f_j\\x8eQ\\xbc\\x1cu##\\xd3\\x8e\\x9d:\\xfb\\x7f\\xfa\\xeb\\xae\\x93\\x9d9+\\xa6\\x93\\xef\\xb5\\xfa?\\xf3\\xf2\\xdc\\xe4\\xaa\\xa1R-\\xabyj\\xbe\\xed;\\xf6\\xe8y\\xee\\xa1k\\x90H\\x1d\\x7f_Q\\xcf>\\xbcg\\xda\\xb8]F\\xd3\\x9688<\\x9e3\\x8f~=z\\x1e\\xb9>\\x80\\x8a\\xf5\\xdb\\xbb]\\xdb\\xb8\\xc89\\xc8\\xff\\x00?\\xfd\\x7f_c\\xca\\xde\\xe9\\xa5\\xb7ar=1\\xc8\\xf5\\xff\\x00\\xf5r\\t\\xfcs\\xf4x\\x1cg\\xb3iI\\xedo\\x97\\xf5\\xfdn|\\xee;\\x06\\xe6\\x9b\\x8a\\xbd\\xd3\\xbf\\xf5\\xdd\\x1e3uj\\xc1\\x8f\\x1c{\\xf3\\x91\\xf5\\xf4\\xe3\\xaf\\xd7\\xa9\\xe9\\x8f-\\x99=\\x89\\xf4\\x1d\\xfa\\xfa\\xfac\\xd7\\x9a\\xf5k\\x8d \\x92x>\\xc0\\xaey\\xfcp\\x07\\xa19\\xcf\\xa0\\xe2\\xb3\\x1fE\\xe7\\xee\\x0e\\xbc\\x80\\x0es\\xf8\\x0e\\x9f\\xa7J\\xfa\\x9a9\\x94\\x14W\\xbc\\xb6_\\xd6\\x9d\\x0f\\x98\\xad\\x97M\\xb6\\xadu\\xae\\x8d[\\xfa\\xfc\\x0f2:{\\x1f\\xff\\x00W\\xf8b\\x93\\xfb9\\xbb\\xff\\x00\"?\\xa9\\xafJ\\xfe\\xc5?\\xdc\\xfd\\x1b\\xfc*U\\xd1\\x17\\xa1E9\\xeer?\\x9f\\xff\\x00Z\\xba\\x1ek\\x04\\xbe/\\xce\\xe7:\\xca\\xa4\\xdd\\xdcW\\xdf\\x7f\\xf3<\\xd5t\\xc3\\x8c\\x90q\\xdb\\xff\\x00\\xaf\\x91\\xfc\\x8dI\\xfd\\x9cG@Ezj\\xe8\\xa3\\xba\\xfd>P\\x7f\\\\\\x9a\\x1bE\\x00p\\xa3\\xf1P={\\xe7?\\x90\\xac\\xff\\x00\\xb5\\xa2\\xdf\\xc4\\xff\\x00\\x1f\\xd1\\xfe\\x86\\x8b*i|1\\xfb\\x8f7\\x86\\xcc\\xab\\x0c\\x0c\\xf4\\xf7\\xef\\xc6\\x7f\\xcf\\xf8\\x8e\\x96\\xc2\\xdd\\x97\\x04\\x8czg\\x8c\\xff\\x00\\x9e\\xa7\\xe9\\xef\\x83\\xba4\\x80\\xa7\\x84\\x03\\xe8\\xad\\xfe\\x18>\\xd5z\\x1d;n2=8\\xe9\\x8f^\\x9c\\x90=\\xb1\\xcfJ\\xc6\\xbe>5#k\\xde\\xe9\\xff\\x00_u\\xfb-nmC\\x03(I]$\\x97E\\xeb\\xe4Kd\\xa5@\\xcf|\\x9f\\xcf\\xf3\\xf4?^\\xdcV\\xf4M\\x8e\\x9c\\xe0\\x9c\\x8c\\xf6\\xc0\\xff\\x00=\\xf9\\xe4\\xd5\\x08\\xa0\\xd8?\\xafL{\\x01\\xd7\\x1e\\x99\\xfc1R\\xc9&\\xcc\\xf4\\x00u\\'\\xf4\\xc7\\xa9\\xff\\x00=\\xb9\\xf1j\\xfe\\xf5\\xb7\\xa6\\xaf\\xbfN\\x9b_\\xb1\\xec\\xd3\\xbd5w\\xa5\\xbb\\xfa[\\xf1\\xb9nY\\x87<\\xf6\\xf5\\xcf\\xe3\\x9e\\xe7\\xd3\\xb0\\xfe|\\xee\\xa1p6\\x91\\x91\\xc8>\\xdfS\\xf4\\xc0\\xc79\\xeeO\\x19\\xa5\\xba\\xbd*\\x08\\xcf>\\x99\\xe9\\xcf\\x7f\\xf0\\xe0z\\xf1\\\\\\x8e\\xa3\\xa8\\xe00\\xdd\\xcf99\\xff\\x00=;WN\\x13\\t)IY;]??\\xeb\\xae\\xbf;#\\x9b\\x15\\x8aQ\\x8bm\\xebo\\xf3\\xfe\\xbf\\xad3\\xb5+\\x95\\xcbs\\xd389\\xff\\x00?\\x8f\\x1f\\x8dq\\xd3\\xdce\\x89\\xcf\\xae?\\xfdg\\xa6\\x7f\\xfdC\\xad;R\\xd4F[\\xe6\\x00\\x03\\x9e=}~\\xbe\\x9f\\xe7\\x1c\\xa4\\xf7\\xecX\\xfc\\xc0\\x03\\xd3?\\xe0y\\xe3\\xdf\\xeb\\x8a\\xfbL\\x16\\x0eJ)\\xda\\xda\\x7f]/\\xfd_C\\xe3q\\xb8\\xc8\\xb95~\\xba\\xeb\\xd7\\xfa\\xff\\x003\\xa4\\x8eo\\x98s\\xcf\\xd7?\\xaf\\xaf\\xa0<u\\xf5\\xae\\x9bO\\x9f%O~=\\xff\\x00\\x01\\xd0c\\xfc\\xe6\\xbc\\xde\\xde\\xf7\\xe6\\x19a\\x8fQ\\xfa\\xf1\\xc7\\xe7\\xeb\\xde\\xba\\xfd6\\xe5r\\xbc\\xf0}\\xce?\\x1f\\xff\\x00UV3\\x0c\\xd4^\\x9d\\x1e\\xbf\\xd7m7\\xd8\\x9c\\x1e!9\\xadto\\xbf_\\xebO\\xe9\\x1e\\xaf\\xa7\\xcd\\xf7pz\\xe3\\xf3\\x1d=\\xf2O\\x18\\xf4?\\x89\\xe9\\xa1\\x9f\\x81\\x83\\xff\\x00\\xd6\\xed\\xfeq\\xec9\\x18\\xae\\x07N\\xb8R\\xaa22:`\\xfd:zt\\xfex\\xed],wK\\x80I\\xc1\\xef\\xe8\\x7f^\\xbfN\\x9e\\xb5\\xf1\\xb8\\xba\\r\\xcd\\xfb\\xb7\\xd7o\\xf2\\xf4\\xd5\\x7fH\\xfb\\x1c-oq;\\xea\\x92\\xeb\\xfeZ\\xfa?S\\xa6[\\xc6\\x1d\\xff\\x00\\x1e\\xff\\x00\\xc8\\x7f:\\xb2\\x97\\xe4w\\xe8=\\x8f\\xe3\\xdf\\xff\\x00\\xd7\\\\\\xaf\\xdb\\x17\\xfb\\xdf\\xcf\\xfci\\xebv\\xa4\\xfd\\xe0}\\x8e\\x7fS\\xc8\\x1f\\x9dy\\xf2\\xc2&\\x9f\\xb9%\\xf2;\\xa3\\x8b\\x92\\xda_\\x8f\\xfc\\x05\\xf9\\x9d\\xdd\\xb5\\xf9$a\\xb0zu\\xe0\\xf6\\xfdy\\xe4\\xfe\\x99\\xcduz}\\xe1r\\xbe\\xa3\\x8e\\xbdx\\xfc\\xff\\x00\\x1e\\xdfQ\\xc7\\x96\\xdb\\\\\\x8c\\x82\\x1b\\xdf\\xaf\\xaf|\\xf7\\x1f\\xa1\\xf7\\xe0\\x1e\\xc7L\\xb9]\\xc9\\xf3u\\xc7\\x7f\\xcb\\xd3\\x8e\\xd8\\xf7\\xaf#\\x1d\\x84J/\\xdd\\xe8\\xed\\xa7\\xaf\\xf4\\xef\\xd2\\xf7\\xd0\\xf5\\xf0X\\xb7)-u\\xba\\xba\\xbfO\\xeb\\xee\\xfc\\xf64\\xddL\\x00\\xbf?n\\t\\xff\\x00\\xf5\\xf5\\xf5\\x1cg\\xb7|uqj\\xc0\\x01\\x92\\t\\xc7\\xf7\\x87\\x1f\\x99\\xeb\\xcfN\\xbe\\xf5\\xe1\\x9a~\\xa8B\\x8f\\x9b\\xafl\\xff\\x00L\\xf2\\x7f\\xfd}+\\xa2\\x8fV\\xe0|\\xe4}O\\x1fN}:zzu\\xac1yU\\xe6\\xfd\\xde\\xbd\\xae\\xbfSl.ih/y^\\xcbF\\xff\\x00\\xe0\\xecz|\\xda\\xc0\\xc19\\x03\\xea}>\\x9d{~\\x1czW;w\\xab\\x93\\x9c6\\x7f\\x1e\\x07\\xf4\\xe0\\xfdN\\x0f5\\xc7\\xcb\\xaa\\xe4\\x1f\\x98\\x9e1\\xd4\\xf7\\xff\\x00\\x0f\\xd7\\xa7\\xa5c\\xdc\\xea,\\xd9\\xf9\\xbf\\x0c\\xe4\\xff\\x00\\x9eG\\xd4s\\x9aX|\\xa9&\\xbd\\xdf\\xc2\\xcb\\xf2\\x1e#5\\xba\\xf8\\xbe\\xe7vt7Z\\xaf\\'-\\x93\\xf5<{w\\xe9\\xef\\xc7z\\xa0\\xba\\x9e[\\xa8\\xe7\\x9f\\xa6==+\\x91\\x9a\\xf4\\xe7\\x83\\x9f\\xc4}9=\\x07\\xd0\\x0f\\xa9\\xa8\\xe2\\xbab\\xc3\\x93\\xd7\\x8f\\x98\\x90q\\xdb\\x9e\\x87\\xff\\x00\\xad^\\xd42\\xe5\\x18m\\xd3\\xc9~\\x0f_\\xebc\\xc6\\x96a7=\\x1f_?\\xcc\\xf4\\x9bk\\xd2\\xdd\\t#\\xff\\x00\\xd7\\xeb\\xfa}F:V\\xfd\\xbc\\xbb\\xc7^\\xbc\\x8e\\t\\xe7\\xbe\\x7f\\x0f\\xe7\\xd7\\x8e<\\xfbO\\x98\\x96\\x03\\'\\x1cs\\xed\\xd4\\x7f\\x90}q]\\xce\\x9eKc=\\xfa{f\\xbc\\x8c]%K\\x9b\\xca\\xff\\x00\\x95\\xd1\\xeb\\xe1*\\xba\\xbc\\xaf\\xbb_\\xf0MF\\x81Xs\\x8c\\xfa~>\\xbf\\xcf\\x8ej\\x8c\\xdaz\\xb6H\\x1c\\x9fA\\xdf\\xd7\\xf2\\xe3\\x91]\\r\\xb4A\\xb9#\\xf3\\xf4\\xff\\x00\\x0e?\\xcf\\x18\\xb6\\xf6\\xcb\\x8f\\xba=z\\x1fN\\xde\\xbd\\x7f\\xcek\\xc8X\\x99BZ6\\xed\\xbe\\xcd/.\\x8fO#\\xd7xh\\xcd]\\xae\\x9a\\xb4\\xad\\xff\\x00\\x0f\\xf7\\x1ew>\\x97\\xd7\\xe5\\x07\\xf0\\xed\\xd0\\x01\\xfc\\xf3\\x91Y\\x92i\\x8a\\t\\xf9pr{\\x7f>\\xdf\\x88\\xf7\\xf4\\xe3\\xd1\\'\\x80)\\xe4p\\x7f\\xcf\\xf9\\xcfN\\xd8\\xe81\\xae\"Q\\x9c\\x81\\xdf\\xd3\\xa8\\xf4\\xf6\\xed\\xdb\\xdb\\x9ek\\xd0\\xa1\\x8c\\x9c\\xac\\xae\\xf6\\xbf]W\\xe1\\xf7?\\xbc\\xf3\\xeb\\xe0\\xe1\\x1dl\\x9a\\xf4_\\xd7\\xe4\\xce1\\xb4\\xf5\\x1c\\xe3?\\x89\\x03\\xfc\\r \\xb1_@\\x07<\\xe7?\\xe7\\xfaV\\xdc\\x85A\\xfe~\\xfe\\x9f\\x8f\\xf9\\xcdW\\xf3\\x17=\\x06z\\xf3\\x80\\x7f\\x97Z\\xefU\\xaaIu\\x7f;~g\\x03\\xa3N-\\xe8\\x96\\xbd\\x97\\xea\\x8aKd\\xbc\\x0c\\x0ct\\xe0\\x1e\\xbf\\x8f\\x1f\\xe7\\xd2\\x87\\xb1R\\x07\\x1c}9\\xfd3\\xfc\\xabEX7\\xf8\\x7f<\\x7f\\x9f\\xc2\\xac\\x85S\\x8c\\x00s\\xc0\\xff\\x00\\xf5\\xd4:\\xb3OV\\xd5\\xbb\\xb7\\xf9\\x94\\xa8\\xc1\\xe8\\x92\\xdb\\xca\\xdf\\x91\\xcd\\x9d8\\x12x\\x1f\\x9d;\\xec\\x18\\xf4\\xfd\\rt\\x82\\x1d\\xdd\\x17\\xf3$\\x7f\\x9f\\xd2\\xa4\\xfb/\\x1dG\\xeb\\xd7\\xf3\"\\x9b\\xc5K\\xf9\\x9b\\xf9\\xb7\\xfa\\x07\\xd5c\\xda?r\\xfd\\x11\\xc8Im\\xb4\\x1c\\x0e\\xd9\\xe9\\xcf\\xaf\\x04g\\xfa\\xf5\\xe9\\x8a\\xc6\\xbb\\x05A\\xfa\\x82\\x7f\\x00\\x7f\\xc0~u\\xdc\\xdc\\xdb`\\x10W\\xa8\\xe3\\xf5\\xe9\\xc7\\xff\\x00X\\x8c\\xf0k\\x92\\xd4a+\\xbf\\x8fs\\xd7\\xeb\\xd7\\xe9\\xfc\\xfdz\\xf6ak\\xa9\\xc9&\\xf7\\xff\\x003\\x8b\\x15C\\x92-\\xa5n\\xf6\\xfc\\xce\\x03Q\\x9c\\xa8ny\\xe7\\xbe?_\\x7fNy\\x1d\\xab\\x82\\xd4\\xae\\xb8a\\x9f\\\\\\xf2=~\\xb9\\x1f\\x8ek\\xb4\\xd5\\xc1\\x19\\xc8#\\x05\\x87\\xe3\\xc5y\\x9e\\xaa\\xe4\\x07\\xf4\\xe7\\x8cs\\x8c\\xe3\\x1f\\xe7\\xa5}\\xc6YJ3\\xe5\\xd2\\xfa\\xaf\\xeb\\xf2\\xfb\\x8f\\x8a\\xcc\\xeaJ<\\xfa\\xbe\\xa8\\xe5u;\\xd3\\x96%\\xb8\\x19\\x03\\xfc\\xf6\\xc6=\\xf1\\x83\\xc1\\xe2\\xb9)\\xaf\\x89bKq\\x9f\\xf0\\xc7\\x19\\xff\\x00\\x1f~\\x95wU\\x95\\x83\\x11\\xdb\\x19\\xf7>\\xa7\\xd3\\xf0\\xc6;W\\x13sr\\xc1\\x88\\x07\\x18\\xef\\xc6~\\x80z\\xfe\\x9d8\\xc5~\\x85\\x80\\xc2FPN\\xd7\\xd3\\xb2\\xff\\x00\\'\\xea\\xfdO\\x82\\xc7b\\x9cd\\xf5\\xea\\xed}\\xad\\xfd\\x7fZ\\x1de\\xbe\\xa0U\\x86\\x1b##\\x8f\\xe9\\x8e\\xdc\\x13\\xf5\\xc8\\xeb]~\\x9b\\xa9\\xaeF\\x1b\\x8c\\x8c\\xf3\\xc8\\xf7?\\xe4\\xe3\\xbe@5\\xe3q\\xde\\xb2\\x91\\xf3\\x13\\xf5<\\xfa\\xf6\\'\\xd3\\xd0\\xd6\\xfd\\x8e\\xa9\\xb4\\x8c6\\x1b\\x1c\\x9f\\xd3\\xa7O\\xc7\\xa0\\xfc+LfZ\\xa7\\x07h\\xf4\\xed\\xfd\\x7f^Z\\x19a3\\x1eY+\\xca\\xda\\xf7\\xd3\\xfe\\x01\\xf4\\x15\\x86\\xaa\\x02\\xae[\\xae\\x06G\\xa0\\xc0\\xe7\\x1f\\x97\\xf3\\xae\\x82=_\\x81\\xf3\\x83\\xc6;\\x13\\xef\\x8c\\xf5\\xc7\\xf95\\xe1\\xb6z\\xce\\xd02\\xc5x\\xf5\\xc8==\\xfa\\xf7\\xe0\\xf09<\\xd6\\xd4z\\xdf\\xfbk\\xcf?{\\xaf\\xf9\\xcf\\xae\\x7f\\x9d|\\x96#&|\\xcf\\xdd\\xea\\xf7_\\xf0\\x1e\\xc7\\xd5\\xe1\\xf3t\\xa2\\xaf.\\x9d\\xec\\xfe\\xf3\\xd7\\x7f\\xb5\\xc7\\xf7\\xb1\\xf8\\x0f\\xe9\\x9a\\x955^@\\xdc\\x08\\'\\xb7\\xaf\\xe1\\x8f\\xf3\\xf9W\\x93.\\xb1\\x9e\\xff\\x00^G\\x1f\\x86rj\\xec:\\xb0$|\\xc4\\x1f\\xa9\\xe7\\xd3\\xa9\\xcf\\xf3\\x1cg5\\xc5<\\xa1\\xa4\\xfd\\xd5\\xe9o\\xf8\\x17;!\\x9b]\\xe9\\'\\xff\\x00\\x81_\\xf5=\\x8e\\xd3T\\x19\\x18lw\\xc6x\\xfdzzq\\xe9]\\xbe\\x97\\xa9r0\\xd8\\xcfQ\\x9e\\x87\\xfc\\xff\\x00\\x88\\xee\\x07\\x81\\xdajg#\\xe6\\xcfNs\\xef\\xd7\\xf1\\xe7\\xa5w\\x1a^\\xa6A\\\\7\\xa69\\xfd\\x0f\\xf9\\xfc\\xb1\\x9a\\xf0\\xb3\\x0c\\xb3\\xdd\\x97\\xbb\\xd3\\xb7\\xdd\\xfd\\x7f\\xc3?s\\x01\\x99\\xfb\\xd1|\\xddW\\xfc3\\xf2\\xfe\\x91r\\xc2\\xf1\\xb6\\xaf$\\x11\\x8c\\xfb\\xf1\\xe9\\xed\\xf9\\xf4=z\\xef\\xc7zH\\xe4\\x9c\\xfa\\xf5\\xff\\x00\\xeb\\xfe\\xa4{\\xd7\\x1fb\\xac1\\xe9\\x9c\\x9f\\xa7q\\xfd9\\xeb[\\xd1\\x03\\xc6s\\xe9\\xeb\\xf4\\x1f\\x97\\xeb\\xeek\\x1cE*noE\\xad\\xde\\x9d5\\x7f\\x83\\xf36\\xc3U\\x9b\\x8aZ\\xe8\\x96\\xbf\\xa3\\xff\\x00\\x87\\xf9\\x1a\\xc6\\xec\\x91\\x9d\\xc7\\xf2\\xe7\\xf1\\xeaq\\xf8UG\\x95\\x9b\\xa1 ~\\xa7\\xeahX\\x98\\xf2~Q\\xef\\xd7\\xf2\\xeb\\xfezU\\x85\\xb5\\xcf\\xf0\\x93\\xcfS\\xc0\\xe8?\\xcf\\xd6\\xb9\\x7fuM\\xf7\\x7f}\\x8e\\xaf~]\\xff\\x00/\\xf8&{)\\'\\xb6>\\xa7\\xfc*kx\\xd8\\xb8 g\\x9f\\xc3\\xbe\\x00\\xf5\\xff\\x00>\\x95\\xa6\\x96y\\xc7\\xca=x\\x19>\\xd8\\'\\xf3\\xe2\\xaf\\xc3dw\\x0e3\\xef\\xfaq\\xc7\\x1dq\\xd3\\x8f\\xc2\\xa2\\xa6&\\n/\\xa6\\x8fv\\xbf\"\\xe1BrkN\\xbd\\x8b\\xbalG+\\xd7\\x03\\x1d\\xba\\xe0c\\xaf\\xe1\\xf8\\xd7\\x7f\\xa7&\\x14\\x1c\\x1fb\\x7f?a\\xce?\\xfdu\\xceX\\xda\\x15\\xc0\\xc7\\'\\xae\\x00\\xe3\\xd4\\xf3\\xfe=\\x7f\\x1a\\xec-#\\xd8\\xa3#\\x8e\\x079\\xf5\\xf7\\xe9\\xc7Z\\xf9\\x8c}e>ku\\xd1\\x7f^\\x89\\x9fK\\x80\\xa2\\xe0\\xa3~\\x8a\\xef\\xfa\\xf5\\xfc\\x8d\\xebR\\x02.}\\xf9\\xf4\\xe9\\xff\\x00\\xea\\xa9\\xe6\\xb8P\\x0eN8\\xfa\\x0e~\\xb9\\xf7\\x1e\\xdd\\xab+\\xcf(\\xb8\\xce1\\xd4\\xe7\\x1c\\xf5\\xed\\xc1\\xef\\xfezf]_\\x84\\x07\\xe6\\xc9\\xce?\\x1fnq\\xd4\\xff\\x00\\xf5\\xeb\\xc5\\x8d\\tT\\x9b\\xb6\\xb7oe\\xae\\xbe}/\\xf3}\\x8fjU\\xa3N.\\xed[\\xcbr\\xf5\\xc5\\xca\\xe4\\x92@\\x038\\xfc=\\x7f\\xc3\\xf3\\xaej\\xf6\\xf1p\\xdf7\\x18\\xf5\\xff\\x00<\\xff\\x00\\x93\\x93Y\\xd7z\\xa0\\xe7/\\xd3<g\\xf0\\xfa\\xfa\\x1czv5\\xca_\\xea\\xc3\\xe6\\xf9\\xb1\\xd7\\x8c\\xf5\\xf4\\xfa~^\\x9d\\x8d{X<\\xbem\\xad/\\xb7M\\x12\\xed\\xfd|\\xec\\x8f\\x13\\x19\\x8f\\x82OU\\xa6\\xc9=\\x7f\\xaf\\xebVk\\\\\\xdf\\x80H\\x07\\x9eG^\\xbd?\\xc7\\xfc\\xf3\\x9a\\x06\\xfb\\'\\xa89=z\\x9f\\xfe\\xb9\\xfaW\\x19s\\xab\\x8c\\xfd\\xe0\\x07\\xa6rO\\xff\\x00\\xab\\xf3\\x1e\\xb5V=O-\\xf7\\xcf>\\xbd?.\\x7f\\xa7\\xf8}\\x15<\\xb6J\\x17q\\xbe\\x9d\\x7f\\xc8\\xf9\\xfa\\x99\\x92s\\xb2\\x92^\\x9a\\xfe:\\x9e\\x95oy\\xb8\\x8e\\x7f\\x0c\\xff\\x00\\x9e\\x7f\\x97\\x1d\\x06kr\\tw\\x01\\xf8c\\xeb\\xf4\\xed\\x9fO^\\xc35\\xe767\\xa5\\xc8\\x19\\xe7\\x8e\\xff\\x00\\x97\\xf8{\\x121\\xc1\\xc5vv\\x12\\xee\\x03\\x9fN\\x9c\\xff\\x00\\xf5\\x80\\xe3\\x9f\\xe7\\xc8\\xaf7\\x17\\x86t\\xaf\\xa7\\xf5\\xff\\x00\\x07\\xfa\\xb3=\\x1c&\\'\\xda[\\xbf\\xe0\\xd7\\xf5\\xfa\\x1dL\\x00>=\\xcf\\xf4\\x1d\\xfd3\\xff\\x00\\xd6\\xadD\\x88`q\\xdb\\x80\\x07?\\xe7\\xf0\\xe3\\xdb\\xa5gY\\x0c\\xe3\\xea\\x7f\\x0eF?Z\\xe9\\xedm\\xf7\\x0c\\x91\\xd7\\xd7\\xb7\\xa7\\xa7O\\xf3\\xe8~\\x7f\\x13S\\x91\\xd96\\xad\\xd9\\xd9\\xbd]\\xbe\\xe4\\xae{\\xf8j|\\xe9\\xbb_[l`\\\\\\xda\\x86S\\xc7b}?\\xfdG\\xdc\\x9e\\x7f\\x97\\x15\\xaa\\xdbaX\\xe3\\x91\\x9f\\xfe\\xb7\\xe1\\xfav\\xe4\\xd7\\xad\\xdcY\\xe5I\\x03\\x1dO\\x7f\\xc7\\xb6N\\x7f\\xc3\\xbdq\\x9a\\xad\\x9f\\xca\\xc7\\x1e\\xb9\\xfc\\xbf\\x0c\\xfa\\xfbu\\xc5k\\x81\\xc5\\xdaqM\\xf5V\\xbb\\xed\\xe7\\xd7\\xc9\\xfc\\x9fC,v\\x16\\xf0\\x93KF\\x9d\\xff\\x00\\xcf\\xfa\\xfc\\x0f\\x03\\xd7-\\xc8\\xdf\\xc1\\xe3\\x9f|\\x1c\\xe4\\xfe>\\x985\\xe5\\x1a\\xbcG\\xf7\\x9f\\x89\\xe9\\xf9\\xfe\\'\\xf4\\'\\xe8k\\xde5\\xdb?\\xbf\\xc7\\xf7\\xbb\\x1crp=\\xcf\\xd3\\xb6:W\\x91k\\x16\\xa4n\\xe3\\xa6A\\xfa~\\xbf\\xaf\\xf8\\xd7\\xe9\\xd96%5O^\\xdf\\xa1\\xf9\\xa6s\\x87i\\xcfN\\xff\\x00z\\xd1\\xfe\\x1a\\x9e#\\xab\\xa9\\x0c\\xdcrT\\xfe\\xbd?\\x95y\\xdd\\xeb\\x15\\xdeG\\x07\\x91\\xdf\\xfc\\xe7\\xd6\\xbd_Z\\xb6 \\xb1\\xc6v\\x93\\xdb\\xb1\\xf6\\xfd\\x00\\x19\\x1cg\\xde\\xbc\\xcbQ\\x80\\x86`A\\xc1\\xcf?\\xcf\\xd3\\xdb\\xd3\\xbf\\xd6\\xbfU\\xca\\xaaE\\xc2;t?/\\xcd)\\xca2zu\\x7f\\x9d\\xff\\x00#\\x97\\xf3\\\\\\x1c\\x82s\\x9e\\xc7\\x81\\xf5\\xc8\\x07\\xeb\\x83\\xf4\\x18\\xab\\xd0^\\xb2\\x90\\x1c\\x9e\\xa0\\x02\\x0f\\xea}\\xff\\x00#\\xefY\\xf2\\xc6\\xcaJ\\x90G\\xbe?\\x1fQ\\xe9\\x8f\\xd6\\x98\\xab\\x80\\x06I\\xc7\\x19\\xce\\x079\\xf7\\xc7\\xf9\\xe3\\xa7\\x1fF\\xe1\\t\\xc7[m\\xd6\\xdf\\xd7\\xa6\\xe7\\xcf*\\x95!Sgk\\xe8\\xd2\\xe9\\xe4\\xff\\x00C\\xb1\\x83Qu\\x03\\r\\x91\\xd8\\xe4\\xfb\\xff\\x00>\\xf9\\xc7\\xe9Z\\x11\\xea\\x9e\\xe4\\x7f\\x9e\\xe4dg\\xa6+\\x88Ge\\xe8N3\\xc6}?\\xfdy\\xfa\\xf7\\xcd^\\x86W$\\x03\\x9f\\xeb\\xe8y\\xeb\\xc7\\xd3\\x04f\\xb8ja)\\xbb\\xbb/\\xb8\\xef\\x86*\\xa4R\\xd5\\xdb\\xd7\\xf4;\\xa8\\xb5\\x02H!\\xcf\\xa7\\x07\\xb7\\xd7\\xaf?\\xe4\\xf3[V\\xd7\\xcd\\x90\\x18\\xe4q\\xfaq\\xf5\\xfc\\xf9\\xe7#8\\xc1\\xe0m\\x99\\xb7\\x0cw\\x1d=O\\xaf\\xe3\\xff\\x00\\xd6\\xe9]E\\x9eN\\xce\\xbd\\xbf\\xaf\\xff\\x00[\\xf4\\xf6\\xaf\\'\\x15\\x86\\xa7\\x14\\xf4_\\x87\\x9f\\xf9w\\xdbS\\xd4\\xc3b*I\\xa4\\xdf\\xf5\\xb1\\xe8\\x167M\\x95\\x198=:\\xfe]\\x0f\\xf8z\\xe7\\x00\\xd7s\\xa6\\\\\\x90W\\x07\\x8e0z\\xff\\x00\\xf5\\xff\\x00\\xfa\\xf5\\xe7Z|lLc\\x07 \\x0f\\xa7Lg\\xf5===\\xab\\xbc\\xd3c`\\xcaq\\xd0c\\xfc\\xf7\\xcf^?\\xc9\\xf8\\xec\\xc6\\x10\\xb3Zu\\xf9\\xea\\xd1\\xf5\\x99|\\xea7\\x17\\xae\\xbb\\xff\\x00^\\xbf\\xd6\\xa7\\xacZX\\x12\\x00\\xc6\\x00\\xc1\\xf7\\xfa\\x9e\\xdf\\xaeGo}\\xb8\\xac@\\xc7\\xaf\\xeb\\xf9\\x9e\\x9f\\x80\\x03\\xf3\\xa9-J\\x90:\\x1es\\xe9\\x9e\\x84s\\xf4\\xe9[\\x90*\\x11\\x9e3\\x9c{\\x01\\xd3\\xf1\\xed\\x9f\\xc3\\x9fO\\xce\\xb1\\x18\\x9a\\x97m\\xdf\\xaf\\x96\\xd7\\xfb\\xf6\\xf2^G\\xe8x|<\\x1aIh\\x91\\x9b\\x1d\\x91\\xfe\\xef\\xd7\\x8ey\\xfa\\xe7>\\xdd:U\\xe8\\xec\\x89\\xea3\\xd7\\xa7?\\x88?\\xa63\\xeb[\\x11B\\xbe\\x99\\xe8rNq\\xdf\\xfa\\x8f\\xaf\\xean\\xc7\\x08\\xe3\\x8f\\xa0\\xef\\xfe\\x03\\xeb\\xf5\\xaf2\\xa6*Z\\xeboO\\xd7\\xfag\\xa5O\\x0b\\r4\\xbf\\xafo\\xeb\\xbb~\\x9d\\x0c\\xa8\\xec\\x80\\xed\\xf9c\\xaf\\xd7\\x81\\xc8\\xed\\xff\\x00\\xd7\\xab\\xf1\\xda\\x80F\\x07\\xd3\\xff\\x00\\xad\\xd39\\xf4\\x1d\\xf0r+I \\xfa{\\x1e\\xff\\x00\\x9e3\\xfab\\x9eUP\\xf3\\x8f\\xd7\\xeb\\xef\\x83\\xe9\\x8ek\\x8eu\\xdb\\xbe\\xad\\xff\\x00_\\xd6\\xc8\\xec\\x85\\x18\\xc6\\xda-;/\\xeb\\xf2&\\xb5\\x80.3\\xc9\\xeb\\xfaq\\xf4\\x1c}\\x7fQZ\\xa1\\xd5\\x17\\x9e\\xdd{\\x7f\\x9e=\\x07n\\x95\\x88\\xd7J\\x99\\xf5\\xfa\\xf7\\xf7\\xce>\\xbf\\xca\\xb3\\xaeuE@r\\xd8\\xf6\\x07\\xdb\\xff\\x00\\xaex\\xc7\\xe21\\\\\\xce\\x84\\xeb5\\xf1o\\xdb{\\xfa\\xff\\x00\\x91\\xd2\\xab\\xc2\\x8c]\\xec\\xbdZF\\xd5\\xdd\\xe0@@a\\xf9\\xfdy\\xf6\\x1c}N3\\xf5\\xe35\\x1dH.\\xec?=\\xce}\\x8f\\xf4\\xcf\\xe1Y:\\x96\\xbc\\x8a\\x1b\\xe7\\xc7\\x19\\xeb\\xdb\\x81\\x93\\x9c\\xfe\\xa7\\xeb\\xcf_8\\xd5\\xbcF>l8\\xeap3\\xe8{z\\xfdOOL\\xd7\\xbb\\x97d\\xf5*8\\xfb\\x8e\\xdat\\xfc\\xf4\\xfe\\xbd\\x0f\\x0b0\\xcd\\xe9\\xc1K\\xdf^\\xb7\\xfc\\x97o\\xc3\\xae\\xac\\xe9ou|\\x13\\x87\\xfcI\\xe7\\xa9\\xed\\xd4\\xf7\\xc7n\\xc4w\\xaeB\\xfbV\\'8|t\\xc9\\xcfQ\\xd3\\xf0\\xc7\\xe9\\x9a\\xe3/<D\\x0b6d\\x19\\xe4\\xf5\\xcf\\x1fA\\x9f\\xadsw:\\xe0b~o\\x7f\\x98\\xf1\\xcf\\xe7\\xcfN\\xde\\xe3\\xa8\\xc7\\xdb\\xe0\\xf2YG\\x97\\xdc\\xed\\xd3\\xf4\\xfe\\xbeG\\xc5\\xe2\\xf3\\x98J\\xe9O\\xab\\xebo\\xbd\\xb7vvr\\xeaE\\x9b\\x82O=s\\xdf\\xa7\\xaf\\xb7S\\xed\\xcdOmv]\\x87\\xcd\\xcf\\xd7\\xfc\\xe7\\x9fN\\xe3\\xe9^l\\xba\\xa9v\\xc0ps\\xdb<\\xf5\\xff\\x00\\xeb\\xfac\\x1e\\x9dk\\x7fO\\xbf\\xde\\xc0\\xe7\\x04\\x1fQ\\x9c\\x1f\\xc7\\xf5\\x1f\\xe1^\\x95\\\\\\x03\\xa7M\\xfb\\xbb.\\xdf\\xa5\\x8f6\\x96?\\xdaT^\\xf5\\xd3}:\\x1e\\xc3\\xa4\\xcaX\\xa79\\xea?N;\\x9es\\xcf\\xe5^\\x9d\\xa5\\xa1`\\x0f\\xd3\\x1f\\\\\\xff\\x00\\x91^?\\xa1\\xdc\\x06)\\xc8 \\x90s\\x9e\\xc7\\x03\\x8c\\xfd\\x7fN\\x0f\\xa7\\xb1\\xe8\\xd2\\x02\\xab\\xf5_\\xcb9\\xf6\\xf5\\xce{q_\\x07\\x9c\\xc5\\xc1\\xcbO\\xc3\\xd4\\xfb\\xac\\x9eJ|\\xb7};\\xfa~\\x87y\\xa7[\\x93\\xb4c\\x93\\xd7\\xa8\\xe3\\xbf__a\\xc1\\xc5wVV\\x84\\x80\\x00\\xec=\\xbf\\x97\\x7f\\xa7\\xe7\\xda\\xb9m+\\x19_Q\\x8c\\x7fZ\\xf4+\\x00\\xbbF@\\xe7\\x1f\\xfd~~\\x99\\xaf\\xce3*\\xd2M\\xf9\\xb7\\xf8\\x1f\\xa2e\\xf4\\xa2\\xe3\\x1b\\xeb\\xa5\\xfeoR\\xb4\\xb6XS\\xc6x\\xf4\\xff\\x00\\xf5s\\xfa\\x81\\x9a\\xe45k?\\x95\\x8e=A\\xef\\xf4\\xe9\\xcf\\xd7\\xa7Z\\xf4\\xb9@\\xd8r:t\\xe9\\xc1\\xc1\\xff\\x00<w\\xc5q\\x9a\\xb0\\x1b$\\xe3\\xb1?\\x8f\\xadq\\xe0k\\xcd\\xd4Z\\xbd_~\\xddN\\xbce\\x18:oM\\xd3O\\xee<\\']\\xb3\\x1f8\\xc7r\\x0fOPFN;\\x8c\\x7f\\xf5\\xfaW\\x8f\\xeb6c\\xe7\\xe3\\xd4\\x7f\\xf5\\xfat=}O|\\n\\xf7\\xadq\\x01\\xdf\\xc7\\xbfN\\xfd\\xff\\x00\\x9f>\\xdcW\\x93\\xea\\xf6\\xfb\\xb7\\xe4u\\xcf\\xa629\\xe0s\\xdb\\x00c\\xbd~\\xa3\\x92b$\\x94.\\xfbu\\xefc\\xf3<\\xe7\\x0e\\x9b\\x9d\\x97G\\xf8]?\\xc0\\xf0=f\\xc8\\x9d\\xf9\\\\\\xf5\\x0c?\\xae:\\xfb\\xe79\\xc7\\x02\\xbc\\xd3Q\\xd3\\xf9`@\\xef\\x82?A\\xec\\x7f\\xcf\\xbd{\\xbe\\xabi\\x92\\xc4\\x8f\\\\\\x8f\\xe5\\xc0\\'\\xf9zW\\x9f\\xdfXrA\\\\\\x83\\xd3\\x8c\\xe3\\xb8\\xe9\\xe9\\xeb\\x8e\\x06{t\\xfdK*\\xc7\\xb8\\xc6:\\xf4W\\xfe\\xbb\\xff\\x00[\\xa3\\xf3\\x0c\\xcf\\x03\\xcd).^\\xf6\\xf4\\xe9\\xd3ty\\x04\\xdac\\x12AP}\\xf1\\xf8q\\xc7o\\xaf\\xe1\\xce*\\xb8\\xd2Nx\\x8c~_\\xe1\\xcdz<\\x9aw\\'\\x00{g\\xa0\\xfd\\x08==*1\\xa7\\xfa\\x81\\xfc\\xb1\\xf4\\xf9G\\xeak\\xe9\\xa3\\x99\\xfb\\xbaKo\\xebm\\xcf\\x9b\\x96Z\\xae\\xf7\\xdf\\xb7\\xfc\\x13\\x81\\xfe\\xcbp>\\xe0\\x18\\xf6o\\xc3\\xb5>=9\\xc7E\\x00w#8\\xfeC\\xf2\\xcdwrY`t\\xcf\\xf9\\x1f\\x9f\\xd7<TKl3\\xc0<\\xfbc\\xfc\\x7fNi\\xff\\x00h\\xb6\\x9e\\xbf\\x98\\xbf\\xb3\\xe1\\x17\\xbb\\xf9\\xa3\\x06\\xd7N \\x8e\\t=\\xc7\\xe4\\x00\\xe3\\xb7\\xd3\\xf9\\xd7Ya\\xa76T\\x95\\xe4\\xf4\\xc7\\xd7\\xff\\x00\\xd5\\xce=\\x00\\xe7\\x02\\xa5\\xb6\\xb6U\\xc1 w=\\xba\\x03\\xf5\\xfe\\xb9\\xe7\\xd3\\xafMa\\x1a\\xf0{\\x923\\xf4\\xe7\\x1e\\xd8\\xed\\xd3\\xd6\\xbc\\x9cn:m;z}\\xff\\x00\\x97\\xf4\\x95\\x8fW\\t\\x83\\x82kO^\\xe5\\xfd;O#nFX\\xf3\\xec3\\x8f\\xd7\\xfc\\xfd{\\xdd7O8_N\\xff\\x00\\xe0O\\xf4\\xacm9T\\x01\\xea\\x7f\\xce1\\xe9\\xcf\\xe4k\\xb8\\xd3\\xf6\\x85\\x1d;\\x1e\\x0f\\xf9\\xe0s\\xff\\x00\\xd6\\xaf\\x8a\\xccqU\\x1f7\\xcf\\xfc\\xbf\\xaf/S\\xec\\xb2\\xfc55\\xcb\\xe7o\\xbb\\xb2\\xfb\\xbe\\xf3V\\xcbP\\x18\\x03p#\\xa7\\xe7\\xea=3\\xd7\\xdf\\xa79\\x15\\xd3\\xda\\xdd\\x82\\x01\\x04s\\x83\\xd7\\xaf\\xbf\\xff\\x00\\xaf\\xe8q\\xce|b\\xcbT9\\x1f6\\x0fq\\x9e?\\x1e}\\xb9\\xae\\xc6\\xc3S\\xce\\xdf\\x98g\\x82F}s\\xc8\\xff\\x00\\xf5\\xff\\x000+\\xc4\\xc6e\\xcd]\\xf2\\xbe\\xf6\\xfb\\xff\\x00\\xaf\\xf3\\xdc\\xf6\\xb0y\\x82\\x97/\\xbc\\xbdo\\xa7\\xcc\\xf5\\x8bk\\x90\\xc0s\\x9f\\xc7\\xd7\\xb1\\xff\\x00<\\x1e\\xb9\\xe3:\\xf1\\xca8\\xe4p1\\xcf\\xa7\\xbf\\xa1\\xe3\\xfc3^{i\\xa8\\x03\\x8f\\x9b\\x1e\\xa38\\xf6\\xe7\\x9f|q\\xc7NGJ\\xdd\\x8fQ\\xc0\\xeb\\xf8\\xe7\\xf3\\xc7~\\xb9\\xaf\\x9a\\xaf\\x84\\x9am$\\xdf\\xcb_O\\xf8?\\x99\\xf4t1pi]\\xa4\\xed\\xd7\\xf4\\xfe\\xbf\\x03\\xae7 \\x0e\\xdf\\xa7\\xe7\\xd4\\xfdzVu\\xc5\\xe2\\xa0$\\xb6=\\xfb\\xe7\\xfc\\xf7\\xfarEaI\\xa9\\xe1~\\xf7\\xbf_O\\xf1\\xce+\\x9a\\xd4u\\x95@\\xdf?8#\\xaf\\x1e\\x80\\xfd}\\xb1\\x9e\\xbc\\n\\x9a\\x18\\n\\x95$\\x97+\\xdf\\xb7\\xe4U|}:qmI}\\xff\\x00\\xaf\\xf4\\xcd\\xdb\\xdd\\\\ o\\x9b\\x1d\\xba\\xf3\\xf9w\\x1f\\xcb\\x9a\\xe1uO\\x11\\xaa\\x06\\xc3\\xe3\\xaf\\x7f\\xafS\\xf5=1\\x9e\\x06\\x08\\xcdr\\x9a\\xc7\\x88\\x82\\xef\\xc4\\x9d2y#\\xdf\\xaf\\xa7=z\\xd7\\x92\\xeb^)\\xc6\\xe1\\xe6z\\xf7\\xe9\\xf5\\xe7\\x03\\xe8y<\\xe7\\x18\\xaf\\xb4\\xca\\xb8zU\\\\[\\xa7{\\xdb\\xa7\\xfc\\x0f\\xf8\\x07\\xc6\\xe6\\x9cA\\x1aJV\\x9a\\xd2\\xfdmo\\x95\\xff\\x00\\xe0\\xfa\\x1d\\xce\\xaf\\xe2\\x827~\\xf7\\xd7\\xbe8\\xf5\\xe4\\xe0g\\xdc\\xe7\\xf4\\xaf1\\xd5<PX\\xb0\\x12\\x01\\x9fV\\xeb\\xfd[\\xdb\\xa0\\xf4\\xaf?\\xd5\\xbcNIa\\xe6\\xe7$\\x91\\xdf\\xbf\\x07\\x19\\xed\\xeaOo\\xcb\\x82\\xbd\\xd7\\xcb1\\xfd\\xe7\\\\\\xf499\\xeb\\xc9\\xff\\x00\\x0c{\\xe7\\xad~\\x9b\\x95\\xf0\\xcca\\x18\\xb7O\\xb7\\xd9\\xff\\x00\\x81\\xf9\\x1f\\x9b\\xe6|H\\xe7)%;\\xea\\xfa\\xbf\\xf3=6o\\x10\\xb3\\x12w\\xb1\\x1e\\xc7\\x1c\\xfb\\x0c\\xf3\\xeb\\xd78\\xcf5H\\xeb\\x0c\\xc7\\xbf\\xe3\\xef\\xf8\\xff\\x00\\xf5\\xeb\\xca\\xd7U\\xdeyf\\xe4\\xe3\\'\\x9f\\xeb\\xef\\xdc\\xff\\x00\\x85h\\xc1v\\xcd\\x82\\xac{c\\x9c\\x8f\\xc7\\xfc>\\x9d{}\\x13\\xcaaI|\\ti\\xdb\\xfe\\x06\\xa7\\xcf\\xac\\xdau\\x1f\\xc6\\xf5\\x7f\\xd6\\xcd\\x9e\\x9fm\\xa8oa\\x86\\xc1\\xe0\\x8ey\\xec\\x7f\\x9f~\\xf8\\xed\\xd6\\xbbm\"\\xf0\\x92\\xa4\\x93\\x90Fq\\x9c\\xe0\\xf4\\xec?,\\xfa\\x9f\\xa7\\x90XN[a\\xe7<\\x03\\xf8\\x9c~G#\\xbfoz\\xf4M\\x1d\\xc9a\\xf4\\x1e\\xbc\\x9fS\\xfd3\\xfa\\xd7\\x87\\x99aa\\x1ar\\xd1h\\xbf\\xe0\\x7f_\\xf0\\xe7\\xb7\\x97bg)\\xc6\\xed\\xef\\xf8^\\xcc\\xf7\\x9d\\x02\\xe7\\x94\\xe4c \\x1c\\xf3\\xc1\\xf5\\xef\\xfc\\x8fnk\\xdb\\xb4)\\xf2\\x13\\x93\\xc8\\x00\\xff\\x00\\x9e;\\xff\\x00\\x88\\xe4\\x9c|\\xf3\\xa0\\xc8AO`\\xbc\\xe7\\xbe}1\\xf8W\\xb7h3\\x1c\\'8\\xc1\\x1f\\xe3\\xfd}\\xbb\\xf0;\\xfeG\\x9f\\xd0^\\xfe\\x9b_\\xfc\\xfc\\xff\\x00\\xcc\\xfd[!\\xae\\xfd\\xcb\\xbe\\xdf\\xe5\\xfeG\\xb8i\\x13\\x7f\\xab?\\x87\\xf9\\xf6\\x03\\x8fn\\x9d@\\xafA\\xb2\\x9b\\x00s\\x9f\\xa9\\xfeC\\xdf\\x1f\\x8fLzyn\\x91!\\xda\\xbd\\xf9\\x1d\\xfdy\\xfd{zW}i!\\xd8\\x0fC\\x8es\\xfa\\x9fp8\\xe3\\xd3\"\\xbf\\'\\xcc\\xa9^r\\xf2m\\xff\\x00_\\xd7\\x99\\xfa\\xa6_V\\xd0\\x8b\\xf2\\xb1\\xd2K8\\xdapOOS\\xdb\\xb0\\xe3\\x8f\\xc0\\x7f*\\xe4\\xf592\\x8f\\xcer\\x0f\\x1dO\\xff\\x00\\xab\\xdf\\xfa\\xd6\\xb4\\x921\\x18\\'9\\x1c\\x7f\\x8f\\xf9\\xe3=\\xb8\\xae~\\xfc\\xe5O\\xa8\\xc7~\\xc4\\xe7\\xf9q\\\\XJ\\\\\\xb3M\\xae\\xab\\xb7W\\xfd\\x7fL\\xec\\xc5U\\xe6\\x8d\\x97o\\xeb\\xb9\\xe7\\x9a\\xba\\xee\\xdc=\\xbf\\xc7\\xaf\\xe1\\xc5y\\xce\\xa1m\\xbc0\\xc7#8\\xe9\\xc1\\x1d2zw\\xc7\\xb6FMz\\x8e\\xa3\\x19$\\xfe9\\xf6\\x07\\xe9\\xeb\\x8f\\xcb\\x9fj\\xe4\\xae\\xec\\xc9\\xdcq\\x9e\\xbf\\xe4\\xf5\\xea\\t\\xeb\\x91\\xc7\\xa1\\xc5}\\xbe_]SQ\\xd7\\xa2\\xf9mc\\xe2\\xb3\\n.\\xa3\\x95\\x96\\xa9\\xbf\\xd7C\\xc7u+\\x1f\\xbcq\\xdf\\x04\\x11\\xd3\\xff\\x00\\xad\\xf4\\xfcz\\x1a\\xe2/\\xac1\\x93\\xb7#\\'\\xb0\\xe3\\xfc\\xff\\x00,\\x1e\\xbd}\\xb6\\xfbN\\xfb\\xd8\\\\\\x11\\x9e:\\xfb\\xfeX\\xf5\\xe9\\x8e\\xbcf\\xb8\\x9dCN\\xc6N\\xdcz\\x8c~\\x9f\\x87o\\xf0\\xaf\\xb7\\xc0c\\xd5\\xa3\\xefyo\\xbf\\xf5\\xfduG\\xc6c\\xf0\\x1f\\x13\\xe5\\xd3^\\x9a\\xa7\\xfd\\x7f[3\\xc8\\xee,\\x82\\x92@#\\x1d\\xc7\\xf8c\\xdb\\x1c\\xfb\\xfa\\x13Y\\x8f\\x1e\\xd2r\\x07\\xaep9\\xf5\\xff\\x00?^\\xe3\\x15\\xdd_Z\\xf9d\\xf1\\xc7\\xe3\\xc7\\xd7\\x8f\\xf2?\\n\\xe4oWkt\\xc0\\xc9\\xe7\\x18\\xe8?\\xa7\\xf9\\xe8k\\xeb0\\xb8\\x87U$\\xdd\\xf4\\xfe\\xb5>S\\x13C\\xd9\\xb7u\\xb1\\x8f1U\\x07\\xa63\\xc7>\\x83\\x9e\\xbd{\\x8a\\xce\\xf30x\\x1d:\\x1c\\xff\\x00\\xf5\\xa9\\xf7r\\xe0\\x91\\xf8\\x9f\\xf3\\xe89<z\\x81Y-7\\'\\xfa\\xe4\\xff\\x00.\\x9fO\\xe9\\x8a\\xf6\\xa8\\xd2r\\x8an\\xfe[\\xb7\\xd3\\xb7c\\xc6\\xa94\\x9f\\xa5\\xed\\xdf\\xfaZ\\x1b\\xf0N\\xa4\\x81\\xdcv?\\xe7\\xdf>\\xdd\\xf8\\xad\\xbb;\\x80\\xa4\\x0c\\xf1\\xdb\\xe9\\xe9\\xd7\\xf4\\xee:\\x1a\\xe1\\xd2|t#\\xe9\\xf9\\xf4\\xcf9\\xcf\\\\\\x1f\\xc2\\xb5-\\xef1\\xc19\\x1f\\xe4\\xf3\\xc7\\xf2\\xe7\\xaf\\x19\\xc9\\xac\\xf1\\x18V\\xd3kT\\xf7\\xd3_[4\\xb6\\xf9\\xa3Z\\x18\\x85\\x17\\xaf\\xfc\\x1f[\\x7fK\\xd0\\xf4\\xeb+\\xa0\\xb8 \\xe7\\xa6F\\x7f\\xc3\\x1d\\x7f\\xfa\\xdd\\x85u\\xf67\\xc0m\\xc3p{g\\xfc\\xe3\\x1f\\x97q\\x8a\\xf2+[\\xe2\\xb8\\xc3d}y\\xe4~9\\x1e\\xe3\\xd3\\xa1\\xae\\x96\\xd3Q\\xe9\\x86\\xfc2q\\xc8\\xe7\\xdb<\\x1e\\x9e\\xd9\\xaf\\x9a\\xc6`\\x1c\\xafe\\xdf\\xfa\\xf2\\xf4\\xfb\\x9e\\xc7\\xd1`\\xf1\\xca6\\xd7M,\\xfb\\x19\\x16\\x97\\xe4\\x10\\x18\\xfe_\\x9f\\xe9\\xe8z{\\xf3\\x8e\\xc2\\xc7Q#o>\\x989\\xff\\x00>\\xdf\\xe7\\x19\\xf38K\\x00:\\x8c\\x0c\\xfd\\x0ex\\xfcq]\\x1d\\x9c\\xcc\\x00\\x1c\\xff\\x00/\\xe5\\xf5\\xe3\\x8f\\xc7\\x1cWn3\\x0b\\t\\'d\\xb7\\xb7\\xf5\\xfdhq\\xe11S\\x8bN\\xef}\\x7f\\xaf\\xd4\\xf5k]L\\xa8\\x19c\\xc7py\\xf5\\xff\\x00\\x0f\\xd0qZ\\xc3X\\x01G\\xceq\\xeb\\xc7?\\xaes\\xfa\\xf1^a\\x15\\xe3(\\xeaO\\x1c\\xfbt\\xeb\\xe9\\xd3\\xfa\\xd2\\xc9\\xa9\\xb2\\x8eX\\x0c}8\\x07\\xe9\\xeb\\xef\\xfc\\xcd|\\xfc\\xf2\\xc8\\xd4\\x93\\xf7o\\xaf\\xf5\\xfd3\\xde\\xa7\\x99\\xb8G\\xe3{l\\xf5=\\x02\\xeb]\\x007\\xcd\\xeb\\xcep?N\\xbd\\x8f^\\xa3\\xa5p\\xba\\xbf\\x88\\xb0\\x1f\\xe7\\xecz\\x1e\\xdc\\xe7\\xbe\\x00\\xearq\\\\\\xb5\\xfe\\xb4@b\\x1f\\xa79\\'\\xf3\\xe3\\xeb\\x8e{s\\x9cq^o\\xadk\\x8d\\x87\\xf9\\xfa\\xe4\\xf2{rr\\xdf\\xe009\\xe9^\\xd6Y\\x90\\xa9\\xce>\\xe2\\xddt\\xff\\x00\\x81\\xaf\\xa1\\xe4fY\\xeb\\x8c$\\xb9\\x9e\\xcf\\xaf\\x93\\xe9\\xfd?CO^\\xf167bA\\xdf\\xbf\\xaf_\\xa7\\xb9?\\x80\\x19\\xe7\\xc7\\xb5\\x8f\\x12\\x12\\\\\\x07=\\xfa\\x12\\x0f\\xa6pz\\x0fs\\xcf\\\\\\x00r+7[\\xd6\\xd8\\x96\\x01\\xc9\\xceq\\x93\\xdb\\xd4\\xfe\\xbbGA\\xdf\\xa7>]\\xa8\\xeal\\xe5\\x8e\\xee2y\\'$\\xfe\\x7f\\xe1\\x9e\\xc3\\x9a\\xfd[%\\xc8i\\xc20n\\x16ZtW\\x7f\\x87\\xf5\\xf8\\x1f\\x96g\\x19\\xec\\xe7).w\\xd7\\xaf\\xf5\\xf7\\xfd\\xdd\\xcd\\xfb\\xedm\\x9d\\x98\\x17\\'\\xaf\\x00\\xf1\\xdf?\\\\\\xe78\\xf5\\xed\\xde\\xb2?\\xb4\\x19\\xdb\\xeb\\xcf=\\xbbW(\\xd7n\\xcd\\xd0\\xe0\\x9e\\x9dO\\xf9\\xfcO\\xf4\\xadKUg#\\xdf\\xfc\\xe7\\x8c\\xf5\\x04W\\xd8\\xac\\x1d:\\x14\\xf4QV]\\x91\\xf2/\\x19V\\xb4\\xfe&\\xf5\\xee\\xce\\xaa\\xd9\\xd9\\xb0I\\xcex\\xf6\\xc7\\x03\\xf2\\xef\\xff\\x00\\xea\\xae\\xaa\\xc5X\\xaa\\x93\\x9e\\xbd?\\x9f\\xd3\\xdb\\xd7\\x1cW=\\xa7\\xda\\x96\\xda1\\xee}\\x87\\xe4\\x0f=;\\xfe\\x95\\xde\\xe9\\xd6{\\x8a\\x92\\xbc\\x0c\\x001\\xd4\\x8e\\x83\\xf0\\xef\\xd3\\xafc^\\x0eaZ\\x10\\xbaV\\xd2\\xff\\x00--\\xff\\x00\\x07\\xee=\\xdc\\x15)\\xcd\\xc6\\xf7\\xe9\\x7f\\xeb\\xcf\\xfc\\xcd\\xbd6\\x06\\xf9\\x01\\x079\\x04\\xff\\x00\\x9fn\\x0f\\xd3?J\\xf4\\x9d\\x1e\\x06\\xc8 c\\x808\\x07\\x93\\x9f|t={\\xd77\\xa6X\\xfd\\xde2N;t\\xfd\\x07\\xeb\\xc7|u\\xafJ\\xd2l1\\xb7\\xe5\\xe0c\\x9cc\\'\\x8f\\xff\\x00W\\xe3\\xcf\\x18\\xaf\\x82\\xcdqqQ\\x92\\xba\\xeb\\xfd\\x7f_\\xa1\\xf7Y^\\x16W\\x8b\\xb7g\\xf2\\xff\\x00\\x83\\xf9\\x1d\\xae\\x89\\x19\\x05}\\x82\\xe7\\x8e\\xfd\\x7f3\\xfd{\\xd7\\xb3h@\\x9d\\x98\\x1e\\x83\\xf4^?\\xa7\\xf3\\xaf6\\xd1\\xac\\x88)\\xc79\\x19\\xf6\\xeb\\xc7?\\xe3\\xd7\\xd6\\xbd\\x7fB\\xb4?&A\\xecH\\xc7\\xf4\\xc7\\x1e\\xfe\\x9e\\xf9\\xaf\\xca3\\xccDZ\\x9b\\xba\\xebm\\xbb;\\x1f\\xa9d\\x94&\\x9c\\x15\\x9fE\\xf8\\xa6\\xcfK\\xd2\\x10\\x84\\xfa\\xe3\\xf0\\xe3\\x1f\\xcf\\xbdw\\xd6\\xa0\\xed\\\\\\xf6\\x1d\\x0f\\xe3\\xcf\\xe3\\x91\\\\\\xbe\\x8fhv\\xa7\\x18\\xe0\\x13\\xd4\\xf2zv\\xcf\\xb8\\xe7\\x8a\\xeem\\xad\\x9b\\x03\\x03\\x18\\xf5\\xe9\\xfd{\\x9f^\\x0f\\x7fO\\xca3\\n\\xd1\\xe7\\x95\\xda\\xea\\xbdzl~\\xa7\\x80\\xa5?g\\x1d\\x1e\\xbf\\xae\\xbf\\xa1\\x1e\\x08\\x00\\xe3\\x83\\xd2\\xb2\\xee\\xa2,\\xa7#\\xb7\\xff\\x00\\xab\\xa6?\\xc9>\\x95\\xd3\\x1bF\\xc1\\xeb\\xf8\\x81\\x8f\\xc6\\xa9Mjy\\xe3\\xdb\\xbf\\xe1\\xfe8\\xfcr+\\xce\\xa5^)\\xef\\xff\\x00\\x03\\xfa\\xb1\\xe8U\\xa3&\\xb6\\xe8p\\x97\\x16\\xdb\\xb2\\x08\\xe7\\xd7\\x1d\\x7f\\xfd}\\xc1\\xe4\\x1a\\xc8\\x97N\\xc88\\x1c}=x\\xe8G\\xf2\\xfc\\xf95\\xdf\\xcbf\\x0er\\xa3\\xbe8\\xe3\\xff\\x00\\xaf\\xf4\\x1ds\\xd4\\xf5\\xaa\\xcd`\\xb88P8=\\x8f\\xf5\\xafV\\x967\\x95+5\\xfdv\\xd55\\xe9\\xaf\\x91\\xe5\\xd5\\xc1\\xa97ug\\xfdw\\xfe\\xbc\\xcf*\\xbe\\xd3I\\x07\\xe5\\xc1\\xcf\\xeb\\xfe\\x7f\\x0f\\xd4\\xd7\\x11\\xaai\\xf8\\xdd\\xf2\\x8c\\x8c\\xf6\\xe0\\xff\\x00\\x9fN\\xb9\\xf6\\xe6\\xbd\\xce\\xf6\\xc0m \\x8e9\\xc1\\xc7Nq\\x8f\\xe5\\xef\\x93\\xcfZ\\xe0\\xb5k\\x1c\\x06\\xe3$g\\x1f\\xe7\\xeb\\xf5\\x18\\xef^\\xfe]\\x98>h\\xeb\\xb3]v}\\xff\\x00\\xcf\\xfe\\x18\\xf0\\xb3\\x0c\\x02\\xe5\\x93\\xb6\\xb6}7]\\x9f\\xf5\\xe8|\\xfb\\xabY\\xed\\xdc\\x00\\xe3\\x9c\\x7f>\\x9c\\x0f\\xd3\\xb1\\xc5y\\xa6\\xab\\x19Rz\\xf7\\xfe\\xa3\\xf5\\xcf\\x1f\\xcc\\xd7\\xbbk\\x96_|\\x85\\xea\\t\\x1dy\\xf5\\xf7\\xe9\\x8e\\xbcg\\xa0\\xaf!\\xd6\\xadN\\\\\\x01\\xeaG_\\xf3\\xc7\\\\\\xf7\\xfa\\xf4\\xfd3\\'\\xc4\\xa9\\xf2]\\xadm\\xfd~\\'\\xe6\\xd9\\xbe\\x1b\\x93\\x9a\\xcbk\\xfd\\xce\\xff\\x00\\x93<\\xae\\xf0\\x9d\\xecO\\xe5\\x8f\\xf3\\xe8+\\x16We8\\x07\\xaf\\xd7\\xdb\\xf1\\xef\\xea\\x07|WI\\x7fn\\xdb\\xc9\\x00\\xe0\\xe7=~\\x98=\\x07\\xb7\\x199\\xcd`I\\x01?\\x87\\xa7\\xe9\\xc7n1\\xd8\\xf1_\\xa0\\xe1g\\x07\\x08\\xb6\\xd7\\xc2\\x96\\xb6\\xdf\\xa9\\xf0x\\x98N\\xed+\\xdd?\\xd4\\xae\\xb2\\xb0<\\xf4\\xfc\\xff\\x00\\x9e\\x7fLU\\xc8\\xa5=O@p;\\xe3\\x8f\\xd7\\xaf\\xe5\\xd2\\xab\\x0bs\\x91\\xd7\\xfc\\xfe\\x03\\xf1\\xe4U\\x94\\x89\\xbas\\x8c\\xfe\\xbe\\xdd\\xbbw\\xe9]\\x15\\x1d6\\xb7W\\xf2\\xff\\x00\\x80aITO[\\xdb\\xfa\\xeci\\xc1p\\xcb\\x8ezc \\xf4\\xce;\\xe3\\xa6}\\x7f\\x03\\x91[V\\xf7\\x84\\xf3\\x92\\x08\\xf5\\xeb\\xdb\\xa8\\xfe\\xbd}\\xc7J\\xe7\\x91\\x1b\\x93\\x8f\\xa7n\\xfc\\xf5\\xe0\\xf28\\xc5^\\x89\\x1f*@#\\x03\\x19\\xec{q\\xeb^mzt\\xe4\\xae\\xedw{\\xa5o\\xcb\\xcf\\xb3\\xfc.z\\x14\\xaaN6\\xde\\xfd\\xbf\\xe0~\\x9bz\\x1d\\x8ai\\xe5pXt>\\xd8\\xff\\x00\\x0e:\\xfdj\\xecq\\x04\\xfc?\\xcf?O\\xc7\\x9e\\xf5\\xd1\\xcbc\\xb4d\\x0f\\xd3\\xff\\x00\\xd5\\xf9\\x83\\x8e}+\\x1a\\xe8l\\x07\\xd8\\x1f\\xc8\\x1c\\x11\\xcf\\xe3_7\\x1cK\\xac\\xd2\\xbd\\xfc\\xbb~\\x87\\xd0\\xcf\\x0f\\xec5i/\\xeb_\\xea\\xde\\x85\\x19nV0}\\xbf\\xcf\\xf9\\x1f^k\\x06\\xf3Q\\n\\x1b-\\xec\\x06y=\\xbf\\x0f|s\\xfc\\xa9\\x97\\xf7[\\x036{\\x90:\\x9f\\xc7\\xa7_s\\xe9\\\\.\\xa5\\xa8\\x15\\xce\\x1b\\'\\x9e\\xfd=O\\xa7\\xb7\\xa0\\xed\\xd4c\\xd9\\xc1`]V\\x9b]\\xbe\\xfe\\xcb\\xd3\\xbe\\xfd\\xacy\\x18\\xccj\\xa4\\x9a\\xbd\\xad\\x7f\\xe9\\x7f\\x9f\\xe4O\\xa9\\xea\\xbf{\\xe6\\xe7\\xf8Fx\\x1e\\xff\\x00\\x87\\x1c\\xff\\x00\\xf5\\x85y\\xb6\\xaf\\xaa\\x02\\x1f\\xe7\\'\\xaey\\x19c\\x9c\\x80\\t\\xed\\xfdy\\xed\\xcb\\xf5-E\\x8e\\xfc?\\x1d\\xdb\\'\\x07\\xb7\\xe4:z~\\x82\\xb8\\x1dB\\xed\\x9fq\\xc9\\xc7 \\x03\\xfa\\x13\\xd7\\x93\\x9f\\xc3\\xb1\\x1d+\\xeer\\xcc\\xb21q\\xd1%\\xa7O\\xeb\\xfa\\xbf\\xcf\\xe23,\\xcaR\\xe6W\\xef\\xd7o\\xf8/\\xfa\\xf2\\xc9\\xd5oK\\x16\\xe7%\\x89\\xcf\\'\\x18\\xf4\\xfa\\x8e1\\xd3\\xeb\\x9a\\xe2.e.\\xe4g\\x80r~\\xbf\\xfda\\xfa\\xf5\\xe8+b\\xf1\\xd9\\x99\\xb3\\x9eI\\xff\\x00\\xeb\\xe7\\xea?Q\\xc7&\\xb0\\x8cnX\\x8d\\xbd\\xfa\\xf4\\x1f\\xaf\\xff\\x00_\\xf1\\xe2\\xbe\\xf7\\x07J4\\xe0\\xadee\\xa7C\\xe1\\xb1UeVov\\x9b\\xfe\\xbe\\xf1\\xd0&\\xf9\\x07\\xa0\\xe7\\xf1\\xed\\xf8\\xf7\\x1fJ\\xec4\\xcb|\\x90q\\xf4\\xff\\x00\\xebt>\\xbcg\\xf0\\xac+;c\\x900I\\'\\x9e??\\xfe\\xb7\\xf8\\xe4Wy\\xa5Z\\xfc\\xc81\\x9c`\\x9e\\x0fo\\xc3<\\x9f\\xaf\\xa5s\\xe3\\xeb\\xa8\\xc1\\xd9\\xec\\x9d\\xbdM\\xf04\\x1c\\xa6\\x9b]\\x7f\\xaf\\xf2:m.\\xd3\\x84\\x18\\xe4\\xf2O\\xa7s\\xcf\\xb0\\x1e\\xb9\\xf5\\xafC\\xd3,\\xc7\\xcaq\\xc0\\xc0\\x1c\\x0f\\xa7<\\xf7\\xff\\x00\\xf5\\x1ek\\x07K\\xb5\\xca\\xa9\\xc7-\\xdf\\x1d\\x87~\\x07?\\xfdq\\x9a\\xf4=2\\xd4\\x12\\x8b\\x8e\\x06\\t\\xfaz\\x7f\\t\\xff\\x00\\xf5\\xfbW\\xe7\\xb9\\x9e/\\xe3w\\xef\\xfd\\x7f^G\\xdf\\xe5\\xb8U\\xee\\xe9\\xd9\\xbd?\\x0f\\xd3\\xef7\\xb4\\xab?\\xbaq\\xc9 \\x7f\\x9c\\x0e\\xfe\\xbe\\xbc\\xf65\\xe9:U\\x98\\x1bx\\x18\\x18\\x1f\\x8f\\xe2}\\t\\x1e\\xa3\\xb6\\x06+\\x9c\\xd2\\xed\\xb9S\\x8e\\x80\\x01\\xd3\\x8f\\xcf\\xa7~3\\xeb^\\x8f\\xa5[c`\\xc7\\x1c\\x12y\\xfcz\\xf5\\xfc\\x7fP+\\xf3\\xac\\xd7\\x16\\xdf6\\xbd\\xef\\xaf\\xf5\\xfd&~\\x83\\x95\\xe1Rq\\xd3k}\\xff\\x00\\xf0\\x0e\\xbbF\\xb2\\xfb\\x9c\\x7ft\\x9c\\x8f\\xc8\\x0c\\xfe$s\\xf5\\xaf\\\\\\xd0\\xac\\xc6S+\\xe9\\xf8c\\xb7\\x7f\\xd3\\xd3\\x1e\\xb5\\xc1\\xe9\\x10\\x01\\xb7\\x81\\xce=NG\\xa7?L\\xe7\\xde\\xbd[D\\x8c\\x02\\xbc\\x7ft\\x7f,u\\xf6<}\\x075\\xf9~u\\x89\\x93S\\xd5\\xf5\\xff\\x00%\\xfa\\x9f\\xa6\\xe4\\xd8t\\x9c4\\xec\\xb6\\xf4o\\xfc\\x8fG\\xd2-\\x06\\xd4\\x18\\xea\\x06pz~8\\xc7\\xea=+\\xb5\\xb7\\xb6\\x00\\x00\\x078\\xe4\\xf7\\xcf\\xb7\\xd0\\xf7\\xc6O\\xf2\\xc0\\xd2T\\x00\\xbe\\xd8\\x03\\xeb\\xdc\\xff\\x00\\x9fz\\xeb\\xa0\\xda\\x07>\\x9e\\xfd\\xc7\\xff\\x00\\xae\\xbf.\\xc7U\\x93\\xa9-\\xf7\\xfdm\\xaf\\xa1\\xfa^\\n\\x94U8\\xe8\\xbf\\xaf\\xf8b\\x17\\x87\\x03\\x91\\xfe{g#\\xd7\\xd3\\xfc*\\x84\\xf1\\xae9\\x1e\\xbf\\x98\\xff\\x008\\xf6\\xfc\\xebRy\\x07A\\xd0q\\xf8\\xff\\x00\\x9e\\xbfA\\xde\\xb0o.B\\x83\\x83\\xfe}y\\xf5\\xed\\x9e\\xbe\\x9c\\x0c\\xf3\\xd1S\\x93[\\xfc\\xaf\\xf2\\xf9\\x9d5\\xb9\"\\x9e\\xd6\\xf9j\\xbf\\xe1\\xf4F|\\xe1\\x018\\xfc{\\x0f\\xc4\\x7f\\x9e\\xbe\\xd8\\xaa\\x8c\\xc8\\x01\\xe9\\xf9c\\xfc\\xfd\\x05S\\xba\\xbd\\x0b\\x92H\\xeb\\xeb\\xdf\\xb6{\\xfbg\\xafC\\x8e\\xb5\\x8f.\\xa5\\xe8@\\xeb\\xc9#\\xf5\\xfaw\\xc8\\xfe\\xb5\\xedR\\xc3\\xcd\\xa5{\\xeb\\xe5\\x7f\\xeb\\xf1<j\\xb5\\xe0\\xa4\\xf6E\\xdb\\xd6B\\x8d\\xd3\\xbf\\xbf\\xff\\x00\\xab\\xbf\\xf2\\xed\\\\6\\xa8\\xaas\\xf4\\xe7\\xa6s\\xcf\\x1d:w\\xadK\\x9dH\\x1c\\xe5\\x81\\xf6\\xff\\x00<\\xe7\\xf3\\xf6\\xc1\\x15\\xcb__\\x06\\xdcKq\\xd8t\\xf6\\x07\\xf2\\xfc1\\xf5\\xe3\\xdc\\xc1a\\xeaFI\\xd9\\xff\\x00V_\\xd7\\x99\\xe2\\xe3k\\xd3\\x94ZM?\\xeb\\xf1\\xf38]f\\xddX?\\x19#$g\\x1d\\xfb\\x9c\\xf5\\xe0t\\xf7\\xfa\\x9a\\xf2\\x8db\\xc01o\\x94w\\xc7\\xeb\\xc7O~\\xd9\\xc6q^\\xbb\\x7f*\\xbe\\xe3\\x9e\\xbe\\xa7<\\x02\\t\\xfc\\xb1\\xcf\\xf3\\xae\\x1a\\xfe\\x15p\\xde\\xb9#\\xa0\\xef\\x9f_\\x7f\\xe6}+\\xef\\xb2\\xaa\\xd3\\xa4\\xa3{\\xad\\xbb\\xefc\\xe13:P\\xab\\xcd\\xb3\\xd5\\xfe?\\xf0O\\x17\\xbe\\xd3\\x0b3\\x10\\xa7<\\xe4\\x11\\xdf\\x1f\\xe1\\xdf\\xa0\\xef\\xd8\\x0c)4\\x9c\\x93\\xfb\\xb3\\x93\\xe82?\\\\\\x0e\\xdd?/Z\\xf5\\xab\\x9b \\xe4\\xe4s\\xd3\\xa7\\xbf\\x7f\\xf3\\xf9\\xf54\\xbf\\xb2\\xd5\\x8fB\\x7f/\\xf0\\xe9_eG4p\\x8a\\xbb\\xe9\\xd1\\xff\\x00\\xc1_\\x89\\xf1\\xd5\\xb2\\xc5);$\\xff\\x00\\x07\\xf9X\\xf2\\xd1\\xa3\\x9c\\xf2\\x8eG\\xb8\\x18\\x1f\\xa9\\xfdA\\xa9\\xd7G9\\x04G\\xfe~\\xbc\\x8f\\xce\\xbdA4ppB\\x92O\\xb7\\xbe>\\x98\\xfa\\x8a\\xb44PG\\xdc\\'\\xf4\\xfe}\\x7f\\x0f\\xca\\xb4\\x9et\\xfa\\xc9\\xbe\\x9f\\x13\\xfcu\\xb1\\x11\\xc9\\xff\\x00\\xba\\xbf\\x13\\xcb\\x97I`r#\\x00\\x8fA\\xc7\\xe9\\xcdL4\\xc7\\x07\\xee\\xff\\x00\\xe3\\xb8\\xfey\\x15\\xe9\\x87GQ\\xd5?A\\xfe\\x18\\xaa\\xed\\xa5\\xa8\\xceW\\x07\\xe9\\xce~\\x95\\x97\\xf6\\xaf7_\\xbd\\xff\\x00\\x9b\\xd4\\xd3\\xfb+\\x97\\xa2\\xfb\\x99\\xad}\\x08L\\x8f\\xe7\\xd8\\xfb\\xfd?O\\xc0W\\x03\\xab8P\\xc7<\\xf2\\x07\\xd7\\xaf\\xf2\\xafC\\xd5\\x18|\\xde\\xc3\\xf1\\xe8\\x01\\xfeU\\xe5\\xda\\xcc\\xbf{\\xdc\\x93\\xf8\\x8c\\x9e\\xe7\\xdb\\x8a\\xe4\\xca\\xd3\\x9c\\xa2\\xdf\\x93\\xfc\\x99\\xd7\\x99\\xb5\\x08;y\\xfe\\t\\x9c\\x0e\\xadq\\x82\\xc3=\\x07\\xb7>\\xfe\\xbc\\xf7\\xfe^\\x9eo\\xa9\\xdc\\xb1\\xdcrr\\xc4\\x81\\xc8\\xe9\\xfc\\xb9\\x1d\\xfe\\xa3\\xbdvZ\\xab\\x93\\xe6c\\x8c\\xe4\\x81\\xfd?\\xcf\\xe7\\x8a\\xe1ocg\\xc1\\x00\\x9c\\x13\\xef\\x9c\\xf6\\xfc\\xba~U\\xfa^[J0\\x8com\\x91\\xf9\\xceeRR\\x94\\x92}\\xfe\\xf7w\\xfeH\\xe4o\\x9d\\x88#\\xb79\\xeb\\xef\\x8f\\xd7\\x91\\x9f\\xa6q\\\\\\xe5\\xc4E\\xf3\\xfa\\x1f\\xc7?\\xfe\\xb1\\xed\\xe9\\xcdv\\xeff\\xd2\\x7f\\x06}\\x88\\xcf\\xe9\\xfc\\xfbTGGf\\xeb\\x11\\xe7\\xd0`\\xff\\x00\\x8f\\xe7_UG\\x15N\\x8aJ\\xeb\\xa7\\x93\\xdbk4|\\xbd\\\\-Z\\xad\\xfb\\xaf[\\x9ee5\\x93\\x92H\\x04\\xfbc?\\\\w\\xcf>\\xdd\\xea\\x15\\xd3\\xdc\\x9f\\xbb\\x8c\\xf1\\x92\\x0f\\xe1\\xd7?\\xca\\xbd<\\xe8y\\xff\\x00\\x96o\\xfa\\x7fPi\\xe9\\xa0\\x9c\\x8f\\xdd\\x9e;\\x92?\\xa1\\x1f\\xd2\\xbb\\x7f\\xb5\\xa9\\xc5[\\x9a\\xdf;\\x1cO)\\x9b\\x96\\xb0\\x97\\xdd\\xfd~\\xa7\\x11e\\xa7\\x10\\xcb\\x85$\\xf5\\xe3\\xaf<\\xf5\\xf4\\xf5\\xfa}+\\xba\\xd2\\xf4\\xfcm\\x1bz`\\xb1\\x03\\xf4\\xcf\\xb7n\\x9d\\xf9\\xcdi\\xda\\xe8\\xa4\\x1f\\xb8\\x00\\xcfE\\x19=\\x8f\\'\\x18\\xed\\xef]]\\x86\\x95\\xb7\\x19R\\x00\\xe4\\x0cd\\x9f\\\\\\x9f^\\xde\\xdds\\x8e+\\xc6\\xc7\\xe6\\x91\\x9cd\\x94\\x95\\xb5\\xea{\\x18\\x1c\\xb2Q\\x94}\\xde\\xabK~e\\xad.\\xcf\\x01N\\xdfL\\x0ct\\xc6>\\x9e\\xbd\\xf0\\x7f.}\\x0bL\\xb2\\xc6\\xd1\\x8eN\\t\\xe88\\xf4\\xe3\\x8e\\x7f\\x1e\\xfe\\xd5KL\\xd3NT\\x95\\xf9\\x8fA\\x8e\\x00\\xf5?\\xe7?\\x8fN\\xff\\x00N\\xd3\\xb1\\xb4\\x01\\x93\\xc6N?\\x97\\xbf\\xaf\\xa7A\\xd0\\x01\\xf0\\x19\\x9e=>o{K\\xbe\\xbe\\xbf\\x97\\xe2\\xfc\\x91\\xf7\\x99n\\x05\\xa5\\x1fw\\xb7O\\xc7\\xd1\\x17\\xf4\\xdb^W\\x8e\\x98\\xfcO\\xd4\\x0e\\x7f/\\xc6\\xbd\\x07L\\xb6#i\\xc6\\t z`\\x7f!\\xeb\\xe8F{\\x8a\\xcb\\xd3\\xac\\x0f\\xcb\\x90q\\xc7n\\xbe\\xdd\\xb3\\xfe}\\xc8\\xee4\\xfb2\\xbbx\\xc7lc\\xa7\\xb0\\xe3\\xbf9\\xf6\\xc9\\xc7J\\xf8\\x0c\\xc7\\x16\\x9f6\\xba\\xeb\\xd7\\xfa\\xd3\\xfe\\x0b>\\xef.\\xc28\\xf2\\xe9\\xa2\\xb7M\\xdf\\xf5\\xf8\\x1d\\x16\\x97\\x11\\x05F\\x0fn?\\x96O\\xd0`\\xe7\\xb8\\xc5zV\\x90\\xbc)\\xee\\x08\\xe3\\xf1\\xff\\x00\\x00O\\xe3\\xf9\\xf1Zu\\xbe\\xdc\\x12=8\\xe9\\xfdx\\xfeU\\xdf\\xe9q\\x90\\x10}3\\xeb\\xee{\\xff\\x00\\x9c\\n\\xf8\\x0c\\xce\\xaa\\x92\\x9e\\xbf\\xf0\\xdf\\xd5\\xcf\\xbd\\xcb)88i\\xe6zF\\x96\\xd8\\x03\\xf0\\xc7\\xd6\\xbad|\\x0e\\xfe\\xc4w\\x07\\xfc\\xff\\x00\\x9e\\xfc\\xae\\x9f\\xf7G\\xe1\\xfc\\xc5o\\x87!}\\x063\\xee3\\xd8W\\xc1b\\xa3z\\xb2\\xdb\\xe2\\x7fu\\xcf\\xba\\xc3J\\xd4\\xd7\\xa5\\x82\\xe6}\\xaay\\xfc\\xbb{~=\\xcf\\x1f\\xd2\\xb8\\xfdB\\xf3hb[\\x9eq\\xd3\\xb7\\xa7l\\xf4\\xfeY\\x15\\xad}6\\x01\\x19\\xff\\x00?\\xd4}9\\x03\\xf2\\xae\\x0bU\\xba#\\x7f=3\\xeb\\xe9\\xe9\\xcfo\\xa7\\xa5v\\xe00\\xdc\\xd2N\\xd7\\xd5}\\xfd\\xfeG\\x16;\\x11\\xcb\\x19k\\xb2\\xbb\\xfe\\xbf#6\\xff\\x00Q\\xdaO\\xcd\\x93\\xcf\\x7f_\\xe9\\xeb\\xf4\\xfc\\xb9{\\x8dW\\x19\\xcb\\xfa\\xf7\\xff\\x00$\\xe0\\xe4\\xfd~\\xa2\\xa8jw\\xa5K\\x0c\\xe0\\xf3\\x92\\x0f\\xe3\\x8f\\xf0\\xc7^:\\xf4<E\\xe6\\xa4T\\xb6\\x1b\\x1dy\\xcf\\xf8\\x0f\\xd0\\x1cq\\xde\\xbe\\xe7\\x03\\x96\\xa9F>\\xee\\xf6\\xe9\\xbf\\xe1\\xb7\\xdf\\xe8|N71q\\x94\\xb5\\xdb\\xcfDuW\\x1a\\xc63\\xf3\\x01\\xc9\\xea{\\x8e\\x07\\xe7\\xeb\\xf5\\xfc9\\xfb\\x9d\\\\\\x1c\\xe1\\xb3\\xf8\\xf7\\xcf\\x19\\xe7\\xf1\\xe0\\xf3\\x9c\\xf7\\xae.\\xf3W \\x9c7\\x1e\\xa7\\xa7S\\xd8\\xf0\\x07=;\\x8fJ\\xe6\\xee5\\x92I\\xf9\\xc9\\xed\\x8c\\xf03\\x93\\xed\\xf8W\\xd3a\\xb2{\\xd9\\xf2\\xfe\\x17\\xfe\\xbeG\\xcd\\xe2s{^\\xf2\\xfb\\xdd\\x97\\xdd\\xbb;\\xdb\\x8dI[9`3\\xef\\xd4v\\xe4q\\x8fn\\x07\\xe2+&K\\xa5~\\x03\\x0c{\\xf5\\xff\\x00\\xeb\\x7f\\xfa\\xfe\\xb5\\xc3\\xb6\\xb1\\x93\\x8c\\xe4g\\xd7\\xff\\x00\\xd7\\x9f\\xaf\\x14\\xa9\\xaa\\x06<\\x9e\\xbcc9\\xeb\\xdf\\xfc\\xfdEz\\xd0\\xcbeM]E\\xabm\\xa3\\x7f?\\xf8s\\xc9\\x9ec\\x1a\\x8e\\xceJ\\xd7\\xdb\\xa7\\xf5\\xf3:\\xd6\\xf2\\xe4=y?Nx=y\\xcf\\xf4\\xab0\\xdb\\xa3\\x1e\\x9d\\x0f\\xd4\\xff\\x00\\xfa\\xb1\\x9a\\xe6\\xa1\\xbeW\\xc0\\r\\xe9\\xf9\\xf3\\xf9c\\x18\\xe3\\x1fZ\\xe9l\\'\\x0f\\xc1\\xe7\\xf2\\xed\\x9f\\xe4=\\xbb\\x0e\\x05eZ\\x13\\xa7\\x16\\xed\\xad\\xb4\\x7f\\x9e\\x9e\\x86\\xb4g\\n\\x92[j\\xd6\\xab\\xfe\\x1d\\xaf\\x9f\\xeal\\xc1d\\x1b\\x18\\x18\\x19\\xc7C\\x9fN;\\xfeg\\x1e\\xfc\\xd6\\x8a\\xe9\\xcaG\\xdd\\xc9\\xc7=\\x07\\xe8\\x01\\xc1\\xfcj\\xc5\\x96\\x18)\\xc7P?V\\xe7\\xf3\\xad\\xc8\\xe2\\x0c\\x01\\xc7oL\\xfeC\\xd3\\xf5\\xfe\\x9e\\x15|L\\xe3\\'v\\xf7\\xb7w\\xf8\\xdf\\xf4=\\xca8x\\xc9+E}\\xcb\\xfa\\xfe\\xba\\x1c\\xbc\\x9ax\\x03\\x81\\x80:\\xf4>\\xdc\\x91\\xc8\\xfc\\x8f\\xf8d\\xdcZ(\\xc8#\\xf1\\xc7\\xf4\\xe9\\xd3\\xf4\\xe4\\x1e\\xb5\\xdcM\\x18\\x00\\xf1\\x8f\\xd7\\xb6}:u\\xef\\xdf\\xf2\\xe7oT\\x0e\\x9d\\x98\\x8f\\xc3\\x8e\\x9d1\\xff\\x00\\xd7\\xad0\\xf8\\x89\\xc9\\xad^\\xbf\\xf0\\xfa\\xf4\\x7fq\\x9dz\\x11I\\xdd/\\xc3O\\xeb\\xfc\\xf48-Y\\x8e\\x1c\\xf3\\x9eq\\xfe\\x7f\\x97L\\x9a\\xf2\\xdd\\\\\\x96c\\xc78<\\x7f\\xf5\\xbf\\\\\\xf7\\xafX\\xd5#\\x07w\\xb8\\xe7\\x8fQ\\x9f^:\\xff\\x00\\xfa\\xab\\xce5;`\\xc5\\xbdA8\\xe3\\xae?\\x0eG\\xf4\\xc8\\xf7\\xaf\\xb0\\xca\\xaaF./\\xfa\\xe9\\xff\\x00\\x01\\xf5\\xea|\\x8ei\\tI5\\xea\\xbf\\xaf\\xb8\\xf2\\x9b\\xd8K\\x96\\x04s\\x93\\xff\\x00\\xd7\\xf6\\xfc\\xfac\\xde\\xb0\\xdbOfc\\x81\\xd4\\xff\\x00\\x9e}+\\xd1\\'\\xb1Gc\\x91\\x83\\x9c\\xe3\\xfc3\\xc6;\\xd2\\xc3\\xa5#0\\xc2\\x96\\xcf\\x1e\\xdd\\xb9\\xecz\\x7f:\\xfbZy\\x84iS],\\xbf\\xadv\\xb1\\xf1\\xd50\\x0e\\xac\\xde\\x9du\\xdb\\xfa\\xfe\\xbd\\x0e\\x16\\r\\x14\\xb9\\x03\\x0cs\\x8e\\xd9\\xff\\x00?\\x9f\\x1cz\\xd6\\xcc^\\x1e-\\xd61\\xd7\\xa3rp}\\x80\\xe7\\x1c\\xd7\\xa3\\xd9h\\xaap6\\x83\\xd0\\xe0\\x0cu\\xeb\\xf9\\x8e\\xc7>\\xd5\\xd3\\xdb\\xe8\\xab\\x81\\xf2\\x81\\x91\\x8e\\x07\\xb6}?/\\xf2k\\xcd\\xc4\\xe7\\xce-\\xa5+[\\xcf\\xfe\\x0fS\\xd0\\xc3djI7\\x0b\\xf9\\xdbO\\xbd\\xfe\\x88\\xf1\\xa1\\xe1\\xc3\\xc0\\xf2\\xc7\\xe0\\x8d\\xe9\\xd8`\\x7f\\xfa\\xa9\\xc3\\xc3\\xbd\\xc2d\\x8e\\xe1\\x0f\\xf8\\x1a\\xf7\\x11\\xa2\\x0c}\\xc3\\xc7\\xe1\\xfe\\x7f\\n_\\xec2z!\\x03\\xe9\\x9f\\xeb\\x8a\\xe2\\xff\\x00Xg\\xfc\\xef\\xefGr\\xc8#\\xfc\\x8b\\xff\\x00\\x01_\\xe4x\\xb4Z\\x01\\x18\\xc2\\xfa\\xf0\\x13\\xa7\\xa8\\xe7\\xf3\\xeb\\xe9\\xc5mZh\\x98 \\xec\\xc7A\\x929\\xfa~\\x1d\\x8f\\xaf\\xb6k\\xd4SAc\\xfc\\x0cpz\\x91\\xfeA\\xad+o\\x0f\\xb1 \\xf9|\\xf5\\xf5\\xfeY\\xfc?\\x1ey\\xc8\\xe5\\xaf\\x9f^.\\xf5:=\\xe5\\xff\\x00\\x04\\xe8\\xa3\\x91\\xb4\\xd5\\xa1\\xf7\\'\\xfeI~\\'\\x1d\\xa6\\xe9\\x04\\x15\\xf9p\\x0e9#\\x9f\\xfe\\xbe?\\x0e\\xc3\\xb5w\\x9av\\x90p\\x83a\\x1c\\x8e\\x07\\xb8\\x1c\\x9e\\x0f\\xe7]\\x1e\\x9d\\xe1\\xf6\\x05~ON\\xddzv\\x1c\\x0e\\x0f\\x07\\xdb\\xb1\\xae\\xea\\xc3@l.\\x13\\x9e8\\x03\\x9f\\xc4\\xf1\\xdb\\x8e\\xdcq\\xd2\\xbeO1\\xce\\xe3w\\xfb\\xc5\\x7f__\\xeb\\xb1\\xf5Y~K%oq\\xf4\\xe9\\xfa\\xdb\\xf0G1c\\xa5\\xe3nT\\xe7\\x8e1\\xc0\\xe7\\xfc\\x8e~\\x98\\xef]e\\x9e\\x9cF\\t\\\\t\\xc7\\x1c\\xf6\\xcf\\xb98\\xfc\\x7f\\x1ek\\xa8\\xb4\\xd0\\xd8c\\xe4\\xc7N\\xd9<\\xe3\\xf2\\xf7\\xe3\\xf1\\xe6\\xba;m\\x18\\x8c|\\x9d{\\x91\\xfeO\\xe0zq\\xf5\\xaf\\x8d\\xc5\\xe6\\xd1\\x95\\xfd\\xff\\x00\\xc7\\xf5>\\xbf\\t\\x94\\xca<\\xaf\\x97n\\xea\\xc9z-\\xcez\\xca\\xc4\\x82\\xa7\\x18\\x00q\\xfe\\x7f\\xcf\\xafn;->\\xd4\\x82\\t\\x07\\x03\\x18\\xfc9\\xf4\\xf6\\xfc;\\xe38\\xab\\xb6\\xdaP\\x18\\xca\\xe7\\xf0\\xe0s\\xff\\x00\\xeb\\xc6y\\xae\\x96\\xcfM\\xc620\\x06;\\x7f\\x93\\xd7?\\xe1\\xe9\\xf38\\xcc\\xc22\\xbf\\xbc\\x9e\\xfa\\'\\x7f-\\x7f\\xaf\\xcd\\xb3\\xe9p\\x98\\tF\\xde\\xefmG\\xd9Bp8\\xfd\\x0fn\\xff\\x00\\xfe\\xac\\x8f\\xcf5\\xaa\\xd1\\xb6\\xd2=\\xbf\\x11\\x8e\\x9f\\xe7\\x9fz\\xd0\\xb6\\xb1\\xe0`\\x108\\x1f\\\\z\\xe7\\xb08\\xcf\\xe3\\xd7\\xadZ\\x92\\xc8\\x85\\xc8\\xf4\\xf6\\xfec\\x18\\xeb\\xdf>\\xf5\\xf3U11\\x94\\xf7Won\\xaf\\xf1\\xff\\x003\\xe8\\xe9\\xe1\\xa5\\x18+-\\x91\\xc2_)\\x1b\\xb28\\x00\\x80O\\xf3\\xfcEy\\xc6\\xb1\\xb8\\x06\\xeb\\x9c\\xf3\\xf5\\xc8\\xc7\\xd7?\\xadz\\xf6\\xa3j6\\xb1\\xc6\\x08\\xc8<w\\xff\\x00<p}q\\x9e1\\xe6\\x9a\\xd5\\xb8\\xc3\\xf1\\xcb\\x03\\xc8\\xe9\\x9f\\xae?\\x9d{\\xf9Uh\\xb9G\\xd5~?\\xf0O\\x073\\xa3%\\x19z_\\xee\\xe8x\\xce\\xae\\xcc\\x0b\\x9e\\xf9#\\xf9\\x9c\\xfe\\x80\\xd7\\x9dj20\\x04\\x0f|\\xfb\\xff\\x00\\x9c\\x0f_\\xd4\\xd7\\xa9k\\x10\\x0c\\xb6z\\x90x\\xfe\\x9c`s\\x9e\\xbe\\xfd\\xab\\xcd\\xb58\\x17\\x0f\\xfe\\xc9#>\\xbc\\xfag\\xf4\\xcf\\x7f\\xc2\\xbfO\\xca\\xa7\\x07\\x18\\xe9\\xdb\\xa7\\xdf\\xfa\\xfd\\xe7\\xe6\\xb9\\xa4&\\xa5=vm\\xfc\\xbf\\xe0\\x1e{\\xa8\\xdd0\\xdd\\xce\\x06\\x0eI\\xea~\\xb8\\xcf\\xf9\\xf4\\xae.\\xefPpO\\xcd\\x80\\x0e8?\\xe4\\x0ct\\xf7\\xe8\\x05v\\x1a\\xacj\\xa5\\xb9\\xc7\\x19\\xf6\\xef\\xdb\\xfa~\\x15\\xe6\\xda\\x93\\x05\\xdd\\xce9o\\xe6OOL\\x8a\\xfd\\x03-\\xa5\\t\\xa8\\xae]\\xed\\xd0\\xf8\\x1c\\xc6\\xa5HJZ\\xec\\xed\\xb8\\x8d\\xaas\\xd5\\x8fl\\xee {r:\\xfe\\x86\\xa7\\x83U\\xe4a\\xc8\\xe7\\x8c\\xfd3\\x93\\xcf\\xd3\\xa9\\xe7\\xd0\\x9a\\xe4&\\x9dT\\x9f\\x9b\\x1fN\\xbd\\xf1\\xec=\\xcfs\\xea:\\xb2;\\xa1\\x907s\\xc7q\\xc6:s\\xdf\\xff\\x00\\xaf\\xf5\\xaf\\xa2x\\x08J\\x17Q~[?\\x9d\\xad\\xb7\\xe8x+\\x1b(\\xce\\xdc\\xfa\\xdf\\xbf\\xf5\\xf9\\xdc\\xf5[=KqP[\\x91\\xdf\\xdcq\\xfa\\x7f_\\xc6\\xbb\\xcd*\\xf0\\x92\\xa4\\x9eF3\\xf4\\xfc\\xb3\\xef\\xd8W\\x89\\xe9\\xf7`\\x95\\x19\\xe7\\x829\\xf4\\xe9\\xff\\x00\\xeb\\xf4\\xe3\\x03\\x15\\xe9\\x9a5\\xc2\\x92\\x9c\\xf6\\xc7\\xb8\\xfa\\xf3\\xfc\\xf0q\\x9c\\x8a\\xf9\\x9c\\xd3\\x06\\xa1\\x19Z=\\xfa\\x7f_\\xd5\\xcf\\xa1\\xcbqnR\\x8a\\xe6\\xdd\\xa5\\xbf^\\x9f\\xe5\\xfd#\\xdat\\xc9\\xb2\\x00\\xcf\\xb8\\x1f^\\xe7=pq\\x9f\\xafL\\xd7Wn\\xdc\\x03\\xd7\\xbf\\xe1\\xd3\\xb9\\xeaA\\xae\\x0fH\\x95HN{\\x0f\\xcc\\x10H\\x1f\\x80\\xfe\\x9dx\\xae\\xe2\\xd4\\xa9\\xc6OQ\\xf8q\\xf8t\\xe3\\x9eq\\xf9\\xd7\\xe7x\\xe8(\\xceJ\\xcfs\\xf4,\\x14\\xdc\\xa3\\x07u\\xaaZ\\x85\\xc1\\xe0\\xfd3\\xc7n\\xbd=0H\\xe7\\xb5r\\xfa\\x81\\xeb\\xee[\\xf9\\n\\xeb\\xae\\x15q\\x91\\xd7\\xaf\\xb0\\xe0\\x9f\\xd7\\xfa\\xfd+\\x98\\xd4#\\x18?\\x8f=\\xf8\\xe0\\xfec\\xbf\\xb7J\\x8c$\\x972^m}\\xebB\\xf1Qj\\xfa\\xff\\x00L\\xe0u)A-\\xdc{r}\\xbf\\xcf\\xeb\\\\=\\xd9\\x0c_\\xf1\\xfc\\x86O\\xbf\\xb6k\\xa8\\xd4$\\xfb\\xd98\\xceH#\\x8e:\\xe3\\xd7\\xf9\\x93\\\\\\x9c\\xe7$\\x8c\\x1e\\x8d\\xfe\\x1f^q\\xf8W\\xdb\\xe0!d\\x9f\\x97\\xf5\\xf8#\\xe2\\xb1\\xd3\\xbb\\xb7w\\xfd~\\xa6I\\x883\\x1e2s\\xd4\\x8f\\xcb>\\xc7\\x9e\\x84~\\'\\x9a\\xd3\\xb5\\xb6\\x04\\xa8\\x03\\x93\\xed\\xfe\\x7f\\xc8>\\x870\\xa2\\xe4\\xe7\\xd3\\xf5?\\xe7\\xfaV\\xed\\x84@\\xb0\\xe0q\\x8cs\\xd7\\xf2\\xc7\\xf9\\'\\xa5wW\\xaa\\xe3\\x07\\xab\\xdbC\\x86\\x85%*\\x89o\\xaf\\xdc\\xbb\\x1b\\x9a}\\x88$\\x002OS\\xfezc\\xf4\\xc5u\\xb6\\xd6#\\x00\\x05\\x19\\x00r@\\xfc\\xf9\\xff\\x00<\\x0e\\xe3\\x02\\x96\\x9b\\x0f\\x00\\xe3\\xaf\\x1e\\xa7\\x8fO\\xa7\\xe6A<\\xf3\\xcfcm\\x00\\x00q\\xd3\\x8f\\xa9\\x1dO\\xbe;\\x03\\xfa\\xd7\\xc9\\xe3qRRvo\\xaf_\\x9f\\xdc\\x96\\xfd\\xdb>\\xaf\\x07\\x86\\x8f*v^K\\xfa\\xfe\\xba\\x94b\\xd3\\x81\\xc6Gn\\x9d\\x06}\\xb3\\x93\\xeb\\xda\\xafG\\xa4+\\x7f\\x0e~\\xa0\\xfd{c\\xa7q\\x83[\\xd6\\xd6\\xdb\\x8eH\\xfe\\xbd;\\xfa{\\xff\\x00\\x80\\xc9\\xae\\x92\\xce\\xc41\\x00/\\xd4\\xe3\\xa7O\\xe5\\x81\\xd4W\\xcf\\xd7\\xcc%\\x0b\\xfb\\xdb_[\\xff\\x00_\\x9f\\xa9\\xefa\\xf0\\x11\\x9d\\xae\\x97\\x92K\\xfe\\x07\\xfc\\x13\\x91\\x83@\\x0cG\\xee\\xc7l\\x03\\xdb\\xd3\\xdf\\xb7L\\x1fa]\\r\\x9f\\x86\\xf7\\x15\\xfd\\xd9\\xec:c\\xeb\\xef\\x9c\\xfb}k\\xbc\\xb0\\xd2U\\x88\\xf9G\\xa6\\xecs\\x8f\\xf3\\xdf\\xfc\\x8e\\xdfO\\xd0\\xd4\\xe0\\xec\\xef\\xd7\\x19\\'\\x9e\\xdc\\x1c~<\\x0c\\xfdk\\xe7\\xb1\\x99\\xec\\xa9\\xa7\\xef\\xbe\\xbdm\\xfa\\xff\\x00\\x91\\xf4\\x18<\\x8e3k\\xdc]:_\\xb7}?\\x06y\\xee\\x9d\\xe1q\\xf2\\x93\\x1f\\xd3\\x8cg\\xdc\\x8e\\x0f\\xe7]\\xad\\x9f\\x86\\xb6\\x80<\\xbe\\xddH\\xc7oOs\\xd3\\xdb\\x1e\\xb5\\xe9\\x1a~\\x84\\xa3\\x1f\\xbb\\xe7\\x00\\xf4\\x04\\x91\\xc6r{\\x0e:\\x0c\\n\\xea!\\xd1UG\\xdd\\x00\\xfac>\\xbd\\x7f\\\\\\x7fZ\\xf8\\xeco\\x10\\xceRk\\x9d\\xfd\\xff\\x00\\xf0{\\xfa\\x9f_\\x83\\xc8!\\x18\\xa7\\xc8\\x96\\x9d\\xbf\\xe0\\x1e[\\x0e\\x80\\x14\\x0f\\x97\\x18\\xea\\x02\\xff\\x00.?\\xcf\\xd7\\x9a\\xd0\\x8fGU\\xfe\\x03\\xf8\\xe3\\xf1\\xe7\\x93\\xfc\\xbd\\xfd+\\xd2N\\x96\\xab\\xd7\\x1cv\\xc7\\xff\\x00_\\x8f\\xe5U%\\xb4\\x08q\\x81\\xed\\xef\\xed\\x93\\xd3\\xf2\\xfcq^S\\xcdjT\\x7f\\x13w\\xfe\\xf1\\xea,\\xae\\x9d5\\xb2\\xfb\\x97\\xf5\\xa9\\xc6\\xc7\\xa7\\x85\\xe8\\x80c\\xd7\\x1f\\x97l\\xf7\\xea\\x08\\x15\\xa5\\x05\\x9e\\x08$}8\\xe3=}?\\x90\\xe7\\x8e8\\xadVE^\\xc3\\x07\\xd8R\\x02\\x01\\x1c\\x8f\\xa7\\x1c\\x1f\\xa7\\xa8<\\xfdj\\'\\x88\\x9c\\xe2\\xda\\xbe\\xcfr\\xa1\\x87\\x84\\x1e\\xdby\\x16\"\\x81B\\x81\\x8f\\xc3\\xaf\\xd7\\xd7\\xd3\\xf1\\xe4\\xd2L\\x8a\\x17\\xdb\\xf9~>\\x83<{\\x8az\\xca\\xa0u\\xe8=\\x7f\\xa7_n\\xf9\\xaaWW\\n\\xaay\\xed\\xed\\xc7\\xe7\\xf8\\xfe\\xbcq\\\\\\x91R\\x94\\x92Wm\\xb5\\xae\\xb7\\xdfV\\xce\\xa98F\\x0fk%\\xfd\\x7f_#\\x99\\xd4\\xd9Ud\\xef\\xff\\x00\\xea\\xf7\\xf7\\xcf\\xe3\\x8a\\xf2\\x8drP\\xa1\\xb9\\x1c\\x02H\\x1e\\xfc\\x8cu\\xe9\\x8f\\xd3\\x9a\\xf4\\x1db\\xec\\x05`[\\x9c\\x12y\\xc7\\xaf\\x1dz~\\x80\\xf6\\xc6k\\xc6\\xbcA~?y\\xf3z\\x93\\xfd\\x06;\\x7f\\x9fj\\xfb\\\\\\x97\\x0f9J.\\xcfV\\xbf5\\xff\\x00\\x00\\xf8\\xec\\xe3\\x11\\x18\\xc6z\\xae\\xbf\\x8f\\xfc\\x03\\x81\\xd6\\xaeT\\x17\\xe7\\x80\\x0eI#\\xe9\\x8e\\xa7\\xe9\\x9e\\xfc\\n\\xf3\\x1dN\\xedp\\xe3#\\x92I\\xe4\\x0cc\\xeb\\xf8\\xf2\\x7f\\xfa\\xf5\\xb7\\xaf\\xeax/\\xf3s\\x93\\xdf\\xb9\\xef\\x8ex\\x1f\\x87\\xb8\\x1d\\xfc\\xa7S\\xd5\\x17\\x0f\\x96\\xe0g\\xbfS\\xe81\\xcf\\xa0\\xf7\\xaf\\xd7\\xf2\\x8c\\x04\\xdc`\\xec\\xf5\\xb7OO\\xf3?#\\xcd\\xf1\\xf1R\\x9e\\xbd\\xfd|\\x97\\xea\\xfdL\\xadf\\xf4|\\xfc\\xf2r\\x07=\\xbaz\\xe0\\xfa\\xf6=+\\xca\\xf5[\\xf1\\x96!\\xb8\\x1d=}=\\x7f\\xfd~\\x99\\xad\\x8dkT\\xce\\xf1\\xbb\\xa7|\\xf4\\xf6\\xe3\\xd78>\\x9e\\xa7\\x15\\xe5\\x9a\\xae\\xa2r\\xd8l\\x13\\xd3\\xd8t\\xce=Oa\\xd7\\xb61\\x9a\\xfdK\\'\\xcb\\x9aQn/\\xa7OO\\xf3\\xfe\\x93?2\\xcd\\xf3\\x05yZ]\\xfa\\xfa\\xfe]>\\xf1\\xd7z\\x88\\x0cr\\xc7<\\xf0\\t\\xfc\\xc9\\xfc\\xbd\\xb8\\xe9\\xdc\\xd2\\x8fS]\\xc3\\x92\\xbe\\xf9\\x1f\\x9e\\x17\\xe9\\xfe{rwW\\xe41\\x00\\x92I\\xcf_\\xe7\\xea\\x7f\\xce\\x08\\xaa\\xd1\\xde6\\xec\\x1e\\xfe\\x9cw\\xfc\\x8e\\x07\\xe1\\xed\\xd6\\xbe\\xd2\\x19zT\\xf5\\x8e\\x96\\xed\\xe5\\xfdl\\xb4>6x\\xf7\\xcf\\xa3\\xeb\\xdf\\xfa\\xfcu=kO\\xd4\\xb2\\xc9\\xf3\\xf1\\xc6\\x08\\xff\\x00\\xf5\\xf6?\\xe3\\x8a\\xf5M\\x07Q\\xc9Ny\\xe3#\\xdf\\x19\\x04{\\x1c}:\\xf3\\x93\\xcf\\xce\\xfau\\xd1\\x0c\\xa3<1\\x1d\\xfb\\xe3\\x82\\x0f>\\xbc\\x9f\\xd4\\x9e\\xbe\\xa9\\xa0\\xdd\\x1c\\xa6O\\\\)\\xe7\\x8c\\x8e\\x87\\x1c\\xf4<\\x0e\\xb9\\xc8\\xcfZ\\xf9\\xac\\xe3\\x01\\x1fg=6O\\xfe\\t\\xf4\\x99F:\\\\\\xf1\\xd7M\\x1f\\xa6\\xdf\\xd2\\xfe\\xad\\xf4\\xb6\\x89\\x7f\\x90\\x9f0\\x19\\xc7q\\xd4~\\\\z\\xe4\\xe3\\'5\\xe8\\xd6WA\\x94r21\\xc7\\xe1\\xd3\\x9f\\xd3=G\\x1d\\xb3^\\x19\\xa1\\xdd\\x12\\x10\\xe4\\x8c\\x80z\\xf7\\x1fN\\x9cz\\x02=\\xb8\\xafO\\xd3\\xeeIU9=\\x06y\\xeb\\xff\\x00\\xd7\\xfc3\\x9c\\x93_\\x92\\xe6\\xb84\\xa7+-\\x9b\\xfc\\xfa\\xff\\x00]\\x99\\xfa\\xb6W\\x8br\\x84S}?\\x15\\xbf\\xdf\\xbf\\xf4\\x8e\\xd5\\xe7\\xc8\\xeb\\xf9\\xe7\\xfa\\xf4\\x1e\\xb5\\x81\\x7f.A\\xc1\\xeb\\xd3\\xbf\\x1c\\xf5\\xfa\\x92\\x7f\\xcf5?\\x9d\\x94\\xfb\\xd9_\\xaf?O\\xf3\\xef\\xce+\\x16\\xf2B\\xdb\\x8f\\xb7\\x1e\\xd9\\xe0c\\xf0#\\xf1\\xe7\\xbf>F\\x1e\\x8d\\xa6\\x95\\xad\\xaf\\xe2\\xf4\\xfc5=Z\\xf5}\\xc6\\xef\\xd3\\xbd\\xfd?\\xc9|\\xce\\x16\\xfdI\\x04}\\x7f\\x0e\\xa4f\\xb9\\x99T\\xe78\\xf5\\xfc\\x8fO\\xeb\\x9a\\xec\\xafb\\xe5\\x86??\\xfe\\xb7\\\\zz\\x9a\\xe6\\xe5\\x84\\xee<q\\xeb\\xc6s\\xe9\\x9e\\x9e\\xbf\\xd3\\x03\\xaf\\xd7\\xe1*%\\x15\\xe8\\xbf\\r\\x0f\\x92\\xc5\\xd3n^\\x8e\\xdf\\x8d\\xff\\x00\\xcc\\xcf\\x8d\\ta\\x91\\x8f\\xaf\\xf3\\xfc?\\x9fJ\\xe94\\xf8\\xbe\\xef\\x1d{`w\\xf4>\\xc3\\x1f\\x97\\xe1Y\\x90\\xc0Kt\\xef\\xfey\\x1e\\xfe\\x9f\\xe1\\x9e\\xa7O\\xb7%\\x97\\x8c\\x8e\\t\\xe3\\xf2\\xf5\\xfc\\xf1\\xcf\\xb1\\xcd\\x18\\xba\\xcb\\x95\\xeb\\xd1\\xfe_\\xa6\\xac0\\x94_5\\xda\\xdd\\xdbo\\xeb\\xd3\\xef:\\x8d6,l\\xe3\\xa0\\xcf\\xe3\\xd8\\xf6\\xeb\\xc7\\xd7\\xf2\\xae\\xca\\xda/\\xba1\\xe8?\\xc9>\\xfc\\xfe\\\\V\\x1e\\x9bo\\xc0lu\\xe9\\xfc\\x87=\\xf9\\xf5#\\xa0\\xfc{\\x1bKc\\x81\\xc7\\xf9\\xfe\\xa3\\xfc\\xf3\\x8c\\x8f\\x8a\\xc7W\\\\\\xd2\\xd7Wu\\xbf\\xf5\\xe4\\xbeG\\xd9\\xe0\\xa86\\xa2\\xad\\xa2J\\xff\\x00\\xe5\\xfdt\\xb9\\xa1i\\x0f\\xdd\\xe3\\xe9\\xd3\\xf0=~\\xa7\\xdb\\xa7z\\xec,-\\xfe\\xe8\\xc7\\\\~C\\xf3\\x1d\\xba\\xf1\\xce\\rbY\\xc0I\\x07\\x9e\\x0f\\x1d1\\xcf\\x19\\x19\\xe7\\xdb\\xdf\\xd6\\xba\\xdb\\x04\\xc3\\x0c\\x0e\\x98\\xfc3\\xe9\\xf9\\x0c\\xfa\\x0fj\\xf9\\\\m[\\xa6\\x93\\xde\\xff\\x00\\xd7\\xdfo\\xb8\\xfa\\x9c\\x15-U\\xd6\\xd6\\xfb\\xdf\\xfc\\x0f\\xcc\\xebt\\xcb`J\\x8e;t\\xff\\x00\\xeb\\x01\\xc7\\xe3\\xef\\xd6\\xbd\\x0fL\\xb5S\\x82\\x00\\xe7\\x18\\xe9\\xc7\\xf8\\xfe\\x9e\\xd5\\xc5i\\xa5A\\x1d\\x89\\xc7\\xf9\\xf6\\xff\\x00\\xeb\\xd7{\\xa6\\xca\\x00\\x1d2\\x0fO\\xf3\\xd4\\xf6\\xf4\\xfeU\\xf0\\xb9\\x9c\\xe6\\xf9\\xac\\xdf\\xfc\\x0b\\xff\\x00_\\x89\\xf6\\xd9l \\xb9n\\x96\\xc7kcl\\xaa\\xab\\x81\\xd7\\xbf\\xf9\\xe9\\xfa\\xfdO9\\xdc\\x10\"\\xa9\\xf5\\x03\\xafO\\xc3\\xf3\\xe9\\x9a\\xc4\\xb4\\xb8R\\xa0\\x83\\xfa\\x8e\\xbf\\x96z\\xe3\\xfad\\x1c\\xd5\\xe9.\\xc6\\xdcg\\x03\\x18\\xf4\\xfd?\\xaf\\xbf \\x8a\\xf8\\xda\\xd1\\xab*\\x8dk\\xe5\\xd1\\x1faFT\\xa3O\\xa5\\xed\\xfdy\\x8c\\x9fj\\x83\\x8f\\xe9\\xf8~8\\xfec\\xd6\\xb9\\xcb\\xd9\\xd4p\\x08\\xf9A\\xef\\x8f\\xf3\\x8f\\xf3\\xc8\"\\xa5\\xbd\\xd4\\x15C\\x05or\\x7f<c\\xeb\\xd7?\\xd4\\xe6\\xb8\\xbb\\xfdI@?1\\x03={\\x9cz}?L\\x1e\\xa7\\xaf\\xa5\\x83\\xc2\\xd4\\x95\\xb4}.\\xff\\x00\\xae\\xbf\\xd3<\\xdcf*\\x9c.\\xee\\xbf\\xadKw\\x17\\x80\\x123\\xfe\\x7f\\x0e\\x80w\\xfa\\xe7\\xd2\\xb3\\x9a\\xfb\\x07\\x86_\\xcf\\x91\\xdb\\xaf?\\xcf\\xf0\\xae^\\xefV\\xeb\\x86\\x03\\xfcy\\xf7\\xef\\xd3\\xf9u\\xac)5u\\x07%\\xc9\\x1e\\xdc\\xe3\\xd7?\\x8f\\xf9\\xe9_KC-\\x9b\\x8a\\xb4m\\xa7\\xde|\\xe5l\\xc6*O\\xde\\xea\\xfb\\x1e\\x8f\\xfd\\xa3\\x85\\xc6\\xe1\\xd0\\xf3\\xdb\\xf9\\xff\\x00\\x9f\\xd2\\xb2\\xef5 \\x01\\xf9\\xb2O\\x00\\xe7\\x80G\\x03#\\xff\\x00\\xd5\\xd7\\xf1\\x1cA\\xd6\\x13\\xb3\\x1c\\xfb\\xd6u\\xd6\\xad\\x958b=\\xc9\\xe7\\xbf\\xa1\\xef\\xc8\\xfdk\\xae\\x96W.ux\\xf5\\xed\\xaf\\xe4r\\xd5\\xcc\\xd7#\\xf7\\xbaud\\xda\\xd6\\xa5\\xf2\\xbe[=\\xc9\\xeb\\x8c\\xf6\\xf7\\xfc?.\\x82\\xbcO\\xc4Z\\x9f\\x12|\\xd8\\xeb\\xce{\\x9c\\xfb\\x8e\\x00\\xe7\\x1d\\xb99\\x15\\xd5k\\x1a\\x9eC|\\xd9\\xeb\\xdc\\xf3\\xd3\\x9e?\\xc9\\xeb\\xd3\\xaf\\x8cx\\x8e\\xfc\\x91 \\xdd\\xc7#\\x83\\xf8\\x9c\\x9f\\xfe\\xb6q\\xc0\\xaf\\xbe\\xc8r\\xd4\\xa7\\x0b\\xc7\\xaa\\xe9\\xfd\\x7f\\xc3\\x9f\\x0b\\x9e\\xe6-\\xc2v\\x97G\\xd7\\xfa\\xdd\\xfe\\t\\xf78\\x1f\\x10\\xea\\x9c\\xc8wz\\xf1\\xed\\xce3\\xf5\\xc6x\\xe7\\xa7\\xe3\\xe4\\xba\\x9e\\xa8F\\xff\\x00\\x9b\\xe6\\xc9\\xeax^\\xdc\\x0e\\xff\\x00\\xe7\\xd4\\x93\\xbf\\xe2\\x1b\\xd6\\xcc\\x9c\\xfa\\x9cg\\xb98\\x1f\\x80\\x1d1\\xe9\\xc7\\xbf\\x93jWLr7\\x1c\\x92{\\x9e\\x7fO\\xf2O5\\xfbnK\\x97G\\xd9\\xc2\\xf1\\xed\\xd3\\xd3O\\xbb\\xfa\\xdc\\xfc[9\\xcc%\\xcf?y\\xf5\\xeb\\xeb\\xff\\x00\\x0e\\xfe\\xe3?V\\xd4s\\xbf\\x93\\x8c\\xfa\\xf2\\xc7\\'\\xf2\\x19\\x1d\\xbfN\\xfe{\\xa8]\\xb1-\\xcf\\xcc\\xd9\\xfc?\\xfa\\xdd\\x060?\\xadk\\xdf\\xcc\\xce\\xcd\\xcf\\x0b\\xc0\\xfa\\xf7>\\x9f_l\\xfd+\\x97\\xb9Vg=H\\x1d?Q\\xfex\\xaf\\xd1p\\x18xS\\x8c[\\xb2Z+\\xfa-\\x7fD~{\\x8f\\xc4N\\xa4\\x9a\\xbbw\\xbb\\x7f\\xa2\\xfcW\\xe4f\\xbb1=O\\xa9=\\xc9\\xfa\\xfaT\\xd0#1\\x03\\x92s\\x9fq\\xfe{\\xf4\\xf4\\xa9\\xe3\\xb5\\x91\\xc8\\xe3\\x03=H<\\xfa~~\\xdc\\x8c\\x8e\\xb5\\xbde\\xa7\\x12@U\\xff\\x00x\\x9e\\xde\\xbf\\xe3\\x8c\\xe7\\x1e\\xc6\\xbd:\\xd8\\x8at\\xe2\\xf5[YvZt\\xef\\xf9.\\xaf\\xa1\\xe7R\\xa3:\\x92VO\\x7f\\xea\\xe5\\x8d>\\x16,\\x80g\\x82\\x0eq\\xdb\\x8c\\xf1\\xf5\\x1cW\\xa7\\xe8Q6c\\xff\\x00{<z\\x7fC\\x8f\\xd7\\x03\\xe9\\xcei\\xfaa\\xf9p\\xa7\\x1cn8\\xea~\\x9e\\x9e\\x9c\\x7fC^\\x95\\xa2i\\xcd\\xf2\\xf1\\x8e0>\\x98\\x19>\\xd9\\xe7\\x1d=y\\xc5|~m\\x8c\\x83\\x84\\xf5Z\\xa6\\xbav\\xb1\\xf5\\xb9V\\x0ejq\\xd1\\xfa\\xdb\\xef\\xfe\\xbd:\\xb3\\xd0t5`#<\\xff\\x00\\x87#\\x8f\\xe9\\xe9\\xda\\xbd?N\\x07`\\xeb\\xc9\\x04~\\xbc\\xfbg\\x81\\\\n\\x8dd@^\\x0f\\xf0\\x81\\xfe=\\x8f?\\xe3^\\x8fak\\x85Q\\x8e\\x07\\x1cu\\'\\x8e\\x01\\xfeg\\x9e\\x06N\\r~O\\x9a\\xd7\\x84\\xa7-z\\xbf\\xba\\xff\\x00\\xd7\\xde~\\xa7\\x95\\xd0\\x92\\x84tzY\\xff\\x00\\x91qU\\xb6\\x1e\\x0e0q\\xc7o\\xf3\\x9a\\xca\\xbd\\x04\\xab\\x01\\xfez\\x0f\\xeb\\xfc\\xeb\\xa5\\xf2\\x08^\\xdd:\\x0e\\xc3\\xd3\\xe9\\xf4\\xfc\\xab\\x1a\\xf6\\x1e\\x0e\\x06\\x01\\x04\\x0foQ\\xf8\\x1e}\\x86=\\xeb\\xc4\\xa3Q:\\x9d\\xbd\\xe4\\xf5\\xed\\xd7\\xf3=\\xaa\\xb4\\xdf#\\xb7k\\xed\\xf3\\xfb\\x99\\xcc_\\xa8.x\\x199\\xfcy\\xff\\x00\\'\\xf0\\xf6\\xac7\\x881\\xc8\\xe3\\xd7\\xb7\\xf4\\xff\\x00?\\x90\\x17\\xae\\xaeC1$\\xf7\\xe3\\x9e\\x87\\xb9\\xea2r;w\\xcf=\\xaa\\xa2\\xb8|\\xe3\\xb7\\xf2\\xaf~\\x84e\\x18+\\xdf\\xa7\\xae\\xdb\\xfc\\xcf\\x0e\\xabR\\x9b\\xb7\\xf5\\xaf\\xf5\\xd0\\x92\\x082F9?\\xcf\\xfc\\xff\\x00\\x9crk\\xae\\xd3l\\xc9*1\\xd7\\xaf\\x00\\x11\\xed\\xf8\\x9e\\xe4\\xfe=k&\\xc2\\x00\\xec\\t\\x19\\x03\\xa0\\xc7\\xe5\\xf5\\xed\\xc7^Mz6\\x91c\\x92\\xa3\\x1c\\xe4d\\xf1\\xeb\\xdf\\xfc\\xf6\\xc8<\\x9a\\xf33\\x1cW\\xb3\\x84\\xae\\xfa?\\xeb\\xd5\\xff\\x00]OG/\\xc3:\\x92\\x8b\\xb6\\xed%\\xa7\\xf5\\xb1\\xa7\\xa6\\xd8\\x92\\x14\\x81\\xc7\\xd3\\xff\\x00\\xad\\xed\\x8f\\xa6:\\x9ek\\xb5\\xb5\\xd3\\x89\\x03+\\xfau\\xc8\\xef\\xeb\\xc8\\xc6:v\\xe6\\xac\\xe9\\x1afB\\xfc\\xbd\\x868\\xe0`\\xe3\\'\\xd7\\xe9\\xdc\\xfas]\\xdd\\xae\\x96\\xa0\\x0c&O\\x03\\'\\xdf\\xb7\\xb0?OZ\\xfc\\xf70\\xcc\\x92\\x94\\xb5KW\\xff\\x00\\x0c\\xbd:\\x9f\\x7f\\x80\\xcb\\x9b\\x84t\\xff\\x007\\xe7\\xe4s6\\xf6L0\\x02\\xfec\\xfc\\xf6\\xcf\\xb1\\xf5\\xe4\\xe7v\\xd6\\xdc\\xa6\\x0e:\\x91\\xd7\\x1c\\xe7\\xfc\\xf3\\xf8\\xfa\\x0c\\xed}\\x87`\\xfb\\xbe\\xfd9\\x1e\\xfdG\\xa5FP\\'l{\\x9e\\xa3\\xd4w\\xfd+\\xc4\\x9e/\\xda\\xbd\\x1bw\\xfe\\x97\\xcb\\xd3C\\xda\\x8e\\x1b\\xd9-\\xadb\\xdd\\xa3l#\\x9c\\x7f\\xf5\\x80\\x1e\\xf8\\xcf_Q\\xd6\\xba{K\\xad\\xb8!\\xb3\\xd3#\\xe9\\xdcw\\xfc{\\x1fL\\xd7\\x0e\\xd7+\\x1fS\\x8ezg\\xfac\\x1d\\xbf\\xa595P\\x87\\x01\\xfaz\\x9f|\\xf5\\xe9\\x9a\\xe0\\xad\\x84\\x9dk\\xda7\\xb9\\xddC\\x15\\x1aVW\\xb5\\xbf\\xae\\xe7\\xad\\xda\\xea\\x18\\x1c>?\\x11\\xdb\\xdb\\xf9~5%\\xc6\\xa7\\x85 \\xbfon\\xfd\\x8e?\\x0f\\xd3\\xeb^]\\x16\\xb8\\x07W\\x07\\xd4\\x93\\xfeO\\xa7L\\xfeU\\x1d\\xc6\\xbe\\x02\\x9c8\\x1fC\\xce:\\x1fS\\xcf_Q\\xfa\\x1f3\\xfb\"n\\x7f\\x03\\xb5\\xf6\\xb7\\xebo\\xd4\\xf4\\xbf\\xb5\\xa0\\xa1\\xf1t\\xef\\xfa\\x1d^\\xa1\\xaa`6X\\x8e\\xa7h?\\x96\\x7f\\xcfc\\x9e\\x98<.\\xa3\\xaa\\xff\\x00\\xb5\\xcf\\xa6s\\xd3\\xf1\\xe3\\x81\\xf5\\xed\\xda\\xb0u\\rxa\\xb0\\xfds\\xce\\xeeOPq\\xd7\\x038\\xeb\\x9e\\xbd\\xba\\xd7\\x0b\\xa8k\\xc0\\xee\\xf9\\xfds\\x83\\x93\\xd3\\xd4\\xf4\\xe9\\xfaq_I\\x97d\\xd2\\xf7}\\xce\\xdd6\\xfc\\x0f\\x9d\\xcc3x\\xfb\\xde\\xff\\x00\\xe3\\xff\\x00\\x06\\xdf%s\\xa4\\xbd\\xd5y9`O<d\\xe0u\\xed\\xd8\\xfb\\xfa\\x8e+\\x06]U\\xb2~q\\xd7\\xa6z\\xfb\\xfdG\\xe4?\\x9f\\x13w\\xae\\x0c\\x9f\\xde\\x01\\xf49\\xe79\\xc7~\\x0f\\xaf?\\x87\"\\xb0\\xe5\\xd6\\x86O\\xcd\\xc0<\\xe5\\xb9\\x1c\\xf4\\xeb\\xef\\xfdk\\xeb\\xb0\\xf9<\\xb9W\\xb9\\xf8_\\xf4\\xfdO\\x93\\xc4f\\xf1\\xe6~\\xfd\\xfev_\\x99\\xe9\\x7f\\xda\\xad\\xfd\\xff\\x00\\xe5\\xfe\\x15\\x04\\xda\\x8e\\xe0~l\\xf5\\xfa\\x7f\\xfa\\x89\\xf5\\xf5\\xed^q\\x1e\\xb2\\xa4\\xf0}\\xba\\xe4\\xf6\\xec\\x08\\xab\\x8b\\xa9\\x07\\x1f{\\xdb\\x04\\xf7\\xf7\\xe0\\xfb\\x1e\\xdf\\xe1\\xd2\\xf2\\xb7\\x06\\xbd\\xdb\\x7f\\xdb\\xac\\xe6Y\\x9a\\x9a\\xd1\\xdf\\xfe\\xde\\xbf\\xfc\\x13KQ\\xbbfV;\\xb3\\xc1\\xc7\\xd7\\x9f\\xf3\\x9e:\\x8a\\xf2\\xadu\\xd9\\x84\\x83\\x9e\\x87\\xa7ry>\\xff\\x00\\xa9\\xae\\xe6\\xe6\\x7f1H\\x079\\x07\\xa7A\\xeb\\xf5\\'\\x1c\\xfbW\\x1f\\xaaC\\xbfq\\xc7\\\\\\xfa\\x7f\\x88\\xc7N}k\\xdd\\xcb)\\xc6\\x8c\\xa3uo\\xc3\\xaa\\xd4\\xf13)\\xba\\xd0\\x96\\xad\\xde\\xff\\x00\\x93\\xd3\\xe5s\\xc3\\xb5\\xe8\\xd9\\x8c\\x84\\x0fq\\xef\\x82\\x7f\\xc9\\xeb\\xfc\\xeb\\xccu\\x0bw$\\x9c\\x13\\xd7\\xfc\\x7fB:zg\\xbf\\x15\\xee\\xda\\xae\\x9eX\\xb1\\x0b\\xc8\\xce2:\\x8fs\\xdf\\xf9\\x0fl\\xe6\\xb8\\x1b\\xdd$\\x92\\xc4.\\x0eO\\x18\\xf6\\xed\\xf5\\xf4\\xf4\\xeb\\x81_\\xa7\\xe5X\\xeap\\x84U\\xd2\\xdb\\xf0K\\xfa\\xff\\x00-\\xcf\\xcd3<\\x14\\xe7);>\\xbd\\xff\\x00\\xab4x\\xd5\\xd5\\x9b\\x96%A9\\xceG|\\xfd\\x07_C\\xfc\\xc1\\xcdg\\xfd\\x85\\xd8\\xfd\\xc6\\xcf\\xfb\\xa3\\xfa\\xe7\\xfa\\xd7\\xa7\\xdc\\xe98\\'(G\\xf8t\\xc7\\x1d\\xb1\\x83\\xceG\\xebT\\xc6\\x94\\x01\\xe9\\xef\\x8c`\\xff\\x00\\x9f\\xca\\xbe\\xaa\\x96e\\x15\\x1d$\\xb6\\xee\\x8f\\x97\\xa9\\x96\\xc9\\xc9\\xde7\\xfe\\xbf\\xae\\xcc\\xe3-\\xb4\\xb2H\\xdc:\\xe3\\x81\\xc9\\xfc\\xfbc\\x1d\\xbaw5\\xd7\\xe9\\xfaW\\xdd\\xf99\\x1d\\x00\\x03\\xaf\\xb8\\xef\\xeb\\xf4\\xc6;V\\xbd\\xa6\\x962\\x02\\xa6z\\x0c\\x91\\xd7\\xa7<\\xf3\\xeaG\\xe9\\x9cWc\\xa7i\\x9c\\x80\\x17\\xaf\\xde\\'\\x9c\\x0e\\xf8\\xff\\x00?N\\x87\\x1en;4\\xb4_\\xbd\\xf8\\xff\\x00_\\xd7C\\xd1\\xc1e~\\xf2\\xbcW\\xa5\\xbf2\\x8d\\x86\\x92>RSq\\xf4\\xc7\\x00\\xf5\\xeb\\xeb\\xfe>\\x9c\\xd7\\xa0\\xe9:^\\xd2\\xbcc\\xa6ON\\x9d\\x87\\xf9\\xe7\\x9a\\x96\\xc7L\\xfb\\xb8^29#\\x9fo\\xeb\\xef\\xfa\\xd7u\\xa6i\\xe0m;z\\x1e=\\xc8\\xff\\x00>\\xdf\\xa85\\xf0\\xd9\\x96f\\xe4\\xa4\\xb9\\xfb\\xf5\\xff\\x00\\x83\\xe9\\xff\\x00\\x05\\xed\\xf6\\xb9vZ\\x93\\x8f\\xbb\\xda\\xdao\\xb7\\xe1\\xe4hiV\\x00\\x05\\xf9@8\\x1d\\xba\\x0f\\xc7\\xbfLs\\xcf\\xa1\\xe2\\xbb\\x8b[`\\xa0q\\xed\\xc7\\xbf\\xa7L\\xfb\\x9e\\xf8\\xfc\\rK\\x1b]\\x81x9\\xff\\x00\\xeb~@\\x0cp}rk~5\\n\\xb9\\xf4\\xe9\\xfe}\\xfa\\x0f\\xa5|\\x1e7\\x13)\\xc9\\xbb\\xee\\xdd\\xbf\\xcf\\xfa\\xfdQ\\xf78L<i\\xc5+mk\\xff\\x00_\\x91]\\xe2\\x00`\\xe7\\xf4\\xfav\\xe9\\xff\\x00\\xd6\\xac\\r@\\x0c\\x1fr2~\\xa0\\xe7\\xf9\\x0f\\xca\\xb7n&\\x00\\x1c\\x9c~<\\xff\\x00?\\xcb\\xdf\\xf1\\xc7%\\xa8\\xdd\\x8f\\x9b\\x9e\\x00?B}\\x07<\\x8f\\xff\\x00X\\xe7\\x8a\\x9c$g)-\\x1e\\xff\\x00\\xe6\\xbf\\xafK\\x95\\x89\\x94#\\x17\\xd9#\\xc9\\xa5\\xbb,\\xc7\\x9cs\\xea:{\\x7f\\x87N:\\xd5\\xbbIw0\\xcf=\\xb3\\xdf\\x9c\\xff\\x00\"?\\xc3\\xd2\\xb9\\x9f8\\x96\\xc0\\xe9\\x9f\\xaf\\xff\\x00_\\x9e9\\xcf\\xe5[\\x9ay>`\\x1e\\xdf\\xd7\\x1f\\xc8W\\xdeU\\xa4\\xa1ON\\x87\\xc3Q\\xad)\\xd5Ww\\xbb\\xb7_\\xf8o\\xb8\\xf4}\\x1d7\\x14\\xe39<g\\xdb\\xfcOn{W\\xae\\xe8v\\xe0\\xec\\xe3\\x19 s\\xe8?\\xc8\\xc8?\\xd6\\xbc\\xa7C\\xff\\x00\\x96_\\xefW\\xb1hd\\r\\x9f\\x97\\xe83\\xfd~\\xb8\\xaf\\xcf\\xf3\\xb94\\xa4\\x97\\x9f\\xe0\\x99\\xf7\\xb9,b\\xdcoo\\xf8y$\\xcfR\\xd1\\xedF\\xd5\\xe0d\\xe0\\x0f\\xc7\\xd3\\x8f\\xf0\\xe7\\xf4\\xee\\xed\\xed\\x95Tq\\xce\\x019\\xe3\\xafN\\x9d\\xff\\x00\\x95qzT\\xca\\xa9\\x1f<\\x8c\\x7f\\xfa\\xfb\\xff\\x00\\x9e\\xf9\\xae\\xbd/\\x10 \\xc9\\xed\\xce\\x0f\\xa7\\xf3\\xfc\\xab\\xf2\\xdc\\x7f\\xb4\\x95Wk\\xda\\xff\\x00\\xd7\\xe2~\\x9d\\x81\\xf6q\\xa6\\xb6\\xfc;h-\\xca\\xa8\\\\\\xf4\\xef\\xee1\\xdf\\x9f|\\x7fJ\\xe4\\xefg\\x08\\x1b\\x04g\\x9e\\xfe\\xe7\\xf9w\\x1f\\x885\\xab}~\\xa4\\x10\\x0f\\x03?\\x87Q\\x8c\\x7f\\x9c\\xf5\\xae\\x0fS\\xd4\\x06\\x18\\x86\\xe3\\xb7=O\\xb0\\xe3\\x8fN\\xbd2;V\\xf8\\x0c4\\xe6\\xd3i\\xff\\x00\\x9f\\xe1\\xd3\\xb9\\x8e7\\x11\\x08\\xc5\\xd9\\xad?\\xa5\\xeaAy\\x7f\\xb7$\\xb7~\\x07\\xff\\x00\\xab\\xaf\\x1d\\xbf/S\\x81.\\xaeT\\x90\\x18\\x01\\xf5\\xff\\x00\\'\\x9e\\xdc\\xf3\\xe9Y\\x1a\\x86\\xa1\\x8d\\xc4\\xb7<\\xe0g\\xfc\\xf3\\xe9\\xfeq\\xc9\\xdc_\\x9c\\xfd\\xef~\\xbe\\xe7\\x8e\\xf9<\\x9e\\x05}\\x86\\x17.S\\x8a\\xbco\\xe6\\xd7_%\\xaf\\xf5\\xbb\\xdc\\xf9,Vb\\xe3\\'i?$\\x9f\\xe6w\\xa3[?\\xdf\\xfcO?\\xd4\\x9a\\xa7s\\xae\\x9c\\x1f\\xde{`q\\xdb\\xa1\\xeb\\xc7~?\\x0c\\xe6\\xbc\\xf0\\xea\\x1e\\xe7\\xf0\\xe4\\x7f\\xe8D\\xfe\\x9f\\x85g]jm\\x83\\xf3c\\xbf\\xf9\\xc7\\xe1\\xcfn\\x995\\xe9\\xd3\\xc9\\xe2\\xe6\\xbd\\xdf\\xc1\\x7f\\xc1\\xfd,y\\xb53i\\xa8?y\\xa5\\xe7&\\xd7\\xdd\\xd4\\xea/\\xf5\\xcf\\xbd\\xf3\\xfa\\xf1\\x9fc\\xc9\\xe7\\xd3\\x07\\'9\\xf5\\x15\\xc4\\xdfk\\xa4\\xe7\\x0f\\xeax<u\\xee\\x7f\\x12\\x0f\\x7fs\\\\\\xf6\\xa1\\xa9\\xb6\\x1b\\xe6\\xc7\\xa6\\t\\xc9\\xf7<\\xd7\\x17}\\xa9\\x9f\\x98\\x96\\xc7^3\\xd4\\xff\\x00\\x9e\\xbd\\xc6@\\xaf\\xa7\\xc0d\\xf0\\xf7}\\xc5}:\\x7fW>g\\x1f\\x9cO_}\\xf5\\xb7\\x7f\\x92\\xd9\\x1dE\\xd6\\xb6I?>}\\x81\\xff\\x00==}y\\xfad>\\xb2rF\\xef\\xc7w?Oo\\xd3\\xfcx\\x8b\\x8dE\\xc98l\\x0e\\xddI?\\x87\\xb6{\\xe3\\xe9\\xc5g5\\xf1$\\xe5\\xc9=q\\xb9\\x7f\\x97\\xae>\\xbfS_OG)\\x82\\x8a\\xf7~\\xe5\\xb7\\xf5\\xff\\x00\\x0e|\\xd5\\\\\\xd6N_\\x17\\xeb\\xfa\\x9e\\x9b\\x06\\xacI\\xe5\\xbd\\xba\\xe4\\xf6\\xfe\\xa4WKg\\xa8\\x13\\xb7-\\x91\\xfd?\\xfa\\xdd\\xff\\x002+\\xc7,\\xef\\x1bx\\xcb\\x12?\\x13\\xfe\\x1dG\\xb6}s\\xc5w:e\\xc18\\x1988#\\xbf\\xe9\\x9f^9\\xcf\\xe1\\\\x\\xdc\\x04`\\x9d\\xa2\\xbe\\xef\\xf8\\x1f\\xd7s\\xaf\\x05\\x8e\\x95I$\\xde\\xfb=\\xbdOI\\x8eR\\xeb\\xd7\\x82\\x07\\xf8c\\xdb\\xb0\\xc7\\x19\\xa8\\xa7\\x84H\\xa4}O\\xd0\\xfd;\\x83\\xfau\\xaa\\xb6.YFs\\xdb\\xbey<\\x7fQ[J\\xbb\\x94\\x0cg\\x00\\x7f*\\xf9\\xc9\\xfe\\xean\\xce\\xd6wW\\xf3\\xe9\\xe7\\xd8\\xfa85V\\x9f\\xbd\\xaf\\xfc1\\xc4\\xde\\xe9\\xf9\\x04\\x11\\xd7<\\xe3\\xfc\\xf5\\x1f\\xaf\\xd6\\xb9[\\xcd,\\x1d\\xc4\\xaeG\\xaf~\\xdf\\xcf\\x04\\xfaW\\xaa\\xcfn\\x18\\x1c\\x8f^\\xdc\\x83\\xd8\\xfe?\\x91\\xf6\\xac\\x1b\\xbb0\\x018\\xc8\\xc1\\xcf\\xeb\\xf4\\xfas\\xe8\\x0flW\\xa5\\x85\\xc6\\xca6Wz[\\xaf\\xe2\\xbb\\xaf\\xc5\\x1en+\\x05\\x19^\\xea\\xfa;?\\xeb\\xf2<\\x8a\\xebK\\x038\\x19\\x1d\\x08#=\\x7f.x\\x1e\\xbe\\xd5\\x92\\xfax\\r\\xf71\\xf8pq\\xf5\\xc7\\xe21^\\x93{j\\x01$\\x0f\\xaf\\xff\\x00\\xab\\xd7\\xa7\\x03\\xf48\\xc6\\x14\\x90.NG\\xd7\\x1d\\x87\\xf8z\\x1f\\xaek\\xe8\\xf0\\xf8\\xd9J+_\\xc5\\xaf\\xc5~\\xbf\\x7f\\x7f\\x9d\\xc4`\\xa1\\x19;\\xa5\\xdd;\\x7f_\\xd7\\xe3\\x81me\\xc8\\xf9@_N\\xf8\\xff\\x00$\\xff\\x00\\x8e:uv\\x16c \\x001\\x9ex\\'\\xf9u\\xe9\\xdf\\xf0\\xc0\\xc5V\\x86 \\x08\\xe3\\x19\\xe9\\xeb\\xf5\\xff\\x00\\x0e\\x07oL\\x9e\\x9a\\xc2\\x106\\xf1\\xd7\\xa7\\xbfL\\xe3\\xb8\\xfa\\x9fO\\xc6\\xb9\\xf1\\x98\\x998\\xbdz=\\x9f\\xdf\\xbe\\xfe\\xbf\\xa1\\xbe\\x0f\\x0f\\x1ee\\xa2\\xb2\\xf2\\xdf\\xfa\\xfd;\\x1bV\\x16a\\xb1\\xc0\\xc0\\xf4\\xf4\\xfa\\x7f?\\xd7\\x02\\xbbK\\x0b@\\x02\\x92;\\x0cc\\x8c\\x0eq\\xf8\\x93\\xfdO^k/O\\x80a\\x01\\xe9\\xd4\\xf5\\xf4\\xcf^\\xbc\\x8e\\x87\\xa7>\\xf5\\xd8\\xdaC\\xd0c\\x9f\\xa7\\x7fN\\x9f\\x87\\xe0E|n;\\x10\\xee\\xd5\\xfb\\xdf\\xfa\\xf5\\xd1y\\'\\xdc\\xfb\\x1c\\x16\\x1d%\\x17k\\xb7o\\xeb\\xe6X\\x86\\x10\\x00\\xed\\x8c\\x7f.?\\xfa\\xde\\x98\\xf5\\xe2\\xa4\\x99\\xb6\\x8cv\\x03\\x1d}\\xbf\\x9f8\\x1f\\xfd~n*\\x05\\\\q\\x92\\x0f>\\xe7\\xfc\\xf3\\xfe\\x18\\xac\\xab\\xb6*\\x18\\x8f\\x7f\\xd7?\\xe0\\rx\\xb1n\\xa5M}m\\xfd\\x7f_q\\xecN>\\xca\\x9f\\xf4\\xbf\\xae\\xc6&\\xa1u\\xb4\\x11\\x90?\\xfa\\xdc\\x13\\xfc\\xc0\\xeb\\xc6x5\\xc1jW\\xc7,rp\\x07C\\xfey\\xfa\\x7fN+\\x7fU\\x98\\x80\\xf8\\xef\\x901\\xc7\\x03\\x8c\\x1f\\xf3\\xd7?\\x87\\x9c\\xeaS\\x9d\\xcc=;g\\xd3\\xb7Q\\x93\\xeb\\xc7\\xe3_S\\x96\\xe1T\\xb9]\\xb5v\\xfe\\xbf\\xae\\x89\\x1f1\\x99b\\\\y\\x95\\xf6\\xf3\\xdd\\x98+n\\xdb\\xba\\x1cv\\xff\\x00\\'\\xfa\\xe3\\xf1\\xae\\x83O\\x88\\xee\\x07\\x1f\\x8e\\x0f\\xe3\\xfe=x\\xe9ZCG`\\xdfq\\xbd@\\xc7A\\xf5\\xee?\\xfd\\\\\\xd6\\xbd\\xae\\x9a\\xcb\\x8f\\x97\\x00\\x1c\\xf4\\xed\\xcf8\\xeb\\xe9\\xd3\\xa5z\\xd8\\x8cl\\x1c\\x1aM}\\xe7\\x95\\x87\\xc1N3M\\xae\\xbb$\\xcd\\xfd\\x1cm\\t\\xd7\\x8e}\\xfag\\xfc\\xff\\x00\\x93^\\x9f\\xa4\\xcf\\xb3o# \\xf7\\xc7_\\xc7\\xf2\\xcf5\\xe7\\xb66\\xe6<`\\x10\\x00#\\xeb\\xc1\\xff\\x009\\xed\\xd0\\xf6\\xcfUm!\\x8c\\x03\\xe9\\x8f\\xd0\\x0f\\xf1>\\xf9\\xf4\\xaf\\x8d\\xcc\\xa2\\xab9Z\\xcf\\xfak\\xf1\\xff\\x00#\\xecr\\xf9:\\n7\\xd3M~\\xf3\\xd6,u \\x81~n\\x9c\\x10O\\xea\\x7f\\xafOj\\xd9\\xfe\\xd9\\x01q\\x9e\\xde\\xa3\\x91\\xdf\\x1f\\x9dy:j\\x05\\x07\\'\\x07\\xa6z\\x7f\\x9c\\xf5\\xa6\\xc9\\xab\\x10\\x08\\xdcNGr}\\xfbq\\xc7\\xbd|\\xb4\\xf2\\xa5Rw\\xe5\\xeb{r\\xdf\\xf4>\\x9a\\x19\\xa2\\x84-\\xcc\\xb6\\xb6\\xff\\x00\\xe4\\xce\\xfa\\xfbY\\x0c\\x1b\\xe6\\x07\\xb6\\x01\\xe8O\\xbf\\xe7\\xf5\\xed\\\\]\\xfe\\xab\\xb8\\x9f\\x9b\\'\\x9e\\xfd3\\xc9\\xff\\x00\\xf5\\xfaq\\xed\\\\\\xdd\\xd6\\xaeNr\\xf8\\xf6\\x07\\xf0\\xc6}:s\\x82=k\\x02\\xe3R-\\x9c\\x13\\xf8\\xfe^\\xbd\\xbd\\t\\xc7\\xb0\\xafW\\x07\\x94\\xf2Y\\xf2\\xff\\x00_w\\xe5s\\xcb\\xc5\\xe6\\xaew\\xf7\\xbem\\xd9}\\xd7\\xd7\\xe6i^\\xde\\xee$\\x96\\xces\\xd0\\xff\\x00/\\xea\\x7f\\x01\\x9a\\xc0\\x9afc\\x9e\\xb9\\xce\\x07 c\\xb7\\xe1\\xe9\\xeb\\xd7$\\xf3P=\\xc6\\xf2r\\xd9\\xe4\\xe7\\xa9\\xf6\\xf4\\xc7\\xb7\\x7fJfs\\xces\\xef\\xd6\\xbe\\x86\\x96\\x1dSIZ\\xdf+;vK\\xa7\\x9fS\\xc0\\xab\\x88\\xf6\\x92\\xd2M\\xb7\\xd7\\xfa\\xfe\\xbb\\x031\\xc19\\xff\\x00\\x0e\\xc2\\xb1/%c\\x9e~\\xb9\\xe9\\xcep?\\xa7\\xf2\\xe6\\xb6\\xca\\xe4r\\x0e\\x0f\\x7f\\xe5Xw\\xab\\x8e\\xc7<\\x8e\\x87\\xb6G\\xf2?\\x99\\x1cWu\\x05\\x1eed\\xb7W\\xb7o\\xf8s\\x82\\xb77+\\xbbw8\\xfb\\xf9[\\'\\xd8\\x13\\xdb\\xe9\\xe9\\xfezW\\x19y1f9==\\x7f!\\xed\\xef\\x8c~\\x95\\xd8\\xdf\\xa1\\x05\\xbat \\x7f?\\xe9\\\\e\\xe2\\x10\\xe7\\x8e\\xbe\\xa3\\xd0\\xf6\\xe3\\xb8\\xed\\xfa\\x9a\\xfa\\xac\\x02\\x8d\\x96\\x8bo\\xf2\\xbf\\xe1s\\xe61\\xce\\\\\\xd3\\xdf\\xfe\\x01\\xcf\\\\J\\xc4\\xb7\\'\\x03\\xdc\\xf2O\\xaf\\xb6OJ\\xaa\\xac\\xc4\\x8e\\xf9\\xed\\xfe}*\\xe4\\xd0\\x9d\\xc4\\x81\\x90y#\\xbf\\xe1\\xed\\xfc\\xb9\\xa4\\x8a\\xd9\\x98\\x8e0\\x0f^y\\xfa{{\\xf7\\xf6\\xf4\\xfa\\x08\\xca\\x9ca\\xd3m6\\xecx-I\\xc9\\xe8\\xdb\\xbf\\xea^\\xb0\\r\\xf2\\xf5\\xea0}>o\\xf3\\xf8{W\\xa1\\xe9JA_\\xa7\\xf9\\xfeY>\\x95\\xc9i\\xd6\\x84\\xb2\\xf1\\xc0\\xc7\\xb6~\\x9d\\xf8\\xed\\xdc\\xfeU\\xe8z]\\xa3\\x00\\xa7o\\'\\x18\\xe3\\x1c\\x7f\\x9ezv\\xe9\\xd6\\xbe\\x7f3\\xad\\x0b5~\\xff\\x00\\xd7\\xae\\xdfy\\xefe\\xb4ex\\xdd=5gY\\xa7\\x8f\\x94~\\x1c\\xf4\\xef\\xeb\\xf8\\x1c{\\xd7M\\x00\\xe0\\xfbp?\\xc7\\xf4\\xac\\xab+r\\x15@\\x19\\xe9\\x9f\\xfe\\xber=\\x8fn\\xa3\\xd2\\xb6\\xd16\\xa8\\x1f\\x99\\xe7\\x19\\xaf\\x88\\xc4\\xd4\\x8b\\x93\\xd7\\xaa\\xb7\\xca\\xff\\x00\\xab>\\xd7\\r\\x07\\x18\\xab\\xaf?\\xc3B\\xb4\\xe0g\\xdb\\x1f\\xd0\\x1f\\xd3&\\xb1\\xee\\x94\\x15?\\x87\\xe1\\x9e\\x0f\\xe9\\xeb[\\x17\\x19\\xc9\\xf4*q\\xf9sX\\xb7D\\xeda\\xd7\\x8eI\\xea8\\xe3\\xd3\\xe9\\xd3\\xf9\\x1a\\xaa\\x1b\\xc3^\\xff\\x00\\xa98\\x8f\\x85\\xe9\\xf6\\x8eN\\xf0\\x03\\x9f\\xc3\\xeb\\xces\\x8c\\xd77 \\xc3\\x7f\\x9fS]-\\xe79\\xfc:{g?\\x95s\\xb2),x\\xe7$\\x11\\xd3\\xbf\\xbd}\\x1e\\x17\\xe1Z\\xfd\\x95\\xf9\\x1f9\\x8aW{w_=?\\xe1\\xc6\\xc4>o\\xc8~g\\xff\\x00\\xad]V\\x9e\\x9c\\xa8\\xc6rr?\\xfd^\\xdf\\x97\\xf4\\xe7\\xad\\xa2b\\xe3\\xeb\\x9c\\x8f\\xf3\\xd0s\\xe9\\xfaWg\\xa5\\xdb1*@<t\\xc6z\\xe7\\x8e?\\xfa\\xf8\\xec+,mH\\xc6\\x0fU\\xa2\\xfe\\xbf\\xaf3\\\\\\x1599+-\\xdaK\\xe5\\xd7\\xefg[\\xa7E\\xd3\\x8fA\\xc7p9\\xc7\\x7fA\\xef]\\x8d\\xa4G\\x03\\xdf\\xa7\\xf8\\xff\\x00\\xfa\\xf9\\x07\\x1c\\xf3X\\xfam\\x9bm\\\\/\\\\s\\x8f\\\\\\x13\\xfe{`Wigf\\xd8\\x18\\\\\\xfb\\xe3\\x8e\\x9e\\xbd\\xff\\x00_\\xcb\\xaf\\xc3c\\xb1\\x11\\xe6\\x96\\xbdu\\xd7\\xfa\\xd7v}\\xc6\\x07\\x0e\\xdaN\\xcfD\\xad\\xfe\\x7f\\xd7\\xe2Vh~^?<w\\xfa\\xf7\\xef\\xfd\\x07j\\xc2\\xbe\\x88\\x80\\xc0\\x0e\\xb9\\xfe\\xb8\\xfe|\\x9e\\x95\\xde\\xfd\\x81\\xca\\x9e\\x0f\\xa1\\xfa}3\\xd7>\\xd8\\xac\\x8b\\xdd5\\xb6\\xb6W\\xd7\\x9cw\\xff\\x00\\xf5\\x7fNrk\\xcf\\xa1\\x8a\\x82\\x9e\\xeb}U\\xfe]\\xce\\xfa\\xf8Y85g\\xe5t\\xf7\\xfb\\x91\\xe3\\x1a\\xb4G\\xe7\\x188\\xc9\\'\\x9ey\\xe7<t\\xe8=?:\\xf3}F&\\xde}\\x0eq\\xed\\x9c\\xfe\\x1f\\xa8\\xe6\\xbd\\xd7T\\xd2\\x9d\\xb7|\\xa7#=\\x8e\\x0f\\xaf\\xaf\\xd4u\\xe7\\xdf\\x9a\\xf3\\xdb\\xfd\\x1d\\xcb\\x1f\\x93<\\x9e\\x08\\xe7>\\xd8\\xea\\x01\\xf7<u\\xaf\\xb6\\xcb1\\xd4\\xd2\\x8f\\xbc\\xbauG\\xc6fx*\\x8d\\xcb\\xdd\\x7fs\\xd1\\xff\\x00\\x97\\x99\\xff\\xd9'}"
            ]
          },
          "metadata": {
            "tags": []
          },
          "execution_count": 19
        }
      ]
    },
    {
      "cell_type": "code",
      "metadata": {
        "id": "JKrDJtXSNZ27",
        "colab_type": "code",
        "colab": {}
      },
      "source": [
        "BASE_IMG = cv2.imread('blue-sky.jpg')\n",
        "\n",
        "WHITE_IMG = np.full((100,100,3), 255, dtype=np.uint8)"
      ],
      "execution_count": 0,
      "outputs": []
    },
    {
      "cell_type": "markdown",
      "metadata": {
        "id": "p3xaGNrb4Z0r",
        "colab_type": "text"
      },
      "source": [
        "### Gráficos"
      ]
    },
    {
      "cell_type": "code",
      "metadata": {
        "id": "fpJ1gmZo3x-o",
        "colab_type": "code",
        "colab": {}
      },
      "source": [
        "def plotTree(expr):\n",
        "  nodes, edges, labels = gp.graph(expr)\n",
        "  \n",
        "  g = nx.DiGraph()\n",
        "  g.add_nodes_from(nodes)\n",
        "  g.add_edges_from(edges)\n",
        "  pos = graphviz_layout(g, prog=\"dot\")\n",
        "\n",
        "  nx.draw_networkx_nodes(g, pos)\n",
        "  nx.draw_networkx_edges(g, pos)\n",
        "  nx.draw_networkx_labels(g, pos, labels)\n",
        "  \n",
        "  plt.show()\n",
        "  \n",
        "def plotImage(data):\n",
        "  plt.axis(\"off\")\n",
        "  plt.imshow(data, cmap='binary')"
      ],
      "execution_count": 0,
      "outputs": []
    },
    {
      "cell_type": "markdown",
      "metadata": {
        "id": "FY2gDEjG5Iuo",
        "colab_type": "text"
      },
      "source": [
        "\n",
        "\n",
        "### Algoritmo"
      ]
    },
    {
      "cell_type": "markdown",
      "metadata": {
        "id": "x2kF7HOKAiLt",
        "colab_type": "text"
      },
      "source": [
        "#### Operadores"
      ]
    },
    {
      "cell_type": "code",
      "metadata": {
        "id": "21ePh42HArjf",
        "colab_type": "code",
        "colab": {}
      },
      "source": [
        "# https://docs.opencv.org/3.0-beta/modules/imgproc/doc/filtering.html\n",
        "# https://docs.opencv.org/3.2.0/d0/d86/tutorial_py_image_arithmetics.html\n",
        "# Simplex noise\n",
        "def perlinNoise(scale=100, octaves=6):\n",
        "  octavesNormalized = octaves % 6 + 1\n",
        "  image = np.zeros((100, 100), dtype=np.uint8)\n",
        "  width = image.shape[0]\n",
        "  height = image.shape[1]\n",
        "  output = np.zeros((width, height), dtype=np.uint8)\n",
        "  for x in range(0, width):\n",
        "    for y in range(0, height):\n",
        "        noiseValue = snoise2(x/scale, y/scale, octaves=octavesNormalized, base=0)\n",
        "        # Transform the value from [-1,1] to [0,255]\n",
        "        output[x][y] = int((noiseValue + 1) * 127.5)\n",
        "  return cv2.cvtColor(output, cv2.COLOR_GRAY2BGR)\n",
        "\n",
        "\n",
        "def addWeighted(img1, img2, weight):\n",
        "  GAMMA = 0\n",
        "  return cv2.addWeighted(img1, weight, img2, 1 - weight, GAMMA)"
      ],
      "execution_count": 0,
      "outputs": []
    },
    {
      "cell_type": "markdown",
      "metadata": {
        "id": "wKIaTsa15oZz",
        "colab_type": "text"
      },
      "source": [
        "#### Fitness"
      ]
    },
    {
      "cell_type": "code",
      "metadata": {
        "id": "0k4AnH0I59Pe",
        "colab_type": "code",
        "colab": {}
      },
      "source": [
        "def calculateHistogram(img):\n",
        "  channels = [0, 1, 2]\n",
        "  mask = None\n",
        "  binsPerChannel = [8, 8, 8]\n",
        "  rangesPerDimension = [0, 256, 0, 256, 0, 256]\n",
        "  \n",
        "  hist = cv2.calcHist([img], channels, mask, binsPerChannel, rangesPerDimension)\n",
        "  hist = cv2.normalize(hist, hist).flatten()\n",
        "  \n",
        "  return hist;\n",
        "\n",
        "\n",
        "def compareHistograms(img1, img2):\n",
        "  hist1 = calculateHistogram(img1)\n",
        "  hist2 = calculateHistogram(img2)\n",
        "  d = cv2.compareHist(hist1, hist2, cv2.HISTCMP_CORREL)\n",
        "  # d está no intervalo [0, 1]\n",
        "  return d\n",
        "\n",
        "\n",
        "def evalFitness(individual):\n",
        "  # Transform the tree expression in a callable function\n",
        "  img = toolbox.compile(expr=individual)\n",
        "  return compareHistograms(BASE_IMG, img), # must return a tuple containing one element"
      ],
      "execution_count": 0,
      "outputs": []
    },
    {
      "cell_type": "markdown",
      "metadata": {
        "id": "K_A1A6Kc6UTw",
        "colab_type": "text"
      },
      "source": [
        "#### Estrutura da árvore"
      ]
    },
    {
      "cell_type": "code",
      "metadata": {
        "id": "CG7n9yW16XhP",
        "colab_type": "code",
        "outputId": "76b0700b-6db7-4961-a057-1faba35da1d5",
        "colab": {
          "base_uri": "https://localhost:8080/",
          "height": 105
        }
      },
      "source": [
        "#https://gist.github.com/macrintr/9876942\n",
        "\n",
        "def _(a):\n",
        "    return a\n",
        "\n",
        "def rand100():\n",
        "  return random.randrange(100) + 1\n",
        "\n",
        "# Define input types and output type\n",
        "pset = gp.PrimitiveSetTyped(\"main\", [], np.ndarray)\n",
        "\n",
        "# Add operators\n",
        "pset.addPrimitive(perlinNoise, [int, int], np.ndarray)\n",
        "pset.addPrimitive(addWeighted, [np.ndarray, np.ndarray, float], np.ndarray)\n",
        "pset.addPrimitive(_, [float], float)\n",
        "pset.addPrimitive(_, [int], int)\n",
        "\n",
        "pset.addTerminal(WHITE_IMG, np.ndarray, \"blank\")\n",
        "\n",
        "pset.addTerminal(100, int)\n",
        "pset.addTerminal(80, int)\n",
        "pset.addTerminal(60, int)\n",
        "pset.addTerminal(40, int)\n",
        "pset.addTerminal(20, int)\n",
        "\n",
        "pset.addTerminal(0.0, float)\n",
        "pset.addTerminal(0.1, float)\n",
        "pset.addTerminal(0.2, float)\n",
        "pset.addTerminal(0.3, float)\n",
        "pset.addTerminal(0.4, float)\n",
        "pset.addTerminal(0.5, float)\n",
        "\n",
        "\n",
        "# Create individual and add tree with primitives\n",
        "creator.create(\"FitnessMax\", base.Fitness, weights=(1.0,))\n",
        "creator.create(\"Individual\", gp.PrimitiveTree, pset=pset, fitness=creator.FitnessMax)\n",
        "toolbox.register(\"expr\", gp.genHalfAndHalf, pset=pset, min_=4, max_=20)\n",
        "toolbox.register(\"individual\", tools.initIterate, creator.Individual, toolbox.expr)\n",
        "toolbox.register(\"population\", tools.initRepeat, list, toolbox.individual)\n",
        "toolbox.register(\"compile\", gp.compile, pset=pset)\n",
        "\n",
        "# Fitness Evaulation\n",
        "toolbox.register(\"evaluate\", evalFitness)\n",
        "# Selection\n",
        "toolbox.register(\"select\", tools.selTournament, tournsize=3)\n",
        "# Crossover\n",
        "toolbox.register(\"mate\", gp.cxOnePoint)\n",
        "# Mutation\n",
        "toolbox.register(\"expr_mut\", gp.genFull, min_=0, max_=2)\n",
        "toolbox.register(\"mutate\", gp.mutUniform, expr=toolbox.expr_mut, pset=pset)"
      ],
      "execution_count": 0,
      "outputs": [
        {
          "output_type": "stream",
          "text": [
            "/usr/local/lib/python3.6/dist-packages/deap/creator.py:141: RuntimeWarning: A class named 'FitnessMax' has already been created and it will be overwritten. Consider deleting previous creation of that class or rename it.\n",
            "  RuntimeWarning)\n",
            "/usr/local/lib/python3.6/dist-packages/deap/creator.py:141: RuntimeWarning: A class named 'Individual' has already been created and it will be overwritten. Consider deleting previous creation of that class or rename it.\n",
            "  RuntimeWarning)\n"
          ],
          "name": "stderr"
        }
      ]
    },
    {
      "cell_type": "markdown",
      "metadata": {
        "id": "qbc57sJ2Ur1U",
        "colab_type": "text"
      },
      "source": [
        "#### Testes"
      ]
    },
    {
      "cell_type": "code",
      "metadata": {
        "id": "29SkpcwdUzWr",
        "colab_type": "code",
        "outputId": "8651d7d3-29fb-4a03-fb3c-e783bb2247ed",
        "colab": {
          "base_uri": "https://localhost:8080/",
          "height": 393
        }
      },
      "source": [
        "expr = toolbox.individual()\n",
        "tree = gp.PrimitiveTree(expr)\n",
        "f = gp.compile(tree, pset)\n",
        "print(expr)\n",
        "plotTree(expr)\n",
        "\n",
        "image = np.zeros((100, 100))\n",
        "a = f\n",
        "cv2_imshow(a)"
      ],
      "execution_count": 0,
      "outputs": [
        {
          "output_type": "stream",
          "text": [
            "addWeighted(addWeighted(addWeighted(addWeighted(addWeighted(True, True, 0.5), True, 0.2), addWeighted(True, True, 0.5), _(0.3)), perlinNoise(_(80), _(60)), _(_(0.5))), addWeighted(perlinNoise(_(20), _(80)), addWeighted(perlinNoise(_(40), 80), addWeighted(perlinNoise(80, 80), True, 0.4), _(0.3)), _(_(0.2))), _(_(_(0.0))))\n"
          ],
          "name": "stdout"
        },
        {
          "output_type": "display_data",
          "data": {
            "image/png": "[encoded data removed]",
            "text/plain": [
              "<Figure size 432x288 with 1 Axes>"
            ]
          },
          "metadata": {
            "tags": []
          }
        },
        {
          "output_type": "display_data",
          "data": {
            "image/png": "[encoded data removed]",
            "text/plain": [
              "<PIL.Image.Image image mode=RGB size=100x100 at 0x7FBFCB534DD8>"
            ]
          },
          "metadata": {
            "tags": []
          }
        }
      ]
    },
    {
      "cell_type": "code",
      "metadata": {
        "id": "GiS-HbIMX_XF",
        "colab_type": "code",
        "outputId": "59c3926b-6338-44f2-b2df-2000c3ddea28",
        "colab": {
          "base_uri": "https://localhost:8080/",
          "height": 1000
        }
      },
      "source": [
        "random.seed(10)\n",
        "pop = toolbox.population(n=20)\n",
        "hof = tools.HallOfFame(1)\n",
        "stats = tools.Statistics(lambda ind: ind.fitness.values)\n",
        "stats.register(\"avg\", np.mean)\n",
        "stats.register(\"std\", np.std)\n",
        "stats.register(\"min\", np.min)\n",
        "stats.register(\"max\", np.max)\n",
        "\n",
        "algorithms.eaSimple(pop, toolbox, 0.5, 0.2, 40, stats, halloffame=hof)"
      ],
      "execution_count": 0,
      "outputs": [
        {
          "output_type": "stream",
          "text": [
            "gen\tnevals\tavg        \tstd        \tmin        \tmax        \n",
            "0  \t20    \t-0.00770859\t0.000652554\t-0.00975414\t-0.00670899\n",
            "1  \t16    \t-0.00719765\t0.000405116\t-0.00801487\t-0.00654402\n",
            "2  \t8     \t-0.00676415\t0.00043487 \t-0.00751641\t-0.00525998\n",
            "3  \t9     \t-0.0065087 \t0.000447649\t-0.00701417\t-0.00525998\n",
            "4  \t14    \t-0.00621882\t0.00053298 \t-0.00688123\t-0.00525998\n",
            "5  \t9     \t-0.0057418 \t0.000467332\t-0.00651828\t-0.00524547\n",
            "6  \t11    \t-0.00540254\t0.000601618\t-0.00632145\t-0.00384488\n",
            "7  \t12    \t-0.00496635\t0.000651388\t-0.00622964\t-0.00384488\n",
            "8  \t12    \t-0.00457955\t0.000838856\t-0.00631648\t-0.00384488\n",
            "9  \t12    \t-0.00425835\t0.000607567\t-0.00544257\t-0.00384488\n",
            "10 \t15    \t-0.00399726\t0.000480093\t-0.00583246\t-0.00384488\n",
            "11 \t14    \t-0.00392314\t0.000341121\t-0.00541005\t-0.00384488\n",
            "12 \t15    \t-0.00384488\t8.67362e-19\t-0.00384488\t-0.00384488\n",
            "13 \t13    \t-0.00404732\t0.000882243\t-0.00789293\t-0.00384488\n",
            "14 \t15    \t-0.00403711\t0.000837893\t-0.0076894 \t-0.00384488\n",
            "15 \t16    \t-0.00400259\t0.000473317\t-0.00546326\t-0.00384488\n",
            "16 \t9     \t-0.00384488\t8.67362e-19\t-0.00384488\t-0.00384488\n",
            "17 \t10    \t-0.00384488\t8.67362e-19\t-0.00384488\t-0.00384488\n",
            "18 \t14    \t-0.00389038\t0.000198307\t-0.00475478\t-0.00384488\n",
            "19 \t19    \t-0.00461267\t0.00186873 \t-0.00975414\t-0.00384488\n",
            "20 \t5     \t-0.00384488\t8.67362e-19\t-0.00384488\t-0.00384488\n",
            "21 \t16    \t-0.00435228\t0.00140963 \t-0.00975414\t-0.00384488\n",
            "22 \t10    \t-0.00404839\t0.000887061\t-0.007915  \t-0.00384488\n",
            "23 \t15    \t-0.00404669\t0.000751582\t-0.00727129\t-0.00384488\n",
            "24 \t13    \t-0.00429588\t0.00136924 \t-0.00902023\t-0.00384488\n",
            "25 \t16    \t-0.00402547\t0.000787152\t-0.00745658\t-0.00384488\n",
            "26 \t10    \t-0.00402987\t0.00080633 \t-0.00754458\t-0.00384488\n",
            "27 \t13    \t-0.00384488\t8.67362e-19\t-0.00384488\t-0.00384488\n",
            "28 \t11    \t-0.00400733\t0.000708108\t-0.00709391\t-0.00384488\n",
            "29 \t7     \t-0.00384488\t8.67362e-19\t-0.00384488\t-0.00384488\n",
            "30 \t8     \t-0.0042121 \t0.00111137 \t-0.00798096\t-0.00384488\n",
            "31 \t9     \t-0.00405169\t0.000901438\t-0.00798096\t-0.00384488\n",
            "32 \t11    \t-0.00384488\t8.67362e-19\t-0.00384488\t-0.00384488\n",
            "33 \t17    \t-0.00405323\t0.000908182\t-0.00801191\t-0.00384488\n",
            "34 \t12    \t-0.00384488\t8.67362e-19\t-0.00384488\t-0.00384488\n",
            "35 \t9     \t-0.0041033 \t0.00112642 \t-0.00901325\t-0.00384488\n",
            "36 \t14    \t-0.00429448\t0.00142092 \t-0.00975414\t-0.00384488\n",
            "37 \t10    \t-0.00430293\t0.00138132 \t-0.00886984\t-0.00384488\n",
            "38 \t12    \t-0.00384488\t8.67362e-19\t-0.00384488\t-0.00384488\n",
            "39 \t11    \t-0.00404728\t0.000882252\t-0.00789293\t-0.00384488\n",
            "40 \t10    \t-0.00384488\t8.67362e-19\t-0.00384488\t-0.00384488\n"
          ],
          "name": "stdout"
        },
        {
          "output_type": "execute_result",
          "data": {
            "text/plain": [
              "([[<deap.gp.Primitive at 0x7f7ae4abeb38>,\n",
              "   <deap.gp.Terminal at 0x7f7ae64220d8>,\n",
              "   <deap.gp.Terminal at 0x7f7ae64220d8>,\n",
              "   <deap.gp.Terminal at 0x7f7ae4ac61b0>],\n",
              "  [<deap.gp.Primitive at 0x7f7ae4abeb38>,\n",
              "   <deap.gp.Terminal at 0x7f7ae64220d8>,\n",
              "   <deap.gp.Terminal at 0x7f7ae64220d8>,\n",
              "   <deap.gp.Primitive at 0x7f7ae4abecc8>,\n",
              "   <deap.gp.Primitive at 0x7f7ae4abecc8>,\n",
              "   <deap.gp.Primitive at 0x7f7ae4abecc8>,\n",
              "   <deap.gp.Terminal at 0x7f7ae4ac61b0>],\n",
              "  [<deap.gp.Primitive at 0x7f7ae4abeb38>,\n",
              "   <deap.gp.Terminal at 0x7f7ae64220d8>,\n",
              "   <deap.gp.Terminal at 0x7f7ae64220d8>,\n",
              "   <deap.gp.Primitive at 0x7f7ae4abecc8>,\n",
              "   <deap.gp.Primitive at 0x7f7ae4abecc8>,\n",
              "   <deap.gp.Terminal at 0x7f7ae4ac61b0>],\n",
              "  [<deap.gp.Primitive at 0x7f7ae4abeb38>,\n",
              "   <deap.gp.Primitive at 0x7f7ae4abeb38>,\n",
              "   <deap.gp.Terminal at 0x7f7ae64220d8>,\n",
              "   <deap.gp.Terminal at 0x7f7ae64220d8>,\n",
              "   <deap.gp.Terminal at 0x7f7ae4ac61b0>,\n",
              "   <deap.gp.Terminal at 0x7f7ae64220d8>,\n",
              "   <deap.gp.Primitive at 0x7f7ae4abecc8>,\n",
              "   <deap.gp.Primitive at 0x7f7ae4abecc8>,\n",
              "   <deap.gp.Terminal at 0x7f7ae4a67d80>],\n",
              "  [<deap.gp.Primitive at 0x7f7ae4abeb38>,\n",
              "   <deap.gp.Terminal at 0x7f7ae64220d8>,\n",
              "   <deap.gp.Terminal at 0x7f7ae64220d8>,\n",
              "   <deap.gp.Terminal at 0x7f7ae4a67c60>],\n",
              "  [<deap.gp.Primitive at 0x7f7ae4abeb38>,\n",
              "   <deap.gp.Terminal at 0x7f7ae64220d8>,\n",
              "   <deap.gp.Terminal at 0x7f7ae64220d8>,\n",
              "   <deap.gp.Terminal at 0x7f7ae4a67c60>],\n",
              "  [<deap.gp.Primitive at 0x7f7ae4abeb38>,\n",
              "   <deap.gp.Terminal at 0x7f7ae64220d8>,\n",
              "   <deap.gp.Terminal at 0x7f7ae64220d8>,\n",
              "   <deap.gp.Terminal at 0x7f7ae4a67c60>],\n",
              "  [<deap.gp.Primitive at 0x7f7ae4abeb38>,\n",
              "   <deap.gp.Terminal at 0x7f7ae64220d8>,\n",
              "   <deap.gp.Terminal at 0x7f7ae64220d8>,\n",
              "   <deap.gp.Primitive at 0x7f7ae4abecc8>,\n",
              "   <deap.gp.Terminal at 0x7f7ae4a67d80>],\n",
              "  [<deap.gp.Primitive at 0x7f7ae4abeb38>,\n",
              "   <deap.gp.Terminal at 0x7f7ae64220d8>,\n",
              "   <deap.gp.Terminal at 0x7f7ae64220d8>,\n",
              "   <deap.gp.Primitive at 0x7f7ae4abecc8>,\n",
              "   <deap.gp.Primitive at 0x7f7ae4abecc8>,\n",
              "   <deap.gp.Terminal at 0x7f7ae4a67d80>],\n",
              "  [<deap.gp.Terminal at 0x7f7ae64220d8>],\n",
              "  [<deap.gp.Primitive at 0x7f7ae4abeb38>,\n",
              "   <deap.gp.Terminal at 0x7f7ae64220d8>,\n",
              "   <deap.gp.Terminal at 0x7f7ae64220d8>,\n",
              "   <deap.gp.Primitive at 0x7f7ae4abecc8>,\n",
              "   <deap.gp.Terminal at 0x7f7ae4a67d80>],\n",
              "  [<deap.gp.Primitive at 0x7f7ae4abeb38>,\n",
              "   <deap.gp.Terminal at 0x7f7ae64220d8>,\n",
              "   <deap.gp.Terminal at 0x7f7ae64220d8>,\n",
              "   <deap.gp.Terminal at 0x7f7ae4a67c60>],\n",
              "  [<deap.gp.Primitive at 0x7f7ae4abeb38>,\n",
              "   <deap.gp.Terminal at 0x7f7ae64220d8>,\n",
              "   <deap.gp.Terminal at 0x7f7ae64220d8>,\n",
              "   <deap.gp.Primitive at 0x7f7ae4abecc8>,\n",
              "   <deap.gp.Primitive at 0x7f7ae4abecc8>,\n",
              "   <deap.gp.Terminal at 0x7f7ae4a67d80>],\n",
              "  [<deap.gp.Primitive at 0x7f7ae4abeb38>,\n",
              "   <deap.gp.Terminal at 0x7f7ae64220d8>,\n",
              "   <deap.gp.Terminal at 0x7f7ae64220d8>,\n",
              "   <deap.gp.Terminal at 0x7f7ae4a67c60>],\n",
              "  [<deap.gp.Primitive at 0x7f7ae4abeb38>,\n",
              "   <deap.gp.Terminal at 0x7f7ae64220d8>,\n",
              "   <deap.gp.Terminal at 0x7f7ae64220d8>,\n",
              "   <deap.gp.Terminal at 0x7f7ae4a67c60>],\n",
              "  [<deap.gp.Primitive at 0x7f7ae4abeb38>,\n",
              "   <deap.gp.Terminal at 0x7f7ae64220d8>,\n",
              "   <deap.gp.Terminal at 0x7f7ae64220d8>,\n",
              "   <deap.gp.Primitive at 0x7f7ae4abecc8>,\n",
              "   <deap.gp.Primitive at 0x7f7ae4abecc8>,\n",
              "   <deap.gp.Terminal at 0x7f7ae4a67d80>],\n",
              "  [<deap.gp.Primitive at 0x7f7ae4abeb38>,\n",
              "   <deap.gp.Terminal at 0x7f7ae64220d8>,\n",
              "   <deap.gp.Terminal at 0x7f7ae64220d8>,\n",
              "   <deap.gp.Primitive at 0x7f7ae4abecc8>,\n",
              "   <deap.gp.Primitive at 0x7f7ae4abecc8>,\n",
              "   <deap.gp.Terminal at 0x7f7ae4a67d80>],\n",
              "  [<deap.gp.Terminal at 0x7f7ae64220d8>],\n",
              "  [<deap.gp.Primitive at 0x7f7ae4abeb38>,\n",
              "   <deap.gp.Terminal at 0x7f7ae64220d8>,\n",
              "   <deap.gp.Terminal at 0x7f7ae64220d8>,\n",
              "   <deap.gp.Primitive at 0x7f7ae4abecc8>,\n",
              "   <deap.gp.Primitive at 0x7f7ae4abecc8>,\n",
              "   <deap.gp.Terminal at 0x7f7ae4a67d80>],\n",
              "  [<deap.gp.Primitive at 0x7f7ae4abeb38>,\n",
              "   <deap.gp.Terminal at 0x7f7ae64220d8>,\n",
              "   <deap.gp.Terminal at 0x7f7ae64220d8>,\n",
              "   <deap.gp.Primitive at 0x7f7ae4abecc8>,\n",
              "   <deap.gp.Primitive at 0x7f7ae4abecc8>,\n",
              "   <deap.gp.Terminal at 0x7f7ae4a67d80>]],\n",
              " [{'avg': -0.00770858617327642,\n",
              "   'gen': 0,\n",
              "   'max': -0.006708985123800033,\n",
              "   'min': -0.009754138562971536,\n",
              "   'nevals': 20,\n",
              "   'std': 0.0006525541246158176},\n",
              "  {'avg': -0.007197651830129437,\n",
              "   'gen': 1,\n",
              "   'max': -0.006544016632027046,\n",
              "   'min': -0.008014869944805422,\n",
              "   'nevals': 16,\n",
              "   'std': 0.0004051158274430274},\n",
              "  {'avg': -0.0067641483671810314,\n",
              "   'gen': 2,\n",
              "   'max': -0.00525998267146452,\n",
              "   'min': -0.007516409781081899,\n",
              "   'nevals': 8,\n",
              "   'std': 0.0004348698492199097},\n",
              "  {'avg': -0.006508701326137146,\n",
              "   'gen': 3,\n",
              "   'max': -0.00525998267146452,\n",
              "   'min': -0.007014174884172647,\n",
              "   'nevals': 9,\n",
              "   'std': 0.00044764932917198556},\n",
              "  {'avg': -0.006218821356412452,\n",
              "   'gen': 4,\n",
              "   'max': -0.00525998267146452,\n",
              "   'min': -0.006881226630609644,\n",
              "   'nevals': 14,\n",
              "   'std': 0.0005329798425207509},\n",
              "  {'avg': -0.00574179663093427,\n",
              "   'gen': 5,\n",
              "   'max': -0.005245469707140962,\n",
              "   'min': -0.006518277067988453,\n",
              "   'nevals': 9,\n",
              "   'std': 0.00046733180340761336},\n",
              "  {'avg': -0.005402540639372651,\n",
              "   'gen': 6,\n",
              "   'max': -0.0038448822936132474,\n",
              "   'min': -0.006321449688167449,\n",
              "   'nevals': 11,\n",
              "   'std': 0.0006016176861692388},\n",
              "  {'avg': -0.004966348610596197,\n",
              "   'gen': 7,\n",
              "   'max': -0.0038448822936132474,\n",
              "   'min': -0.006229636437447013,\n",
              "   'nevals': 12,\n",
              "   'std': 0.0006513876277702918},\n",
              "  {'avg': -0.004579553244368361,\n",
              "   'gen': 8,\n",
              "   'max': -0.0038448822936132474,\n",
              "   'min': -0.006316480039500279,\n",
              "   'nevals': 12,\n",
              "   'std': 0.000838855788859334},\n",
              "  {'avg': -0.0042583536043997216,\n",
              "   'gen': 9,\n",
              "   'max': -0.0038448822936132474,\n",
              "   'min': -0.0054425715513897665,\n",
              "   'nevals': 12,\n",
              "   'std': 0.0006075672961312234},\n",
              "  {'avg': -0.003997264522152665,\n",
              "   'gen': 10,\n",
              "   'max': -0.0038448822936132474,\n",
              "   'min': -0.0058324561628914015,\n",
              "   'nevals': 15,\n",
              "   'std': 0.0004800933714677195},\n",
              "  {'avg': -0.003923140826975139,\n",
              "   'gen': 11,\n",
              "   'max': -0.0038448822936132474,\n",
              "   'min': -0.00541005296085107,\n",
              "   'nevals': 14,\n",
              "   'std': 0.0003411210383941898},\n",
              "  {'avg': -0.0038448822936132483,\n",
              "   'gen': 12,\n",
              "   'max': -0.0038448822936132474,\n",
              "   'min': -0.0038448822936132474,\n",
              "   'nevals': 15,\n",
              "   'std': 8.673617379884035e-19},\n",
              "  {'avg': -0.004047323378354409,\n",
              "   'gen': 13,\n",
              "   'max': -0.0038448822936132474,\n",
              "   'min': -0.007892933429638224,\n",
              "   'nevals': 13,\n",
              "   'std': 0.0008822434680350549},\n",
              "  {'avg': -0.004037108029625308,\n",
              "   'gen': 14,\n",
              "   'max': -0.0038448822936132474,\n",
              "   'min': -0.007689397013854429,\n",
              "   'nevals': 15,\n",
              "   'std': 0.0008378925576242925},\n",
              "  {'avg': -0.004002594734824243,\n",
              "   'gen': 15,\n",
              "   'max': -0.0038448822936132474,\n",
              "   'min': -0.005463264253858022,\n",
              "   'nevals': 16,\n",
              "   'std': 0.00047331717224541244},\n",
              "  {'avg': -0.0038448822936132483,\n",
              "   'gen': 16,\n",
              "   'max': -0.0038448822936132474,\n",
              "   'min': -0.0038448822936132474,\n",
              "   'nevals': 9,\n",
              "   'std': 8.673617379884035e-19},\n",
              "  {'avg': -0.0038448822936132483,\n",
              "   'gen': 17,\n",
              "   'max': -0.0038448822936132474,\n",
              "   'min': -0.0038448822936132474,\n",
              "   'nevals': 10,\n",
              "   'std': 8.673617379884035e-19},\n",
              "  {'avg': -0.0038903769640138038,\n",
              "   'gen': 18,\n",
              "   'max': -0.0038448822936132474,\n",
              "   'min': -0.0047547757016243595,\n",
              "   'nevals': 14,\n",
              "   'std': 0.00019830667074571297},\n",
              "  {'avg': -0.0046126721843252425,\n",
              "   'gen': 19,\n",
              "   'max': -0.0038448822936132474,\n",
              "   'min': -0.009754138562971536,\n",
              "   'nevals': 19,\n",
              "   'std': 0.0018687331333170278},\n",
              "  {'avg': -0.0038448822936132483,\n",
              "   'gen': 20,\n",
              "   'max': -0.0038448822936132474,\n",
              "   'min': -0.0038448822936132474,\n",
              "   'nevals': 5,\n",
              "   'std': 8.673617379884035e-19},\n",
              "  {'avg': -0.0043522763981639805,\n",
              "   'gen': 21,\n",
              "   'max': -0.0038448822936132474,\n",
              "   'min': -0.009754138562971536,\n",
              "   'nevals': 16,\n",
              "   'std': 0.0014096295595651305},\n",
              "  {'avg': -0.004048388158400531,\n",
              "   'gen': 22,\n",
              "   'max': -0.0038448822936132474,\n",
              "   'min': -0.007914999589358913,\n",
              "   'nevals': 10,\n",
              "   'std': 0.0008870614990256204},\n",
              "  {'avg': -0.004046688146427163,\n",
              "   'gen': 23,\n",
              "   'max': -0.0038448822936132474,\n",
              "   'min': -0.007271292999987282,\n",
              "   'nevals': 15,\n",
              "   'std': 0.0007515823347201938},\n",
              "  {'avg': -0.004295875217054789,\n",
              "   'gen': 24,\n",
              "   'max': -0.0038448822936132474,\n",
              "   'min': -0.009020226042202888,\n",
              "   'nevals': 13,\n",
              "   'std': 0.0013692440251892658},\n",
              "  {'avg': -0.004025467306108691,\n",
              "   'gen': 25,\n",
              "   'max': -0.0038448822936132474,\n",
              "   'min': -0.0074565825435221,\n",
              "   'nevals': 16,\n",
              "   'std': 0.0007871518201856643},\n",
              "  {'avg': -0.004029867057824025,\n",
              "   'gen': 26,\n",
              "   'max': -0.0038448822936132474,\n",
              "   'min': -0.007544577577828793,\n",
              "   'nevals': 10,\n",
              "   'std': 0.0008063298932894777},\n",
              "  {'avg': -0.0038448822936132483,\n",
              "   'gen': 27,\n",
              "   'max': -0.0038448822936132474,\n",
              "   'min': -0.0038448822936132474,\n",
              "   'nevals': 13,\n",
              "   'std': 8.673617379884035e-19},\n",
              "  {'avg': -0.004007333522722814,\n",
              "   'gen': 28,\n",
              "   'max': -0.0038448822936132474,\n",
              "   'min': -0.0070939068758045605,\n",
              "   'nevals': 11,\n",
              "   'std': 0.0007081084909425697},\n",
              "  {'avg': -0.0038448822936132483,\n",
              "   'gen': 29,\n",
              "   'max': -0.0038448822936132474,\n",
              "   'min': -0.0038448822936132474,\n",
              "   'nevals': 7,\n",
              "   'std': 8.673617379884035e-19},\n",
              "  {'avg': -0.0042120975859773644,\n",
              "   'gen': 30,\n",
              "   'max': -0.0038448822936132474,\n",
              "   'min': -0.007980963891958204,\n",
              "   'nevals': 8,\n",
              "   'std': 0.0011113715040596505},\n",
              "  {'avg': -0.004051686373530496,\n",
              "   'gen': 31,\n",
              "   'max': -0.0038448822936132474,\n",
              "   'min': -0.007980963891958204,\n",
              "   'nevals': 9,\n",
              "   'std': 0.0009014380854711926},\n",
              "  {'avg': -0.0038448822936132483,\n",
              "   'gen': 32,\n",
              "   'max': -0.0038448822936132474,\n",
              "   'min': -0.0038448822936132474,\n",
              "   'nevals': 11,\n",
              "   'std': 8.673617379884035e-19},\n",
              "  {'avg': -0.004053233521668082,\n",
              "   'gen': 33,\n",
              "   'max': -0.0038448822936132474,\n",
              "   'min': -0.008011906854709915,\n",
              "   'nevals': 17,\n",
              "   'std': 0.000908181947853615},\n",
              "  {'avg': -0.0038448822936132483,\n",
              "   'gen': 34,\n",
              "   'max': -0.0038448822936132474,\n",
              "   'min': -0.0038448822936132474,\n",
              "   'nevals': 12,\n",
              "   'std': 8.673617379884035e-19},\n",
              "  {'avg': -0.004103300462444291,\n",
              "   'gen': 35,\n",
              "   'max': -0.0038448822936132474,\n",
              "   'min': -0.009013245670234095,\n",
              "   'nevals': 9,\n",
              "   'std': 0.001126418683109346},\n",
              "  {'avg': -0.004294484901017828,\n",
              "   'gen': 36,\n",
              "   'max': -0.0038448822936132474,\n",
              "   'min': -0.009754138562971536,\n",
              "   'nevals': 14,\n",
              "   'std': 0.001420916781433476},\n",
              "  {'avg': -0.004302934162148818,\n",
              "   'gen': 37,\n",
              "   'max': -0.0038448822936132474,\n",
              "   'min': -0.008869838065979675,\n",
              "   'nevals': 10,\n",
              "   'std': 0.0013813240245689627},\n",
              "  {'avg': -0.0038448822936132483,\n",
              "   'gen': 38,\n",
              "   'max': -0.0038448822936132474,\n",
              "   'min': -0.0038448822936132474,\n",
              "   'nevals': 12,\n",
              "   'std': 8.673617379884035e-19},\n",
              "  {'avg': -0.0040472848504144975,\n",
              "   'gen': 39,\n",
              "   'max': -0.0038448822936132474,\n",
              "   'min': -0.007892933429638224,\n",
              "   'nevals': 11,\n",
              "   'std': 0.0008822522910108945},\n",
              "  {'avg': -0.0038448822936132483,\n",
              "   'gen': 40,\n",
              "   'max': -0.0038448822936132474,\n",
              "   'min': -0.0038448822936132474,\n",
              "   'nevals': 10,\n",
              "   'std': 8.673617379884035e-19}])"
            ]
          },
          "metadata": {
            "tags": []
          },
          "execution_count": 55
        }
      ]
    }
  ]
}