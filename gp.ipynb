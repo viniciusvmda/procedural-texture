{
  "nbformat": 4,
  "nbformat_minor": 0,
  "metadata": {
    "colab": {
      "name": "gp.ipynb",
      "provenance": [],
      "include_colab_link": true
    },
    "kernelspec": {
      "name": "python3",
      "display_name": "Python 3"
    }
  },
  "cells": [
    {
      "cell_type": "markdown",
      "metadata": {
        "id": "view-in-github",
        "colab_type": "text"
      },
      "source": [
        "<a href=\"https://colab.research.google.com/github/viniciusvmda/procedural-texture/blob/master/gp.ipynb\" target=\"_parent\"><img src=\"https://colab.research.google.com/assets/colab-badge.svg\" alt=\"Open In Colab\"/></a>"
      ]
    },
    {
      "cell_type": "markdown",
      "metadata": {
        "id": "y5VxCTON3tui",
        "colab_type": "text"
      },
      "source": [
        "# Programação Genética\n",
        "https://www.pyimagesearch.com/2014/07/14/3-ways-compare-histograms-using-opencv-python/"
      ]
    },
    {
      "cell_type": "markdown",
      "metadata": {
        "id": "C8isxG-X3j_n",
        "colab_type": "text"
      },
      "source": [
        "## Requisitos"
      ]
    },
    {
      "cell_type": "code",
      "metadata": {
        "id": "GowSmknJ3hXB",
        "colab_type": "code",
        "colab": {}
      },
      "source": [
        "# GP\n",
        "!pip install deap\n",
        "# Graphics\n",
        "!apt-get install graphviz libgraphviz-dev pkg-config\n",
        "!pip install pygraphviz networkx\n",
        "# Noise functions\n",
        "!pip install noise\n",
        "# Pattern generation\n",
        "!pip install imagen"
      ],
      "execution_count": 0,
      "outputs": []
    },
    {
      "cell_type": "markdown",
      "metadata": {
        "id": "9ePJCFAG30CC",
        "colab_type": "text"
      },
      "source": [
        "## Bibliotecas"
      ]
    },
    {
      "cell_type": "code",
      "metadata": {
        "id": "PZYl2fCY35DO",
        "colab_type": "code",
        "colab": {}
      },
      "source": [
        "# Genetic Programming\n",
        "from deap import base, creator, gp, tools, algorithms\n",
        "\n",
        "# Graphics\n",
        "import networkx as nx\n",
        "from networkx.drawing.nx_agraph import graphviz_layout\n",
        "from matplotlib import pyplot as plt\n",
        "\n",
        "# Computer vision\n",
        "import cv2\n",
        "from google.colab.patches import cv2_imshow\n",
        "\n",
        "# Util\n",
        "import numpy as np\n",
        "import random\n",
        "import math\n",
        "import operator   # math basic operations\n",
        "import time\n",
        "import multiprocessing\n",
        "from copy import deepcopy\n",
        "import warnings\n",
        "\n",
        "# Operators\n",
        "from noise import snoise2\n",
        "import imagen as ig   # Pattern generation\n",
        "from skimage.measure import compare_ssim\n",
        "from sklearn.cluster import KMeans   # get dominant colors\n",
        "\n",
        "# Upload images\n",
        "from google.colab import files\n",
        "from io import BytesIO\n"
      ],
      "execution_count": 0,
      "outputs": []
    },
    {
      "cell_type": "markdown",
      "metadata": {
        "id": "cWgNX9NH3wsd",
        "colab_type": "text"
      },
      "source": [
        "## Desenvolvimento"
      ]
    },
    {
      "cell_type": "markdown",
      "metadata": {
        "id": "vIPg_6SeT5xC",
        "colab_type": "text"
      },
      "source": [
        "### Inicialização de variáveis"
      ]
    },
    {
      "cell_type": "code",
      "metadata": {
        "id": "2YS6H5TgT-1L",
        "colab_type": "code",
        "colab": {}
      },
      "source": [
        "toolbox = base.Toolbox()"
      ],
      "execution_count": 0,
      "outputs": []
    },
    {
      "cell_type": "code",
      "metadata": {
        "id": "GQKaBWKgMVfQ",
        "colab_type": "code",
        "colab": {}
      },
      "source": [
        "files.upload()"
      ],
      "execution_count": 0,
      "outputs": []
    },
    {
      "cell_type": "markdown",
      "metadata": {
        "id": "Xk43D9O9TXAs",
        "colab_type": "text"
      },
      "source": [
        "### Constantes"
      ]
    },
    {
      "cell_type": "code",
      "metadata": {
        "id": "JKrDJtXSNZ27",
        "colab_type": "code",
        "colab": {}
      },
      "source": [
        "# Image constants\n",
        "NUMBER_OF_CHANNELS = 3\n",
        "RGB_MAX = 255;\n",
        "\n",
        "# Target image constants\n",
        "TARGET_IMG = cv2.imread('wood-texture.jpg')\n",
        "TARGET_IMG_WIDTH = TARGET_IMG.shape[0];\n",
        "TARGET_IMG_HEIGHT = TARGET_IMG.shape[1];\n",
        "WHITE_IMG = np.full((TARGET_IMG_WIDTH, TARGET_IMG_HEIGHT, NUMBER_OF_CHANNELS), RGB_MAX, dtype=np.uint8)\n",
        "\n",
        "# Operators\n",
        "MAX_OCTAVES = 5   # perlin noise\n",
        "MAX_NUMBER_OF_TILES = 10\n",
        "MAX_NUMBER_OF_LINES = 10   # chessboard\n",
        "N_DOMINANT_COLORS = 2\n",
        "IMG_SIZE_TO_COMPARE = 50\n",
        "MARGIN_OF_ERROR = 20\n",
        "\n",
        "# Genetic Programming\n",
        "N_HALL_OF_FAME_INDIVIDUALS = 3\n",
        "INITIAL_POPULATION_SIZE = 100\n",
        "CROSSOVER_PROBABILITY = 0.6\n",
        "MUTATION_PROBABILITY = 0.1\n",
        "N_GENERATIONS = 10"
      ],
      "execution_count": 0,
      "outputs": []
    },
    {
      "cell_type": "markdown",
      "metadata": {
        "id": "p3xaGNrb4Z0r",
        "colab_type": "text"
      },
      "source": [
        "### Util"
      ]
    },
    {
      "cell_type": "code",
      "metadata": {
        "id": "fpJ1gmZo3x-o",
        "colab_type": "code",
        "colab": {}
      },
      "source": [
        "def plotTree(expr):\n",
        "  nodes, edges, labels = gp.graph(expr)\n",
        "  \n",
        "  g = nx.DiGraph()\n",
        "  g.add_nodes_from(nodes)\n",
        "  g.add_edges_from(edges)\n",
        "  pos = graphviz_layout(g, prog=\"dot\")\n",
        "\n",
        "  nx.draw_networkx_nodes(g, pos)\n",
        "  nx.draw_networkx_edges(g, pos)\n",
        "  nx.draw_networkx_labels(g, pos, labels)\n",
        "  \n",
        "  plt.show()\n",
        "\n",
        "  \n",
        "# not used\n",
        "def plotImage(data):\n",
        "  plt.axis(\"off\")\n",
        "  plt.imshow(data, cmap='binary')\n",
        "\n",
        "  \n",
        "def convertFloatToUint8(img):\n",
        "  return cv2.normalize(img, None, RGB_MAX, 0, cv2.NORM_MINMAX, cv2.CV_8UC3);\n",
        "\n",
        "\n",
        "# not used\n",
        "def createHistogramKmeans(cluster):\n",
        "    numLabels = np.arange(0, len(np.unique(cluster.labels_)) + 1)\n",
        "    hist, _ = np.histogram(cluster.labels_, bins=numLabels)\n",
        "    hist = hist.astype('float32')\n",
        "    hist /= hist.sum()\n",
        "    return hist\n",
        "\n",
        "# not used\n",
        "def getDominantColorsKmeans(img):\n",
        "  with warnings.catch_warnings():\n",
        "    warnings.simplefilter(\"ignore\")\n",
        "    \n",
        "    imgResized = cv2.resize(img, (IMG_SIZE_TO_COMPARE, IMG_SIZE_TO_COMPARE))\n",
        "    imgReshaped = imgResized.reshape((imgResized.shape[0] * imgResized.shape[1], imgResized.shape[2]))\n",
        "\n",
        "    clusters = KMeans(n_clusters=N_DOMINANT_COLORS).fit(imgReshaped)\n",
        "    # count the dominant colors and put them in \"buckets\"\n",
        "    histogram = createHistogram(clusters)\n",
        "    # then sort them, most-common first\n",
        "    combined = zip(histogram, clusters.cluster_centers_)\n",
        "    combined = sorted(combined, key=lambda x: x[0], reverse=True)\n",
        "\n",
        "    dominantColors = []\n",
        "    for (_, colorFloat) in combined:\n",
        "      color = colorFloat.astype(np.uint8)\n",
        "      dominantColors.append(color)\n",
        "    return dominantColors\n",
        "  \n",
        "\n",
        "def getDominantColor(img):\n",
        "    imgResized = cv2.resize(img, (IMG_SIZE_TO_COMPARE, IMG_SIZE_TO_COMPARE))\n",
        "    img2D = imgResized.reshape(-1, imgResized.shape[-1])\n",
        "    colorRange = (256, 256, 256) # generically : a2D.max(0)+1\n",
        "    img1D = np.ravel_multi_index(img2D.T, colorRange)\n",
        "    return np.unravel_index(np.bincount(img1D).argmax(), colorRange)\n",
        "  \n",
        "\n",
        "def isColorInsideMargin(color, currentDominantColor):\n",
        "  isInside = True\n",
        "  for channel in range(NUMBER_OF_CHANNELS):\n",
        "    lowerValue = currentDominantColor[channel] - MARGIN_OF_ERROR\n",
        "    lowerValue = lowerValue if lowerValue >= 0 else 0\n",
        "    greaterValue = currentDominantColor[channel] + MARGIN_OF_ERROR\n",
        "    greaterValue = greaterValue if greaterValue <= RGB_MAX else RGB_MAX\n",
        "    isInside = isInside and color[channel] >= lowerValue and color[channel] <= greaterValue\n",
        "  return isInside"
      ],
      "execution_count": 0,
      "outputs": []
    },
    {
      "cell_type": "markdown",
      "metadata": {
        "id": "FY2gDEjG5Iuo",
        "colab_type": "text"
      },
      "source": [
        "\n",
        "\n",
        "### Algoritmo"
      ]
    },
    {
      "cell_type": "markdown",
      "metadata": {
        "id": "x2kF7HOKAiLt",
        "colab_type": "text"
      },
      "source": [
        "#### Operadores"
      ]
    },
    {
      "cell_type": "markdown",
      "metadata": {
        "id": "PA3y1YfaU68Y",
        "colab_type": "text"
      },
      "source": [
        "##### Imagem"
      ]
    },
    {
      "cell_type": "code",
      "metadata": {
        "id": "21ePh42HArjf",
        "colab_type": "code",
        "colab": {}
      },
      "source": [
        "# https://docs.opencv.org/3.0-beta/modules/imgproc/doc/filtering.html\n",
        "# https://docs.opencv.org/3.2.0/d0/d86/tutorial_py_image_arithmetics.html\n",
        "\n",
        "# Patterns generators\n",
        "tiles = ig.SquareGrating()\n",
        "\n",
        "\n",
        "# Simplex noise\n",
        "def perlinNoise(scale, octaves):\n",
        "  positiveScale = abs(scale) + 1.0\n",
        "  octavesNormalized = int(octaves) % MAX_OCTAVES + 1\n",
        "  \n",
        "  output = np.zeros((TARGET_IMG_WIDTH, TARGET_IMG_HEIGHT), dtype=np.float)\n",
        "  for x in range(0, TARGET_IMG_WIDTH):\n",
        "    for y in range(0, TARGET_IMG_HEIGHT):\n",
        "        noiseValue = snoise2(x/positiveScale, y/positiveScale, octaves=octavesNormalized, base=0)\n",
        "        output[x][y] = noiseValue\n",
        "  outputUint8 = convertFloatToUint8(output)\n",
        "  return cv2.cvtColor(outputUint8, cv2.COLOR_GRAY2BGR)\n",
        "\n",
        "\n",
        "def createTiles(numberOfTilesFloat, orientation):\n",
        "  numberOfTiles = int(abs(numberOfTilesFloat)) % MAX_NUMBER_OF_TILES + 1\n",
        "  \n",
        "  img = tiles(xdensity=TARGET_IMG_WIDTH, ydensity=TARGET_IMG_HEIGHT, phase=np.pi/2, frequency=numberOfTiles, orientation=orientation)\n",
        "  imgUint8 = convertFloatToUint8(img)\n",
        "  return cv2.cvtColor(imgUint8, cv2.COLOR_GRAY2BGR)\n",
        "\n",
        "\n",
        "def createChessBoard(numberOfLinesFloat):\n",
        "  numberOfLines = int(abs(numberOfLinesFloat)) % MAX_NUMBER_OF_LINES + 1\n",
        "  \n",
        "  horizontal = np.where(createTiles(numberOfLines, 0) == RGB_MAX, 1, 0)\n",
        "  vertical = np.where(createTiles(numberOfLines, np.pi/2) == RGB_MAX, 1, 0)\n",
        "  output = np.where(horizontal + vertical > 1, RGB_MAX, 0)\n",
        "  return np.uint8(output)\n",
        "\n",
        "\n",
        "def addWeighted(img1, img2, weight):\n",
        "  GAMMA = 0\n",
        "  return cv2.addWeighted(img1, weight, img2, 1.0 - weight, GAMMA)\n",
        "\n",
        "\n",
        "# not used\n",
        "def colorizeImageKmeans(img):\n",
        "  newImg = np.zeros([img.shape[0], img.shape[1], img.shape[2]], dtype=np.uint8)\n",
        "  \n",
        "  targetDominantColors = getDominantColors(TARGET_IMG)\n",
        "  currentDominantColors = getDominantColors(img)\n",
        "  \n",
        "  for x in range(newImg.shape[0]):\n",
        "    for y in range(newImg.shape[1]):\n",
        "      for i in range(len(currentDominantColors)):\n",
        "        isInside = isColorInsideMargin(img[x][y], currentDominantColors[i]) \n",
        "        if not isInside:\n",
        "          break\n",
        "        newImg[x][y] = targetDominantColors[i] if isInside else img[x][y]\n",
        "  \n",
        "  return newImg\n",
        "\n",
        "\n",
        "def colorizeImage(img):\n",
        "  newImg = np.zeros(img.shape, dtype=np.uint8)\n",
        "  \n",
        "  targetDominantColor = getDominantColor(TARGET_IMG)\n",
        "  currentDominantColor = getDominantColor(img)\n",
        "  \n",
        "  for x in range(newImg.shape[0]):\n",
        "    for y in range(newImg.shape[1]):\n",
        "      isInside = isColorInsideMargin(img[x][y], currentDominantColor) \n",
        "      newImg[x][y] = targetDominantColor if isInside else img[x][y]\n",
        "  \n",
        "  return newImg"
      ],
      "execution_count": 0,
      "outputs": []
    },
    {
      "cell_type": "markdown",
      "metadata": {
        "id": "HY3EIzpwVA5I",
        "colab_type": "text"
      },
      "source": [
        "##### Float"
      ]
    },
    {
      "cell_type": "code",
      "metadata": {
        "id": "nO4RXfFfVDs7",
        "colab_type": "code",
        "colab": {}
      },
      "source": [
        "def protectedDiv(left, right):\n",
        "    return (left / right if right != 0.0 else left)\n",
        "\n",
        "  \n",
        "def protectedMod(left, right):\n",
        "    return (left % right if right != 0.0 else left)\n",
        "\n",
        "\n",
        "def protectedLog(num, base):\n",
        "  try:\n",
        "      return math.log(num, base)\n",
        "  except:\n",
        "      return 1\n",
        "\n",
        "\n",
        "def avg(num1, num2):\n",
        "  return (num1 + num2) / 2.0"
      ],
      "execution_count": 0,
      "outputs": []
    },
    {
      "cell_type": "markdown",
      "metadata": {
        "id": "wKIaTsa15oZz",
        "colab_type": "text"
      },
      "source": [
        "#### Fitness"
      ]
    },
    {
      "cell_type": "code",
      "metadata": {
        "id": "0k4AnH0I59Pe",
        "colab_type": "code",
        "colab": {}
      },
      "source": [
        "# not used\n",
        "def calculateHistogram(img):\n",
        "  channels = [0, 1, 2]\n",
        "  mask = None\n",
        "  maxValue = RGB_MAX + 1\n",
        "  binsPerChannel = [8, 8, 8]\n",
        "  rangesPerDimension = [0, maxValue, 0, maxValue, 0, maxValue]\n",
        "  \n",
        "  hist = cv2.calcHist([img], channels, mask, binsPerChannel, rangesPerDimension)\n",
        "  hist = cv2.normalize(hist, hist).flatten()\n",
        "  \n",
        "  return hist;\n",
        "\n",
        "\n",
        "# not used\n",
        "def compareHistograms(img1, img2):\n",
        "  hist1 = calculateHistogram(img1)\n",
        "  hist2 = calculateHistogram(img2)\n",
        "  d = cv2.compareHist(hist1, hist2, cv2.HISTCMP_CORREL)\n",
        "  return d # d está no intervalo [0, 1]\n",
        "\n",
        "\n",
        "def evalFitness(individual):\n",
        "  # Transform the tree expression in a callable function\n",
        "  function = toolbox.compile(expr=individual)\n",
        "  # Create 10 inputs between 0 and 100\n",
        "  inputs = np.linspace(0, 100, 10)\n",
        "  output = 0\n",
        "  for x in np.nditer(inputs):\n",
        "    for y in np.nditer(inputs):\n",
        "      output += compare_ssim(TARGET_IMG, function(x, y), multichannel=True)\n",
        "  \n",
        "  mean = output / (inputs.shape[0] ** 2)\n",
        "  return mean,   # must return a tuple containing one element"
      ],
      "execution_count": 0,
      "outputs": []
    },
    {
      "cell_type": "markdown",
      "metadata": {
        "id": "K_A1A6Kc6UTw",
        "colab_type": "text"
      },
      "source": [
        "#### Estrutura da árvore"
      ]
    },
    {
      "cell_type": "code",
      "metadata": {
        "id": "CG7n9yW16XhP",
        "colab_type": "code",
        "colab": {}
      },
      "source": [
        "#https://gist.github.com/macrintr/9876942\n",
        "\n",
        "# Define input types and output type\n",
        "pset = gp.PrimitiveSetTyped(\"main\", [float, float], np.ndarray)\n",
        "# Rename arguments\n",
        "pset.renameArguments(ARG0=\"x\")\n",
        "pset.renameArguments(ARG1=\"y\")\n",
        "\n",
        "# Image operators \n",
        "pset.addPrimitive(perlinNoise, [float, float], np.ndarray, \"noise\")\n",
        "pset.addPrimitive(createTiles, [float, float], np.ndarray, \"listras\")\n",
        "pset.addPrimitive(createChessBoard, [float], np.ndarray, \"xadrez\")\n",
        "pset.addPrimitive(colorizeImage, [np.ndarray], np.ndarray, \"rgb\")\n",
        "pset.addPrimitive(addWeighted, [np.ndarray, np.ndarray, float], np.ndarray, \"somaImg\")\n",
        "\n",
        "# Float operators\n",
        "pset.addPrimitive(operator.add, [float, float], float, \"soma\")\n",
        "pset.addPrimitive(operator.sub, [float, float], float, \"sub\")\n",
        "pset.addPrimitive(operator.mul, [float, float], float, \"mult\")\n",
        "pset.addPrimitive(protectedDiv, [float, float], float, \"div\")\n",
        "pset.addPrimitive(protectedMod, [float, float], float, \"mod\")\n",
        "pset.addPrimitive(math.pow, [float, float], float, \"pow\")\n",
        "pset.addPrimitive(math.sin, [float], float, \"sen\")\n",
        "# pset.addPrimitive(math.cos, [float], float, \"cos\")\n",
        "pset.addPrimitive(protectedLog, [float, float], float, \"log\")\n",
        "pset.addPrimitive(min, [float, float], float, \"min\")\n",
        "pset.addPrimitive(max, [float, float], float, \"max\")\n",
        "pset.addPrimitive(avg, [float, float], float, \"avg\")\n",
        "\n",
        "# Terminals\n",
        "pset.addTerminal(WHITE_IMG, np.ndarray, \"WHITE\")  # required terminal\n",
        "\n",
        "# Define fitness with one objective \n",
        "creator.create(\"FitnessMax\", base.Fitness, weights=(1.0,))\n",
        "# Create individual and add primitiveSet and fitness\n",
        "creator.create(\"Individual\", gp.PrimitiveTree, pset=pset, fitness=creator.FitnessMax)\n",
        "\n",
        "\n",
        "toolbox.register(\"expr\", gp.genHalfAndHalf, pset=pset, min_=3, max_=5)\n",
        "toolbox.register(\"individual\", tools.initIterate, creator.Individual, toolbox.expr)\n",
        "toolbox.register(\"population\", tools.initRepeat, list, toolbox.individual)\n",
        "toolbox.register(\"compile\", gp.compile, pset=pset)\n",
        "\n",
        "# Fitness Evaulation\n",
        "toolbox.register(\"evaluate\", evalFitness)\n",
        "# Selection\n",
        "toolbox.register(\"select\", tools.selTournament, tournsize=3)\n",
        "# Crossover\n",
        "toolbox.register(\"mate\", gp.cxOnePoint)\n",
        "# Mutation\n",
        "toolbox.register(\"expr_mut\", gp.genFull, min_=0, max_=2)\n",
        "toolbox.register(\"mutate\", gp.mutUniform, expr=toolbox.expr_mut, pset=pset)"
      ],
      "execution_count": 0,
      "outputs": []
    },
    {
      "cell_type": "markdown",
      "metadata": {
        "id": "qbc57sJ2Ur1U",
        "colab_type": "text"
      },
      "source": [
        "#### Testes"
      ]
    },
    {
      "cell_type": "code",
      "metadata": {
        "id": "GiS-HbIMX_XF",
        "colab_type": "code",
        "colab": {}
      },
      "source": [
        "# N_INDIVIDUALS_NEXT_GENERATION = INITIAL_POPULATION_SIZE\n",
        "# N_CHILDREN_NEXT_GENERATION = 30\n",
        "\n",
        "if __name__ == \"__main__\":\n",
        "  start = time.process_time()\n",
        "  \n",
        "  # Use multiprocessing with maximum CPU cores, that is 2 cores\n",
        "  pool = multiprocessing.Pool(processes=multiprocessing.cpu_count())\n",
        "  toolbox.register(\"map\", pool.map)\n",
        "  \n",
        "  pop = toolbox.population(n=INITIAL_POPULATION_SIZE)\n",
        "  hof = tools.HallOfFame(N_HALL_OF_FAME_INDIVIDUALS)\n",
        "  stats = tools.Statistics(lambda ind: ind.fitness.values)\n",
        "  stats.register(\"avg\", np.mean)\n",
        "  stats.register(\"std\", np.std)\n",
        "  stats.register(\"min\", np.min)\n",
        "  stats.register(\"max\", np.max)\n",
        "\n",
        "  algorithms.eaSimple(pop, toolbox, CROSSOVER_PROBABILITY, MUTATION_PROBABILITY, N_GENERATIONS, stats, halloffame=hof)\n",
        "  pool.close()\n",
        "  \n",
        "  end = time.process_time()\n",
        "  print(\"Elapsed time: \" + str(end - start))"
      ],
      "execution_count": 0,
      "outputs": []
    },
    {
      "cell_type": "code",
      "metadata": {
        "id": "UW0PVcNs4X8G",
        "colab_type": "code",
        "colab": {}
      },
      "source": [
        "tree = gp.PrimitiveTree(hof[0])\n",
        "compiledExpression = gp.compile(tree, pset)\n",
        "\n",
        "print(hof[0])\n",
        "plotTree(hof[0])\n",
        "cv2_imshow(TARGET_IMG)\n",
        "result = compiledExpression(20, 45)\n",
        "cv2_imshow(result)\n"
      ],
      "execution_count": 0,
      "outputs": []
    }
  ]
}