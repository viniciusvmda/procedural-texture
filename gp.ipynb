{
  "nbformat": 4,
  "nbformat_minor": 0,
  "metadata": {
    "colab": {
      "name": "gp.ipynb",
      "provenance": [],
      "include_colab_link": true
    },
    "kernelspec": {
      "name": "python3",
      "display_name": "Python 3"
    },
    "accelerator": "TPU"
  },
  "cells": [
    {
      "cell_type": "markdown",
      "metadata": {
        "id": "view-in-github",
        "colab_type": "text"
      },
      "source": [
        "<a href=\"https://colab.research.google.com/github/viniciusvmda/procedural-texture/blob/master/gp.ipynb\" target=\"_parent\"><img src=\"https://colab.research.google.com/assets/colab-badge.svg\" alt=\"Open In Colab\"/></a>"
      ]
    },
    {
      "cell_type": "markdown",
      "metadata": {
        "id": "y5VxCTON3tui",
        "colab_type": "text"
      },
      "source": [
        "# Programação Genética\n",
        "https://www.pyimagesearch.com/2014/07/14/3-ways-compare-histograms-using-opencv-python/"
      ]
    },
    {
      "cell_type": "markdown",
      "metadata": {
        "id": "C8isxG-X3j_n",
        "colab_type": "text"
      },
      "source": [
        "## Requisitos"
      ]
    },
    {
      "cell_type": "code",
      "metadata": {
        "id": "GowSmknJ3hXB",
        "colab_type": "code",
        "colab": {}
      },
      "source": [
        "# GP\n",
        "!pip install deap\n",
        "# Graphics\n",
        "!apt-get install graphviz libgraphviz-dev pkg-config\n",
        "!pip install pygraphviz networkx\n",
        "# Noise functions\n",
        "!pip install noise\n",
        "# Pattern generation\n",
        "!pip install imagen"
      ],
      "execution_count": 0,
      "outputs": []
    },
    {
      "cell_type": "markdown",
      "metadata": {
        "id": "9ePJCFAG30CC",
        "colab_type": "text"
      },
      "source": [
        "## Bibliotecas"
      ]
    },
    {
      "cell_type": "code",
      "metadata": {
        "id": "PZYl2fCY35DO",
        "colab_type": "code",
        "colab": {}
      },
      "source": [
        "# Genetic Programming\n",
        "from deap import base, creator, gp, tools, algorithms\n",
        "\n",
        "# Graphics\n",
        "import networkx as nx\n",
        "from networkx.drawing.nx_agraph import graphviz_layout\n",
        "from matplotlib import pyplot as plt\n",
        "\n",
        "# Computer vision\n",
        "import cv2\n",
        "from google.colab.patches import cv2_imshow\n",
        "\n",
        "# Util\n",
        "import numpy as np\n",
        "import random\n",
        "import math\n",
        "import operator   # math basic operations\n",
        "import time\n",
        "import multiprocessing\n",
        "from copy import deepcopy\n",
        "import warnings\n",
        "import sys\n",
        "\n",
        "# Operators\n",
        "from noise import snoise2\n",
        "import imagen as ig   # Pattern generation\n",
        "from skimage.measure import compare_ssim\n",
        "from sklearn.cluster import KMeans   # get dominant colors\n",
        "\n",
        "# Upload images\n",
        "from google.colab import files\n",
        "from io import BytesIO\n"
      ],
      "execution_count": 0,
      "outputs": []
    },
    {
      "cell_type": "markdown",
      "metadata": {
        "id": "cWgNX9NH3wsd",
        "colab_type": "text"
      },
      "source": [
        "## Desenvolvimento"
      ]
    },
    {
      "cell_type": "markdown",
      "metadata": {
        "id": "Xk43D9O9TXAs",
        "colab_type": "text"
      },
      "source": [
        "### Constantes"
      ]
    },
    {
      "cell_type": "code",
      "metadata": {
        "id": "JKrDJtXSNZ27",
        "colab_type": "code",
        "colab": {}
      },
      "source": [
        "# Image constants\n",
        "NUMBER_OF_CHANNELS = 3\n",
        "RGB_MAX = 255;\n",
        "\n",
        "# Operators\n",
        "MAX_OCTAVES = 5   # perlin noise\n",
        "MAX_NUMBER_OF_TILES = 10\n",
        "MAX_NUMBER_OF_LINES = 10   # chessboard\n",
        "N_DOMINANT_COLORS = 3\n",
        "IMG_SIZE_TO_COMPARE_COLORS = 10\n",
        "IMG_SIZE_TO_COMPARE_IMAGES = 100\n",
        "MARGIN_OF_ERROR = 30\n",
        "MAX_WEIGHT_ON_IMG_ADD = 10   # addWeighted\n",
        "\n",
        "tiles = ig.SquareGrating()"
      ],
      "execution_count": 0,
      "outputs": []
    },
    {
      "cell_type": "markdown",
      "metadata": {
        "id": "p3xaGNrb4Z0r",
        "colab_type": "text"
      },
      "source": [
        "### Util"
      ]
    },
    {
      "cell_type": "code",
      "metadata": {
        "id": "fpJ1gmZo3x-o",
        "colab_type": "code",
        "colab": {}
      },
      "source": [
        "def plotTree(expr):\n",
        "  nodes, edges, labels = gp.graph(expr)\n",
        "  \n",
        "  g = nx.DiGraph()\n",
        "  g.add_nodes_from(nodes)\n",
        "  g.add_edges_from(edges)\n",
        "  pos = graphviz_layout(g, prog=\"dot\")\n",
        "\n",
        "  nx.draw_networkx_nodes(g, pos)\n",
        "  nx.draw_networkx_edges(g, pos)\n",
        "  nx.draw_networkx_labels(g, pos, labels)\n",
        "  \n",
        "  plt.show()\n",
        "\n",
        "  \n",
        "def convertFloatToUint8(img):\n",
        "  return cv2.normalize(img, None, RGB_MAX, 0, cv2.NORM_MINMAX, cv2.CV_8UC3);\n",
        "\n",
        "\n",
        "def createHistogram(cluster):\n",
        "  numLabels = np.arange(0, len(np.unique(cluster.labels_)) + 1)\n",
        "  hist, _ = np.histogram(cluster.labels_, bins=numLabels)\n",
        "  hist = hist.astype('float32')\n",
        "  hist /= hist.sum()\n",
        "  return hist\n",
        "  \n",
        "\n",
        "def getDominantColorsKmeans(img):\n",
        "  with warnings.catch_warnings():\n",
        "    warnings.simplefilter(\"ignore\")\n",
        "\n",
        "    imgResized = cv2.resize(img, (IMG_SIZE_TO_COMPARE_COLORS, IMG_SIZE_TO_COMPARE_COLORS))\n",
        "    imgReshaped = imgResized.reshape((imgResized.shape[0] * imgResized.shape[1], imgResized.shape[2]))\n",
        "\n",
        "    clusters = KMeans(n_clusters=N_DOMINANT_COLORS).fit(imgReshaped)\n",
        "    # count the dominant colors and put them in \"buckets\"\n",
        "    histogram = createHistogram(clusters)\n",
        "    # then sort them, most-common first\n",
        "    combined = zip(histogram, clusters.cluster_centers_)\n",
        "    combined = sorted(combined, key=lambda x: x[0], reverse=True)\n",
        "\n",
        "    dominantColors = []\n",
        "    for (_, colorFloat) in combined:\n",
        "      color = colorFloat.astype(np.uint8)\n",
        "      dominantColors.append(color)\n",
        "      \n",
        "    return dominantColors"
      ],
      "execution_count": 0,
      "outputs": []
    },
    {
      "cell_type": "markdown",
      "metadata": {
        "id": "x2kF7HOKAiLt",
        "colab_type": "text"
      },
      "source": [
        "### Operadores"
      ]
    },
    {
      "cell_type": "markdown",
      "metadata": {
        "id": "PA3y1YfaU68Y",
        "colab_type": "text"
      },
      "source": [
        "#### Imagem"
      ]
    },
    {
      "cell_type": "code",
      "metadata": {
        "id": "21ePh42HArjf",
        "colab_type": "code",
        "colab": {}
      },
      "source": [
        "# https://docs.opencv.org/3.0-beta/modules/imgproc/doc/filtering.html\n",
        "# https://docs.opencv.org/3.2.0/d0/d86/tutorial_py_image_arithmetics.html\n",
        "class ImageOperator:\n",
        "  \n",
        "  def __init__(self, targetImg):\n",
        "    self.targetImg = targetImg\n",
        "    self.targetImgWidth = targetImg.shape[0];\n",
        "    self.targetImgHeight = targetImg.shape[1]; \n",
        "    self.targetDominantColors = getDominantColorsKmeans(targetImg)\n",
        "\n",
        "  \n",
        "  def perlinNoise(self, scale, octaves):\n",
        "    positiveScale = abs(scale) + 1.0\n",
        "    octavesNormalized = int(octaves) % MAX_OCTAVES + 1\n",
        "\n",
        "    output = np.zeros((self.targetImgWidth, self.targetImgHeight), dtype=np.float)\n",
        "    for x in range(0, self.targetImgWidth):\n",
        "      for y in range(0, self.targetImgHeight):\n",
        "        noiseValue = snoise2(x/positiveScale, y/positiveScale, octaves=octavesNormalized, base=0)\n",
        "        output[x][y] = noiseValue\n",
        "    outputUint8 = convertFloatToUint8(output)\n",
        "    return cv2.cvtColor(outputUint8, cv2.COLOR_GRAY2BGR)\n",
        "\n",
        "\n",
        "  def createTiles(self, numberOfTilesFloat, orientation):\n",
        "    numberOfTiles = int(abs(numberOfTilesFloat)) % MAX_NUMBER_OF_TILES + 1\n",
        "\n",
        "    img = tiles(xdensity=self.targetImgWidth, ydensity=self.targetImgHeight, phase=np.pi/2, frequency=numberOfTiles, orientation=orientation)\n",
        "    imgUint8 = convertFloatToUint8(img)\n",
        "    return cv2.cvtColor(imgUint8, cv2.COLOR_GRAY2BGR)\n",
        "\n",
        "\n",
        "  def createChessBoard(self, numberOfLinesFloat):\n",
        "    numberOfLines = int(abs(numberOfLinesFloat)) % MAX_NUMBER_OF_LINES + 1\n",
        "\n",
        "    horizontal = np.where(self.createTiles(numberOfLines, 0) == RGB_MAX, 1, 0)\n",
        "    vertical = np.where(self.createTiles(numberOfLines, np.pi/2) == RGB_MAX, 1, 0)\n",
        "    output = np.where(horizontal + vertical > 1, RGB_MAX, 0)\n",
        "    return np.uint8(output)\n",
        "\n",
        "\n",
        "  # Remove noise while preserving edges\n",
        "  def bilateralFilter(self, img, sigmaValues):\n",
        "    sigmaMinValue = 10   # there are no changes with values lower than 10\n",
        "    filterSize = 5   # Recomended value for diameter of each pixel neighborhood used during filtering\n",
        "    sigmaValuesPositive = abs(sigmaValues) + sigmaMinValue   # define how pixels will be mixed\n",
        "    return cv2.bilateralFilter(img, filterSize, sigmaValuesPositive, sigmaValuesPositive)\n",
        "\n",
        "\n",
        "  # Erode the boundaries of the objects in the image \n",
        "  def erodeImage(self, img, kernelSizeFloat):\n",
        "    kernel = self.getKernelFromFloatValue(kernelSizeFloat)\n",
        "    numberOfExecutions = 1\n",
        "    return cv2.erode(img, kernel, iterations = numberOfExecutions)\n",
        "\n",
        "\n",
        "  # Dilate the boundaries of the objects in the image \n",
        "  def dilateImage(self, img, kernelSizeFloat):\n",
        "    kernel = self.getKernelFromFloatValue(kernelSizeFloat)\n",
        "    numberOfExecutions = 1\n",
        "    return cv2.dilate(img, kernel, iterations = numberOfExecutions)\n",
        "\n",
        "\n",
        "  def getKernelFromFloatValue(self, kernelSizeFloat):\n",
        "    maxKernelValue = int(self.targetImgWidth * 0.1)\n",
        "    kernelSize = int(kernelSizeFloat) % maxKernelValue + 1\n",
        "    return np.ones((kernelSize, kernelSize), np.uint8)   # window that slides through the image\n",
        "  \n",
        "  \n",
        "  def colorizeImage(self, img):\n",
        "    newImg = np.zeros([img.shape[0], img.shape[1], img.shape[2]], dtype=np.uint8)\n",
        "    currentDominantColors = getDominantColorsKmeans(img)\n",
        "    \n",
        "    for x in range(newImg.shape[0]):\n",
        "      for y in range(newImg.shape[1]):\n",
        "        for i in range(len(currentDominantColors)):\n",
        "          isInside = self.isColorInsideMargin(img[x][y], currentDominantColors[i]) \n",
        "          if not isInside:\n",
        "            break\n",
        "          newImg[x][y] = self.targetDominantColors[i] if isInside else img[x][y]\n",
        "\n",
        "    return newImg\n",
        "\n",
        "\n",
        "  def isColorInsideMargin(self, color, currentDominantColor):\n",
        "    isInside = True\n",
        "    for channel in range(NUMBER_OF_CHANNELS):\n",
        "      lowerValue = currentDominantColor[channel] - MARGIN_OF_ERROR\n",
        "      lowerValue = lowerValue if lowerValue >= 0 else 0\n",
        "      greaterValue = currentDominantColor[channel] + MARGIN_OF_ERROR\n",
        "      greaterValue = greaterValue if greaterValue <= RGB_MAX else RGB_MAX\n",
        "      isInside = isInside and color[channel] >= lowerValue and color[channel] <= greaterValue\n",
        "    return isInside\n",
        "  \n",
        "  \n",
        "  def addWeighted(self, img1, img2, weightFloat):\n",
        "    weight = (abs(weightFloat) % MAX_WEIGHT_ON_IMG_ADD + 1) / MAX_WEIGHT_ON_IMG_ADD  \n",
        "    scalarToSum = 0\n",
        "    return cv2.addWeighted(img1, weight, img2, 1.0 - weight, scalarToSum)"
      ],
      "execution_count": 0,
      "outputs": []
    },
    {
      "cell_type": "markdown",
      "metadata": {
        "id": "HY3EIzpwVA5I",
        "colab_type": "text"
      },
      "source": [
        "#### Float"
      ]
    },
    {
      "cell_type": "code",
      "metadata": {
        "id": "nO4RXfFfVDs7",
        "colab_type": "code",
        "colab": {}
      },
      "source": [
        "class FloatOperator:\n",
        "\n",
        "  def protectedDiv(left, right):\n",
        "      return (left / right if right != 0.0 else left)\n",
        "\n",
        "\n",
        "  def protectedMod(left, right):\n",
        "      return (left % right if right != 0.0 else left)\n",
        "\n",
        "\n",
        "  def protectedLog(num, base):\n",
        "    try:\n",
        "        return math.log(num, base)\n",
        "    except:\n",
        "        return 1\n",
        "\n",
        "\n",
        "  def avg(num1, num2):\n",
        "    return (num1 + num2) / 2.0"
      ],
      "execution_count": 0,
      "outputs": []
    },
    {
      "cell_type": "markdown",
      "metadata": {
        "id": "K_A1A6Kc6UTw",
        "colab_type": "text"
      },
      "source": [
        "### Gerador de Texturas"
      ]
    },
    {
      "cell_type": "code",
      "metadata": {
        "id": "CG7n9yW16XhP",
        "colab_type": "code",
        "colab": {}
      },
      "source": [
        "class TextureGenerator:\n",
        "\n",
        "  def __init__(\n",
        "      self, targetImg, nInitialPopulation, nGenerations, nIndividualsNextGeneration, nChildrenNextGeneration,\n",
        "      nHallOfFameIndividuals, crossoverProbability, mutationProbability\n",
        "  ):\n",
        "    self.targetImg = targetImg\n",
        "    self.nInitialPopulation = nInitialPopulation\n",
        "    self.nGenerations = nGenerations\n",
        "    self.nIndividualsNextGeneration = nIndividualsNextGeneration\n",
        "    self.nChildrenNextGeneration = nChildrenNextGeneration\n",
        "    self.nHallOfFameIndividuals = nHallOfFameIndividuals\n",
        "    self.crossoverProbability = crossoverProbability\n",
        "    self.mutationProbability = mutationProbability\n",
        "    # Define input types and output type\n",
        "    self.pset = gp.PrimitiveSetTyped(\"main\", [float, float], np.ndarray)\n",
        "    self.pset.renameArguments(ARG0=\"x\")\n",
        "    self.pset.renameArguments(ARG1=\"y\")\n",
        "    # Init toolbox\n",
        "    self.toolbox = base.Toolbox() \n",
        "    # Compute calculus\n",
        "    self.resizedTargetImg = cv2.resize(targetImg, (IMG_SIZE_TO_COMPARE_IMAGES, IMG_SIZE_TO_COMPARE_IMAGES))\n",
        "    self.inputsToEvaluate = np.linspace(0, 100, 10)\n",
        "\n",
        "  \n",
        "  \n",
        "  def setImageOperators(self):\n",
        "    imageOperator = ImageOperator(self.targetImg)\n",
        "    self.pset.addPrimitive(imageOperator.perlinNoise, [float, float], np.ndarray, \"noise\")\n",
        "    self.pset.addPrimitive(imageOperator.createTiles, [float, float], np.ndarray, \"listras\")\n",
        "    self.pset.addPrimitive(imageOperator.createChessBoard, [float], np.ndarray, \"xadrez\")\n",
        "    self.pset.addPrimitive(imageOperator.colorizeImage, [np.ndarray], np.ndarray, \"rgb\")\n",
        "    self.pset.addPrimitive(imageOperator.addWeighted, [np.ndarray, np.ndarray, float], np.ndarray, \"somaImg\")\n",
        "    self.pset.addPrimitive(imageOperator.bilateralFilter, [np.ndarray, float], np.ndarray, \"filtroBilateral\")\n",
        "    self.pset.addPrimitive(imageOperator.erodeImage, [np.ndarray, float], np.ndarray, \"erodir\")\n",
        "    self.pset.addPrimitive(imageOperator.dilateImage, [np.ndarray, float], np.ndarray, \"dilatar\")\n",
        "\n",
        "\n",
        "  def setFloatOperators(self):\n",
        "    self.pset.addPrimitive(operator.add, [float, float], float, \"soma\")\n",
        "    self.pset.addPrimitive(operator.sub, [float, float], float, \"sub\")\n",
        "    self.pset.addPrimitive(operator.mul, [float, float], float, \"mult\")\n",
        "    self.pset.addPrimitive(FloatOperator.protectedDiv, [float, float], float, \"div\")\n",
        "    self.pset.addPrimitive(FloatOperator.protectedMod, [float, float], float, \"mod\")\n",
        "    self.pset.addPrimitive(math.sin, [float], float, \"sen\")\n",
        "    self.pset.addPrimitive(math.cos, [float], float, \"cos\")\n",
        "    self.pset.addPrimitive(FloatOperator.protectedLog, [float, float], float, \"log\")\n",
        "    self.pset.addPrimitive(min, [float, float], float, \"min\")\n",
        "    self.pset.addPrimitive(max, [float, float], float, \"max\")\n",
        "    self.pset.addPrimitive(FloatOperator.avg, [float, float], float, \"avg\")\n",
        "\n",
        "    \n",
        "  def setTerminals(self):\n",
        "    WHITE_IMG = np.full(self.targetImg.shape, RGB_MAX, dtype=np.uint8)\n",
        "    self.pset.addTerminal(WHITE_IMG, np.ndarray, \"WHITE\")  # required terminal\n",
        "\n",
        "  \n",
        "  def evalFitness(self, individual):\n",
        "    # Transform the tree expression in a callable function\n",
        "    createTexture = self.toolbox.compile(expr=individual)\n",
        "    output = 0\n",
        "\n",
        "    for x in np.nditer(self.inputsToEvaluate):\n",
        "      for y in np.nditer(self.inputsToEvaluate):\n",
        "        try:\n",
        "          texture = createTexture(x, y)\n",
        "          resizedTexture = cv2.resize(texture, (IMG_SIZE_TO_COMPARE_IMAGES, IMG_SIZE_TO_COMPARE_IMAGES))\n",
        "          output += compare_ssim(self.resizedTargetImg, resizedTexture, multichannel=True)\n",
        "        except Exception as e:\n",
        "          sys.exit('erro eval: ' + str(e))\n",
        "\n",
        "    mean = output / (self.inputsToEvaluate.shape[0] ** 2)\n",
        "    return mean,   # must return a tuple containing one element\n",
        "\n",
        "  \n",
        "  def setGenneticProgrammingOperators(self):\n",
        "    # Define fitness with one objective\n",
        "    creator.create(\"FitnessMax\", base.Fitness, weights=(1.0,))\n",
        "    # Create individual and add primitiveSet and fitness\n",
        "    creator.create(\"Individual\", gp.PrimitiveTree, pset=self.pset, fitness=creator.FitnessMax)\n",
        "    \n",
        "    # Pupulation\n",
        "    self.toolbox.register(\"expr\", gp.genHalfAndHalf, pset=self.pset, min_=2, max_=6)\n",
        "    self.toolbox.register(\"individual\", tools.initIterate, creator.Individual, self.toolbox.expr)\n",
        "    self.toolbox.register(\"population\", tools.initRepeat, list, self.toolbox.individual)\n",
        "    # Fitness Evaulation\n",
        "    self.toolbox.register(\"evaluate\", self.evalFitness)\n",
        "    # Selection\n",
        "    self.toolbox.register(\"select\", tools.selTournament, tournsize=3)\n",
        "    # Crossover\n",
        "    self.toolbox.register(\"mate\", gp.cxOnePointLeafBiased, termpb=0.1)\n",
        "    # Mutation\n",
        "    self.toolbox.register(\"expr_mut\", gp.genHalfAndHalf, min_=1, max_=3)\n",
        "    self.toolbox.register(\"mutate\", gp.mutUniform, expr=self.toolbox.expr_mut, pset=self.pset)\n",
        "    \n",
        "    self.toolbox.register(\"compile\", gp.compile, pset=self.pset)\n",
        "\n",
        "\n",
        "  def initGenneticProgramming(self):\n",
        "    self.setImageOperators()\n",
        "    self.setFloatOperators()\n",
        "    self.setTerminals()\n",
        "    self.setGenneticProgrammingOperators()\n",
        "    \n",
        "    \n",
        "  def runGenneticProgramming(self):\n",
        "    self.initGenneticProgramming()\n",
        "\n",
        "    population = self.toolbox.population(n=self.nInitialPopulation)\n",
        "    self.hallOfFame = tools.HallOfFame(self.nHallOfFameIndividuals)\n",
        "\n",
        "    stats = tools.Statistics(lambda ind: ind.fitness.values)\n",
        "    stats.register(\"amount\", np.size)\n",
        "    stats.register(\"avg\", np.mean)\n",
        "    stats.register(\"std\", np.std)\n",
        "    stats.register(\"min\", np.min)\n",
        "    stats.register(\"max\", np.max)\n",
        "    \n",
        "    start = time.process_time()\n",
        "    #   algorithms.eaSimple(population, self.toolbox, CROSSOVER_PROBABILITY, MUTATION_PROBABILITY, N_GENERATIONS, stats, hallOfFame)\n",
        "    algorithms.eaMuPlusLambda(\n",
        "        population, self.toolbox, self.nIndividualsNextGeneration, self.nChildrenNextGeneration, \n",
        "        self.crossoverProbability, self.mutationProbability, self.nGenerations, stats, self.hallOfFame\n",
        "    )\n",
        "    end = time.process_time()\n",
        "    print(\"Elapsed time: \" + str(end - start))\n",
        "    \n",
        "  \n",
        "  def generateTexture(self, nIndividual, x, y):\n",
        "    tree = gp.PrimitiveTree(self.hallOfFame[nIndividual])\n",
        "    generateTexture = gp.compile(tree, self.pset)\n",
        "    return generateTexture(x, y)\n",
        "  \n",
        "  \n",
        "  def getResultantExpression(self, nIndividual):\n",
        "    return self.hallOfFame[nIndividual]\n",
        "      "
      ],
      "execution_count": 0,
      "outputs": []
    },
    {
      "cell_type": "markdown",
      "metadata": {
        "id": "qbc57sJ2Ur1U",
        "colab_type": "text"
      },
      "source": [
        "### Main"
      ]
    },
    {
      "cell_type": "code",
      "metadata": {
        "id": "RUD6eMd6ybs9",
        "colab_type": "code",
        "colab": {}
      },
      "source": [
        "files.upload()"
      ],
      "execution_count": 0,
      "outputs": []
    },
    {
      "cell_type": "code",
      "metadata": {
        "id": "GiS-HbIMX_XF",
        "colab_type": "code",
        "colab": {
          "base_uri": "https://localhost:8080/",
          "height": 462
        },
        "outputId": "40e34782-e0c9-4307-9f19-94f107a13df2"
      },
      "source": [
        "TARGET_IMG = cv2.imread('ruined-texture.jpg')\n",
        "N_INITIAL_POPULATION = 20\n",
        "N_GENERATIONS = 1\n",
        "N_INDIVIDUALS_NEXT_GENERATION = int(N_INITIAL_POPULATION / 2)\n",
        "N_CHILDREN_NEXT_GENERATION = N_INITIAL_POPULATION\n",
        "N_HALL_OF_FAME_INDIVIDUALS = 3\n",
        "CROSSOVER_PROBABILITY = 0.7\n",
        "MUTATION_PROBABILITY = 0.08\n",
        "\n",
        "textureGenerator = TextureGenerator(\n",
        "    TARGET_IMG, N_INITIAL_POPULATION, N_GENERATIONS, N_INDIVIDUALS_NEXT_GENERATION, \n",
        "    N_CHILDREN_NEXT_GENERATION, N_HALL_OF_FAME_INDIVIDUALS, CROSSOVER_PROBABILITY, MUTATION_PROBABILITY\n",
        ")\n",
        "\n",
        "textureGenerator.runGenneticProgramming()"
      ],
      "execution_count": 13,
      "outputs": [
        {
          "output_type": "stream",
          "text": [
            "/usr/local/lib/python3.6/dist-packages/deap/creator.py:141: RuntimeWarning: A class named 'FitnessMax' has already been created and it will be overwritten. Consider deleting previous creation of that class or rename it.\n",
            "  RuntimeWarning)\n",
            "/usr/local/lib/python3.6/dist-packages/deap/creator.py:141: RuntimeWarning: A class named 'Individual' has already been created and it will be overwritten. Consider deleting previous creation of that class or rename it.\n",
            "  RuntimeWarning)\n"
          ],
          "name": "stderr"
        },
        {
          "output_type": "error",
          "ename": "KeyboardInterrupt",
          "evalue": "ignored",
          "traceback": [
            "\u001b[0;31m---------------------------------------------------------------------------\u001b[0m",
            "\u001b[0;31mKeyboardInterrupt\u001b[0m                         Traceback (most recent call last)",
            "\u001b[0;32m<ipython-input-13-78156c1efb71>\u001b[0m in \u001b[0;36m<module>\u001b[0;34m()\u001b[0m\n\u001b[1;32m     13\u001b[0m )\n\u001b[1;32m     14\u001b[0m \u001b[0;34m\u001b[0m\u001b[0m\n\u001b[0;32m---> 15\u001b[0;31m \u001b[0mtextureGenerator\u001b[0m\u001b[0;34m.\u001b[0m\u001b[0mrunGenneticProgramming\u001b[0m\u001b[0;34m(\u001b[0m\u001b[0;34m)\u001b[0m\u001b[0;34m\u001b[0m\u001b[0;34m\u001b[0m\u001b[0m\n\u001b[0m",
            "\u001b[0;32m<ipython-input-12-bcf9a8eb31a8>\u001b[0m in \u001b[0;36mrunGenneticProgramming\u001b[0;34m(self)\u001b[0m\n\u001b[1;32m    121\u001b[0m     algorithms.eaMuPlusLambda(\n\u001b[1;32m    122\u001b[0m         \u001b[0mpopulation\u001b[0m\u001b[0;34m,\u001b[0m \u001b[0mself\u001b[0m\u001b[0;34m.\u001b[0m\u001b[0mtoolbox\u001b[0m\u001b[0;34m,\u001b[0m \u001b[0mself\u001b[0m\u001b[0;34m.\u001b[0m\u001b[0mnIndividualsNextGeneration\u001b[0m\u001b[0;34m,\u001b[0m \u001b[0mself\u001b[0m\u001b[0;34m.\u001b[0m\u001b[0mnChildrenNextGeneration\u001b[0m\u001b[0;34m,\u001b[0m\u001b[0;34m\u001b[0m\u001b[0;34m\u001b[0m\u001b[0m\n\u001b[0;32m--> 123\u001b[0;31m         \u001b[0mself\u001b[0m\u001b[0;34m.\u001b[0m\u001b[0mcrossoverProbability\u001b[0m\u001b[0;34m,\u001b[0m \u001b[0mself\u001b[0m\u001b[0;34m.\u001b[0m\u001b[0mmutationProbability\u001b[0m\u001b[0;34m,\u001b[0m \u001b[0mself\u001b[0m\u001b[0;34m.\u001b[0m\u001b[0mnGenerations\u001b[0m\u001b[0;34m,\u001b[0m \u001b[0mstats\u001b[0m\u001b[0;34m,\u001b[0m \u001b[0mself\u001b[0m\u001b[0;34m.\u001b[0m\u001b[0mhallOfFame\u001b[0m\u001b[0;34m\u001b[0m\u001b[0;34m\u001b[0m\u001b[0m\n\u001b[0m\u001b[1;32m    124\u001b[0m     )\n\u001b[1;32m    125\u001b[0m     \u001b[0mend\u001b[0m \u001b[0;34m=\u001b[0m \u001b[0mtime\u001b[0m\u001b[0;34m.\u001b[0m\u001b[0mprocess_time\u001b[0m\u001b[0;34m(\u001b[0m\u001b[0;34m)\u001b[0m\u001b[0;34m\u001b[0m\u001b[0;34m\u001b[0m\u001b[0m\n",
            "\u001b[0;32m/usr/local/lib/python3.6/dist-packages/deap/algorithms.py\u001b[0m in \u001b[0;36meaMuPlusLambda\u001b[0;34m(population, toolbox, mu, lambda_, cxpb, mutpb, ngen, stats, halloffame, verbose)\u001b[0m\n\u001b[1;32m    300\u001b[0m     \u001b[0minvalid_ind\u001b[0m \u001b[0;34m=\u001b[0m \u001b[0;34m[\u001b[0m\u001b[0mind\u001b[0m \u001b[0;32mfor\u001b[0m \u001b[0mind\u001b[0m \u001b[0;32min\u001b[0m \u001b[0mpopulation\u001b[0m \u001b[0;32mif\u001b[0m \u001b[0;32mnot\u001b[0m \u001b[0mind\u001b[0m\u001b[0;34m.\u001b[0m\u001b[0mfitness\u001b[0m\u001b[0;34m.\u001b[0m\u001b[0mvalid\u001b[0m\u001b[0;34m]\u001b[0m\u001b[0;34m\u001b[0m\u001b[0;34m\u001b[0m\u001b[0m\n\u001b[1;32m    301\u001b[0m     \u001b[0mfitnesses\u001b[0m \u001b[0;34m=\u001b[0m \u001b[0mtoolbox\u001b[0m\u001b[0;34m.\u001b[0m\u001b[0mmap\u001b[0m\u001b[0;34m(\u001b[0m\u001b[0mtoolbox\u001b[0m\u001b[0;34m.\u001b[0m\u001b[0mevaluate\u001b[0m\u001b[0;34m,\u001b[0m \u001b[0minvalid_ind\u001b[0m\u001b[0;34m)\u001b[0m\u001b[0;34m\u001b[0m\u001b[0;34m\u001b[0m\u001b[0m\n\u001b[0;32m--> 302\u001b[0;31m     \u001b[0;32mfor\u001b[0m \u001b[0mind\u001b[0m\u001b[0;34m,\u001b[0m \u001b[0mfit\u001b[0m \u001b[0;32min\u001b[0m \u001b[0mzip\u001b[0m\u001b[0;34m(\u001b[0m\u001b[0minvalid_ind\u001b[0m\u001b[0;34m,\u001b[0m \u001b[0mfitnesses\u001b[0m\u001b[0;34m)\u001b[0m\u001b[0;34m:\u001b[0m\u001b[0;34m\u001b[0m\u001b[0;34m\u001b[0m\u001b[0m\n\u001b[0m\u001b[1;32m    303\u001b[0m         \u001b[0mind\u001b[0m\u001b[0;34m.\u001b[0m\u001b[0mfitness\u001b[0m\u001b[0;34m.\u001b[0m\u001b[0mvalues\u001b[0m \u001b[0;34m=\u001b[0m \u001b[0mfit\u001b[0m\u001b[0;34m\u001b[0m\u001b[0;34m\u001b[0m\u001b[0m\n\u001b[1;32m    304\u001b[0m \u001b[0;34m\u001b[0m\u001b[0m\n",
            "\u001b[0;32m<ipython-input-12-bcf9a8eb31a8>\u001b[0m in \u001b[0;36mevalFitness\u001b[0;34m(self, individual)\u001b[0m\n\u001b[1;32m     64\u001b[0m       \u001b[0;32mfor\u001b[0m \u001b[0my\u001b[0m \u001b[0;32min\u001b[0m \u001b[0mnp\u001b[0m\u001b[0;34m.\u001b[0m\u001b[0mnditer\u001b[0m\u001b[0;34m(\u001b[0m\u001b[0mself\u001b[0m\u001b[0;34m.\u001b[0m\u001b[0minputsToEvaluate\u001b[0m\u001b[0;34m)\u001b[0m\u001b[0;34m:\u001b[0m\u001b[0;34m\u001b[0m\u001b[0;34m\u001b[0m\u001b[0m\n\u001b[1;32m     65\u001b[0m         \u001b[0;32mtry\u001b[0m\u001b[0;34m:\u001b[0m\u001b[0;34m\u001b[0m\u001b[0;34m\u001b[0m\u001b[0m\n\u001b[0;32m---> 66\u001b[0;31m           \u001b[0mtexture\u001b[0m \u001b[0;34m=\u001b[0m \u001b[0mcreateTexture\u001b[0m\u001b[0;34m(\u001b[0m\u001b[0mx\u001b[0m\u001b[0;34m,\u001b[0m \u001b[0my\u001b[0m\u001b[0;34m)\u001b[0m\u001b[0;34m\u001b[0m\u001b[0;34m\u001b[0m\u001b[0m\n\u001b[0m\u001b[1;32m     67\u001b[0m           \u001b[0mresizedTexture\u001b[0m \u001b[0;34m=\u001b[0m \u001b[0mcv2\u001b[0m\u001b[0;34m.\u001b[0m\u001b[0mresize\u001b[0m\u001b[0;34m(\u001b[0m\u001b[0mtexture\u001b[0m\u001b[0;34m,\u001b[0m \u001b[0;34m(\u001b[0m\u001b[0mIMG_SIZE_TO_COMPARE_IMAGES\u001b[0m\u001b[0;34m,\u001b[0m \u001b[0mIMG_SIZE_TO_COMPARE_IMAGES\u001b[0m\u001b[0;34m)\u001b[0m\u001b[0;34m)\u001b[0m\u001b[0;34m\u001b[0m\u001b[0;34m\u001b[0m\u001b[0m\n\u001b[1;32m     68\u001b[0m           \u001b[0moutput\u001b[0m \u001b[0;34m+=\u001b[0m \u001b[0mcompare_ssim\u001b[0m\u001b[0;34m(\u001b[0m\u001b[0mself\u001b[0m\u001b[0;34m.\u001b[0m\u001b[0mresizedTargetImg\u001b[0m\u001b[0;34m,\u001b[0m \u001b[0mresizedTexture\u001b[0m\u001b[0;34m,\u001b[0m \u001b[0mmultichannel\u001b[0m\u001b[0;34m=\u001b[0m\u001b[0;32mTrue\u001b[0m\u001b[0;34m)\u001b[0m\u001b[0;34m\u001b[0m\u001b[0;34m\u001b[0m\u001b[0m\n",
            "\u001b[0;32m<string>\u001b[0m in \u001b[0;36m<lambda>\u001b[0;34m(x, y)\u001b[0m\n",
            "\u001b[0;32m<ipython-input-5-65d43e90d340>\u001b[0m in \u001b[0;36mperlinNoise\u001b[0;34m(self, scale, octaves)\u001b[0m\n\u001b[1;32m     15\u001b[0m     \u001b[0;32mfor\u001b[0m \u001b[0mx\u001b[0m \u001b[0;32min\u001b[0m \u001b[0mrange\u001b[0m\u001b[0;34m(\u001b[0m\u001b[0;36m0\u001b[0m\u001b[0;34m,\u001b[0m \u001b[0mself\u001b[0m\u001b[0;34m.\u001b[0m\u001b[0mtargetImgWidth\u001b[0m\u001b[0;34m)\u001b[0m\u001b[0;34m:\u001b[0m\u001b[0;34m\u001b[0m\u001b[0;34m\u001b[0m\u001b[0m\n\u001b[1;32m     16\u001b[0m       \u001b[0;32mfor\u001b[0m \u001b[0my\u001b[0m \u001b[0;32min\u001b[0m \u001b[0mrange\u001b[0m\u001b[0;34m(\u001b[0m\u001b[0;36m0\u001b[0m\u001b[0;34m,\u001b[0m \u001b[0mself\u001b[0m\u001b[0;34m.\u001b[0m\u001b[0mtargetImgHeight\u001b[0m\u001b[0;34m)\u001b[0m\u001b[0;34m:\u001b[0m\u001b[0;34m\u001b[0m\u001b[0;34m\u001b[0m\u001b[0m\n\u001b[0;32m---> 17\u001b[0;31m         \u001b[0mnoiseValue\u001b[0m \u001b[0;34m=\u001b[0m \u001b[0msnoise2\u001b[0m\u001b[0;34m(\u001b[0m\u001b[0mx\u001b[0m\u001b[0;34m/\u001b[0m\u001b[0mpositiveScale\u001b[0m\u001b[0;34m,\u001b[0m \u001b[0my\u001b[0m\u001b[0;34m/\u001b[0m\u001b[0mpositiveScale\u001b[0m\u001b[0;34m,\u001b[0m \u001b[0moctaves\u001b[0m\u001b[0;34m=\u001b[0m\u001b[0moctavesNormalized\u001b[0m\u001b[0;34m,\u001b[0m \u001b[0mbase\u001b[0m\u001b[0;34m=\u001b[0m\u001b[0;36m0\u001b[0m\u001b[0;34m)\u001b[0m\u001b[0;34m\u001b[0m\u001b[0;34m\u001b[0m\u001b[0m\n\u001b[0m\u001b[1;32m     18\u001b[0m         \u001b[0moutput\u001b[0m\u001b[0;34m[\u001b[0m\u001b[0mx\u001b[0m\u001b[0;34m]\u001b[0m\u001b[0;34m[\u001b[0m\u001b[0my\u001b[0m\u001b[0;34m]\u001b[0m \u001b[0;34m=\u001b[0m \u001b[0mnoiseValue\u001b[0m\u001b[0;34m\u001b[0m\u001b[0;34m\u001b[0m\u001b[0m\n\u001b[1;32m     19\u001b[0m     \u001b[0moutputUint8\u001b[0m \u001b[0;34m=\u001b[0m \u001b[0mconvertFloatToUint8\u001b[0m\u001b[0;34m(\u001b[0m\u001b[0moutput\u001b[0m\u001b[0;34m)\u001b[0m\u001b[0;34m\u001b[0m\u001b[0;34m\u001b[0m\u001b[0m\n",
            "\u001b[0;31mKeyboardInterrupt\u001b[0m: "
          ]
        }
      ]
    },
    {
      "cell_type": "code",
      "metadata": {
        "id": "UW0PVcNs4X8G",
        "colab_type": "code",
        "colab": {}
      },
      "source": [
        "cv2_imshow(TARGET_IMG)\n",
        "\n",
        "for individual in range(0, N_HALL_OF_FAME_INDIVIDUALS):\n",
        "  expression = textureGenerator.getResultantExpression(individual)\n",
        "  texture = textureGenerator.generateTexture(individual, 10, 124);\n",
        "  \n",
        "  print(expression)\n",
        "  plotTree(expression)\n",
        "  cv2_imshow(texture)\n"
      ],
      "execution_count": 0,
      "outputs": []
    }
  ]
}